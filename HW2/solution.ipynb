{
  "cells": [
    {
      "cell_type": "markdown",
      "metadata": {
        "id": "H65GLp4N8xYh"
      },
      "source": [
        "# IFT6135-A2022\n",
        "# Assignment 2: Practical\n",
        "\n",
        "You must fill in your answers to various questions in this notebook, following which you must export this notebook to a Python file named `solution.py` and submit it on Gradescope.\n",
        "\n",
        "Only edit the functions specified in the PDF (and wherever marked – `# WRITE CODE HERE`). Do not change definitions or edit the rest of the template, else the autograder will not work.\n",
        "\n",
        "**Make sure you request a GPU runtime!**"
      ]
    },
    {
      "cell_type": "code",
      "execution_count": null,
      "metadata": {
        "id": "tDBi_PVm30aA"
      },
      "outputs": [],
      "source": [
        "# DO NOT MODIFY!\n",
        "import math\n",
        "import json\n",
        "import time\n",
        "\n",
        "import matplotlib.pyplot as plt\n",
        "import numpy as np\n",
        "import random\n",
        "import torch\n",
        "import torch.nn as nn\n",
        "import torch.nn.functional as F\n",
        "import torch.optim as optim\n",
        "import torchtext\n",
        "\n",
        "device = \"cuda\" if torch.cuda.is_available() else \"cpu\"\n",
        "\n",
        "def fix_experiment_seed(seed=0):\n",
        "    random.seed(seed)\n",
        "    np.random.seed(seed)\n",
        "    torch.manual_seed(seed)\n",
        "    torch.cuda.manual_seed_all(seed)\n",
        "    torch.cuda.manual_seed(seed)\n",
        "    torch.backends.cudnn.deterministic = True\n",
        "    torch.backends.cudnn.benchmark = False\n",
        "\n",
        "fix_experiment_seed()"
      ]
    },
    {
      "cell_type": "markdown",
      "metadata": {
        "id": "h7Mvl2Fc9FCX"
      },
      "source": [
        "#### Data pre-processing\n",
        "\n",
        "Run the cells below by clicking the Run/Play button, but do not modify the code."
      ]
    },
    {
      "cell_type": "code",
      "execution_count": null,
      "metadata": {
        "id": "vMD-bWM2r1_h"
      },
      "outputs": [],
      "source": [
        "from collections import Counter\n",
        "import io\n",
        "import os\n",
        "from torchtext.data.utils import get_tokenizer\n",
        "from torchtext.utils import download_from_url, extract_archive"
      ]
    },
    {
      "cell_type": "code",
      "execution_count": null,
      "metadata": {
        "colab": {
          "base_uri": "https://localhost:8080/"
        },
        "id": "AKFVr7OJsUt_",
        "outputId": "e80397f2-8f5c-4af7-fe57-7ad025f86f04"
      },
      "outputs": [
        {
          "output_type": "execute_result",
          "data": {
            "text/plain": [
              "0"
            ]
          },
          "metadata": {},
          "execution_count": 3
        }
      ],
      "source": [
        "os.system(\"python3 -m spacy download en_core_web_sm\")\n",
        "os.system(\"python3 -m spacy download fr_core_news_sm\")"
      ]
    },
    {
      "cell_type": "code",
      "execution_count": null,
      "metadata": {
        "id": "PZ7yC-cIsG0d"
      },
      "outputs": [],
      "source": [
        "en_tokenizer = torchtext.data.utils.get_tokenizer(\"spacy\", \"en_core_web_sm\")\n",
        "fr_tokenizer = torchtext.data.utils.get_tokenizer(\"spacy\", \"fr_core_news_sm\")"
      ]
    },
    {
      "cell_type": "code",
      "execution_count": null,
      "metadata": {
        "colab": {
          "base_uri": "https://localhost:8080/"
        },
        "id": "tJxT2WpWsOBd",
        "outputId": "735efcb6-24fd-4c9b-c4f3-96f53c0a0bdc"
      },
      "outputs": [
        {
          "output_type": "stream",
          "name": "stderr",
          "text": [
            "100%|██████████| 569k/569k [00:00<00:00, 13.4MB/s]\n",
            "100%|██████████| 604k/604k [00:00<00:00, 13.1MB/s]\n",
            "100%|██████████| 21.6k/21.6k [00:00<00:00, 6.74MB/s]\n",
            "100%|██████████| 23.0k/23.0k [00:00<00:00, 3.35MB/s]\n",
            "100%|██████████| 21.1k/21.1k [00:00<00:00, 4.31MB/s]\n",
            "100%|██████████| 22.3k/22.3k [00:00<00:00, 6.25MB/s]\n"
          ]
        }
      ],
      "source": [
        "base_url = \"https://raw.githubusercontent.com/multi30k/dataset/master/data/task1/raw/\"\n",
        "train_urls = [\"train.en.gz\", \"train.fr.gz\"]\n",
        "val_urls = [\"val.en.gz\", \"val.fr.gz\"]\n",
        "test_urls = [\"test_2016_flickr.en.gz\", \"test_2016_flickr.fr.gz\"]\n",
        "train_paths = [extract_archive(download_from_url(base_url + url))[0] for url in train_urls]\n",
        "val_paths = [extract_archive(download_from_url(base_url + url))[0] for url in val_urls]\n",
        "test_paths = [extract_archive(download_from_url(base_url + url))[0] for url in test_urls]"
      ]
    },
    {
      "cell_type": "code",
      "execution_count": null,
      "metadata": {
        "id": "IXr3vA5xv0fw"
      },
      "outputs": [],
      "source": [
        "def generate_vocabulary(path, tokenizer):\n",
        "    counter = Counter()\n",
        "    with io.open(path, encoding=\"utf8\") as f:\n",
        "        for item in f:\n",
        "            counter.update(tokenizer(item))\n",
        "    vocabulary = torchtext.vocab.vocab(counter, specials=[\"<unk>\", \"<pad>\", \"<bos>\", \"<eos>\"])\n",
        "    vocabulary.set_default_index(vocabulary[\"<unk>\"])\n",
        "    return vocabulary\n",
        "\n",
        "en_vocabulary = generate_vocabulary(train_paths[0], en_tokenizer)\n",
        "fr_vocabulary = generate_vocabulary(train_paths[1], fr_tokenizer)"
      ]
    },
    {
      "cell_type": "code",
      "execution_count": null,
      "metadata": {
        "id": "xNLITDZbwzbg"
      },
      "outputs": [],
      "source": [
        "def get_processed_data(paths):\n",
        "    en_file_io = iter(io.open(paths[0], encoding=\"utf8\"))\n",
        "    fr_file_io = iter(io.open(paths[1], encoding=\"utf8\"))\n",
        "    data = []\n",
        "    for en_item, fr_item in zip(en_file_io, fr_file_io):\n",
        "        en_processed = torch.tensor([en_vocabulary[token] for token in en_tokenizer(en_item)], dtype=torch.long)\n",
        "        fr_processed = torch.tensor([fr_vocabulary[token] for token in fr_tokenizer(fr_item)], dtype=torch.long)\n",
        "        data.append((en_processed, fr_processed))\n",
        "    return data\n",
        "\n",
        "train_data = get_processed_data(train_paths)\n",
        "val_data = get_processed_data(val_paths)\n",
        "test_data = get_processed_data(test_paths)"
      ]
    },
    {
      "cell_type": "markdown",
      "metadata": {
        "id": "ee6W0iorETiD"
      },
      "source": [
        "### GRU Encoder-Decoder Model for Machine Translation"
      ]
    },
    {
      "cell_type": "markdown",
      "metadata": {
        "id": "eDnKum2D95GZ"
      },
      "source": [
        "#### Dataloader\n",
        "\n",
        "Running this cell will create `train_loader`, `val_loader` and `test_loader` for training, validation and testing respectively. The batch size is 128 and all sequences are of length 60 – shorter sequences are padded to this length. For this question, the data is provided in the shape `[sequence_length, batch_size]`. You need not modify this."
      ]
    },
    {
      "cell_type": "code",
      "execution_count": null,
      "metadata": {
        "id": "9CUgrDq897QF"
      },
      "outputs": [],
      "source": [
        "special_idx = {\n",
        "    \"bos\": en_vocabulary[\"<bos>\"],\n",
        "    \"pad\": en_vocabulary[\"<pad>\"],\n",
        "    \"eos\": en_vocabulary[\"<eos>\"]\n",
        "}\n",
        "\n",
        "max_len = 60\n",
        "\n",
        "def get_batch(data):\n",
        "    en_batch_, fr_batch_ = [], []\n",
        "    for en_item, fr_item in data:\n",
        "        en_batch_.append(torch.cat([torch.tensor([special_idx[\"bos\"]]), en_item, torch.tensor([special_idx[\"eos\"]])], dim=0))\n",
        "        fr_batch_.append(torch.cat([torch.tensor([special_idx[\"bos\"]]), fr_item, torch.tensor([special_idx[\"eos\"]])], dim=0))\n",
        "    en_batch_ = nn.utils.rnn.pad_sequence(en_batch_, padding_value=special_idx[\"pad\"])\n",
        "    fr_batch_ = nn.utils.rnn.pad_sequence(fr_batch_, padding_value=special_idx[\"pad\"])\n",
        "    en_batch = torch.full((max_len, en_batch_.shape[1]), special_idx[\"pad\"])\n",
        "    en_batch[:en_batch_.shape[0], :] = en_batch_\n",
        "    fr_batch = torch.full((max_len, fr_batch_.shape[1]), special_idx[\"pad\"])\n",
        "    fr_batch[:fr_batch_.shape[0], :] = fr_batch_\n",
        "    return en_batch, fr_batch\n",
        "\n",
        "batch_size = 128\n",
        "if __name__ == \"__main__\":\n",
        "    train_loader = torch.utils.data.DataLoader(train_data, batch_size=batch_size, shuffle=True, collate_fn=get_batch)\n",
        "    val_loader = torch.utils.data.DataLoader(val_data, batch_size=batch_size, shuffle=True, collate_fn=get_batch)\n",
        "    test_loader = torch.utils.data.DataLoader(test_data, batch_size=batch_size, shuffle=True, collate_fn=get_batch)"
      ]
    },
    {
      "cell_type": "code",
      "source": [
        "!nvidia-smi"
      ],
      "metadata": {
        "colab": {
          "base_uri": "https://localhost:8080/"
        },
        "id": "dQbTY-KdOFjX",
        "outputId": "c7f1728e-18bd-4c0d-e92c-080066d8f4cd"
      },
      "execution_count": null,
      "outputs": [
        {
          "output_type": "stream",
          "name": "stdout",
          "text": [
            "Sun Nov 13 23:22:46 2022       \n",
            "+-----------------------------------------------------------------------------+\n",
            "| NVIDIA-SMI 460.32.03    Driver Version: 460.32.03    CUDA Version: 11.2     |\n",
            "|-------------------------------+----------------------+----------------------+\n",
            "| GPU  Name        Persistence-M| Bus-Id        Disp.A | Volatile Uncorr. ECC |\n",
            "| Fan  Temp  Perf  Pwr:Usage/Cap|         Memory-Usage | GPU-Util  Compute M. |\n",
            "|                               |                      |               MIG M. |\n",
            "|===============================+======================+======================|\n",
            "|   0  Tesla T4            Off  | 00000000:00:04.0 Off |                    0 |\n",
            "| N/A   69C    P0    31W /  70W |    840MiB / 15109MiB |      0%      Default |\n",
            "|                               |                      |                  N/A |\n",
            "+-------------------------------+----------------------+----------------------+\n",
            "                                                                               \n",
            "+-----------------------------------------------------------------------------+\n",
            "| Processes:                                                                  |\n",
            "|  GPU   GI   CI        PID   Type   Process name                  GPU Memory |\n",
            "|        ID   ID                                                   Usage      |\n",
            "|=============================================================================|\n",
            "+-----------------------------------------------------------------------------+\n"
          ]
        }
      ]
    },
    {
      "cell_type": "markdown",
      "metadata": {
        "id": "V2xAi92QEHxu"
      },
      "source": [
        "#### Encoder-Decoder Model"
      ]
    },
    {
      "cell_type": "code",
      "execution_count": null,
      "metadata": {
        "id": "o8xJkv6uEOBc"
      },
      "outputs": [],
      "source": [
        "class Encoder(nn.Module):\n",
        "    \"\"\"\n",
        "    Defines an encoder model containing a GRU.\n",
        "    \"\"\"\n",
        "    def __init__(\n",
        "        self,\n",
        "        vocabulary_size=10838, # Size of source vocabulary, given by len(en_vocabulary)\n",
        "        embedding_size=32,     # Size of nn.Embedding\n",
        "        hidden_size=64,        # Hidden size for nn.GRU\n",
        "        num_layers=1,          # Number of layers in the nn.GRU\n",
        "        use_dropout=False,     # Whether or not to use Dropout\n",
        "        p_dropout=0.1          # Dropout probability\n",
        "    ):\n",
        "        super(Encoder, self).__init__()\n",
        "\n",
        "        self.vocabulary_size = vocabulary_size\n",
        "        self.embedding_size = embedding_size\n",
        "        self.hidden_size = hidden_size\n",
        "        self.num_layers = num_layers\n",
        "        self.use_dropout = use_dropout\n",
        "\n",
        "        self.embedding   = nn.Embedding(self.vocabulary_size,self.embedding_size,padding_idx =special_idx[\"pad\"] ) #  (for padding_idx, use special_idx[\"pad\"])\n",
        "        if self.use_dropout:\n",
        "            self.dropout = nn.Dropout(p_dropout)\n",
        "        self.gru         = nn.GRU(self.embedding_size,self.hidden_size,self.num_layers)\n",
        "\n",
        "    def forward(self, x):\n",
        "        out = self.embedding(x)\n",
        "        if self.use_dropout:\n",
        "          out = self.dropout(out)\n",
        "        out,f_hidden = self.gru(out)\n",
        "        # x -> embedding -> dropout (if use_dropout) -> gru -> return output and final hidden\n",
        "        return out,f_hidden"
      ]
    },
    {
      "cell_type": "code",
      "execution_count": null,
      "metadata": {
        "id": "jcuy9XX40v07"
      },
      "outputs": [],
      "source": [
        "# from tqdm import tqdm\n",
        "# data_source, data_target = [],[]\n",
        "# for source, target in tqdm(train_loader):\n",
        "#     data_source.append(source)\n",
        "#     data_target.append(target)"
      ]
    },
    {
      "cell_type": "code",
      "execution_count": null,
      "metadata": {
        "id": "O3UyIEWvBPoS"
      },
      "outputs": [],
      "source": [
        "# source = data_source[0]\n",
        "# target = data_target[0]"
      ]
    },
    {
      "cell_type": "code",
      "execution_count": null,
      "metadata": {
        "id": "LETG7700BaYu"
      },
      "outputs": [],
      "source": [
        "# _,hidden = Encoder()(source)\n",
        "# out = (Decoder()(target[0],hidden)[0])\n",
        "# out.shape"
      ]
    },
    {
      "cell_type": "code",
      "execution_count": null,
      "metadata": {
        "id": "69Iix0mrq2pH"
      },
      "outputs": [],
      "source": [
        "# Encoder().embedding(out)"
      ]
    },
    {
      "cell_type": "code",
      "execution_count": null,
      "metadata": {
        "id": "qSndBFyZpbSv"
      },
      "outputs": [],
      "source": [
        "# # out = torch.argmax(out,1)\n",
        "# out"
      ]
    },
    {
      "cell_type": "code",
      "execution_count": null,
      "metadata": {
        "id": "wAPBq9hTQR0V"
      },
      "outputs": [],
      "source": [
        "# hidden.shape"
      ]
    },
    {
      "cell_type": "code",
      "execution_count": null,
      "metadata": {
        "id": "4ApBpGuXNS7A"
      },
      "outputs": [],
      "source": [
        "class Decoder(nn.Module):\n",
        "    \"\"\"\n",
        "    Defines a decoder model containing a GRU.\n",
        "    \"\"\"\n",
        "    def __init__(\n",
        "        self,\n",
        "        vocabulary_size=11510, # Size of target vocabulary, given by len(fr_vocabulary)\n",
        "        embedding_size=32,     # Size of nn.Embedding\n",
        "        hidden_size=64,        # Hidden size for nn.GRU\n",
        "        num_layers=1,          # Number of layers in the nn.GRU\n",
        "        use_dropout=False,     # Whether or not to use Dropout\n",
        "        p_dropout=0.1          # Dropout probability\n",
        "    ):\n",
        "        super(Decoder, self).__init__()\n",
        "\n",
        "        self.vocabulary_size = vocabulary_size\n",
        "        self.embedding_size = embedding_size\n",
        "        self.hidden_size = hidden_size\n",
        "        self.num_layers = num_layers\n",
        "        self.use_dropout = use_dropout\n",
        "\n",
        "        self.embedding   = nn.Embedding(self.vocabulary_size,self.embedding_size )\n",
        "        if self.use_dropout:\n",
        "            self.dropout = nn.Dropout(p_dropout) # WRITE CODE HERE (use p_dropout)\n",
        "        self.gru         = nn.GRU(self.embedding_size,self.hidden_size,self.num_layers,batch_first=False) # WRITE CODE HERE (set batch_first=False)\n",
        "        self.fc          = nn.Linear(self.hidden_size,self.vocabulary_size)\n",
        "\n",
        "    def forward(self, x, hidden):\n",
        "        x = x.unsqueeze(0)\n",
        "        out = self.embedding(x)\n",
        "        if self.use_dropout:\n",
        "          out = self.dropout(out)\n",
        "        output,f_hidden = self.gru(out,hidden)\n",
        "        output = output.squeeze(0)\n",
        "        out = (self.fc(output))\n",
        "        # x -> embedding -> dropout (if use_dropout) -> gru -> output and final hidden\n",
        "        # output -> fc -> out\n",
        "        # return out and final hidden\n",
        "\n",
        "\n",
        "        return out,f_hidden"
      ]
    },
    {
      "cell_type": "code",
      "execution_count": null,
      "metadata": {
        "id": "NoWiZGJmNjz6"
      },
      "outputs": [],
      "source": [
        "class Seq2Seq(nn.Module):\n",
        "    \"\"\"\n",
        "    Defines an encoder-decoder (sequence-to-sequence) model for machine translation.\n",
        "    \"\"\"\n",
        "    def __init__(\n",
        "        self,\n",
        "        encoder,\n",
        "        decoder,\n",
        "        strategy=\"greedy\"\n",
        "    ):\n",
        "        super(Seq2Seq, self).__init__()\n",
        "\n",
        "        self.encoder = encoder\n",
        "        self.decoder = decoder\n",
        "        self.strategy = strategy\n",
        "\n",
        "    def forward(self, source, target):\n",
        "        batch_size = source.shape[1]\n",
        "        max_length = target.shape[0]\n",
        "        target_vocabulary_size = self.decoder.vocabulary_size\n",
        "\n",
        "        outputs = torch.zeros(max_length, batch_size, target_vocabulary_size).to(device)\n",
        "        sentences = torch.zeros(max_length, batch_size).to(device)\n",
        "\n",
        "        # Get the encoder outputs and hidden state for the source sentences\n",
        "        encoder_out, hidden = self.encoder(source)\n",
        "\n",
        "        # The first input token passed to the decoder is <bos>\n",
        "        out = target[0, :]\n",
        "\n",
        "        if self.strategy == \"greedy\":\n",
        "            for idx in range(1, max_length):\n",
        "                # WRITE CODE HERE\n",
        "\n",
        "                # Get the decoder outputs and hidden state for the input token and hidden state\n",
        "                out, hidden = self.decoder(out,hidden)\n",
        "                outputs[idx] = out\n",
        "\n",
        "\n",
        "                # WRITE CODE HERE\n",
        "                # Reassign out with the greedy choice (argmax) for each batch\n",
        "                # (batch_size, vocabulary_size) -> (batch_size)\n",
        "                out = torch.argmax(out,1)\n",
        "\n",
        "                sentences[idx] = out\n",
        "\n",
        "        elif self.strategy == \"random\":\n",
        "            temperature = 0.5\n",
        "            for idx in range(1, max_length):\n",
        "                # WRITE CODE HERE\n",
        "                # Get the decoder outputs and hidden state for the input token and hidden state\n",
        "                out, hidden = self.decoder(out,hidden)\n",
        "\n",
        "                outputs[idx] = out\n",
        "\n",
        "                # WRITE CODE HERE\n",
        "                # Reassign out with the randomly sampled choice for each batch\n",
        "                #  p(x_i | x_{1:i-1}) =  exp(o_i / temperature) / sum(exp(o / temperature))\n",
        "                # (batch_size, vocabulary_size) -> (batch_size)\n",
        "                temperature = 0.5\n",
        "                P = nn.functional.softmax(out/temperature, dim=1)\n",
        "                out = torch.multinomial(P,1).squeeze(-1)\n",
        "\n",
        "                sentences[idx] = out\n",
        "        else:\n",
        "            raise Exception(\"Invalid decoding strategy!\")\n",
        "\n",
        "        return outputs, sentences"
      ]
    },
    {
      "cell_type": "code",
      "execution_count": null,
      "metadata": {
        "id": "xGkCiepf0GgB"
      },
      "outputs": [],
      "source": [
        "# _,hidden = Encoder()(source)\n",
        "# out = target[2, :]\n",
        "#\n",
        "# out,hidden = Decoder()(out,hidden)\n",
        "# temperature = 0.5\n",
        "# P = nn.functional.softmax(out/temperature)\n",
        "# P.shape\n"
      ]
    },
    {
      "cell_type": "code",
      "execution_count": null,
      "metadata": {
        "id": "V0bvizCEIK7S"
      },
      "outputs": [],
      "source": [
        "# torch.multinomial(P,1).squeeze(-1)"
      ]
    },
    {
      "cell_type": "code",
      "execution_count": null,
      "metadata": {
        "id": "2LA5krhr4beJ"
      },
      "outputs": [],
      "source": [
        "# a = torch.distributions.categorical.Categorical(torch.Tensor([.1,.1,.8])).sample(\n",
        "# )\n",
        "# d = []\n",
        "# for j in range(100):\n",
        "#   d.append(torch.distributions.categorical.Categorical(torch.Tensor([.15,.1,.8])).sample(\n",
        "# ))"
      ]
    },
    {
      "cell_type": "code",
      "execution_count": null,
      "metadata": {
        "id": "ODqhtpU9_BeC"
      },
      "outputs": [],
      "source": [
        "\n",
        "# nn.functional.softmax(out/temperature) == torch.stack([torch.exp(out[i] / temperature) / sum(torch.exp(out / temperature)) for i in range(len(out))])\n",
        "# # P0 = torch.distributions.categorical.Categorical(P)\n",
        "# (out/temperature)[0][5] == out[0][5]/temperature"
      ]
    },
    {
      "cell_type": "code",
      "execution_count": null,
      "metadata": {
        "id": "PFlogyEbCt8C"
      },
      "outputs": [],
      "source": [
        "# sum(P[2])\n",
        "# sum(nn.functional.softmax(out[0]/temperature))"
      ]
    },
    {
      "cell_type": "markdown",
      "metadata": {
        "id": "w_vYf_HX3LfM"
      },
      "source": [
        "#### Training"
      ]
    },
    {
      "cell_type": "code",
      "execution_count": null,
      "metadata": {
        "id": "-j1r4EFM3NaM"
      },
      "outputs": [],
      "source": [
        "def get_criterion():\n",
        "    # WRITE CODE HERE\n",
        "    # The criterion must compute the cross-entropy loss but ignore special_idx[\"pad\"].\n",
        "    criterion = nn.CrossEntropyLoss(ignore_index=special_idx[\"pad\"])\n",
        "    return criterion"
      ]
    },
    {
      "cell_type": "code",
      "execution_count": null,
      "metadata": {
        "id": "QAoSkhItYCbj"
      },
      "outputs": [],
      "source": [
        "def train(model, dataloader, optimizer, criterion):\n",
        "    train_loss = 0.\n",
        "    train_ppl = 0.\n",
        "    model.train()\n",
        "    start = time.time()\n",
        "\n",
        "    for source, target in dataloader:\n",
        "        source, target = source.to(device), target.to(device)\n",
        "\n",
        "        optimizer.zero_grad()\n",
        "        output, _ = model(source, target)\n",
        "        output_reshape = output[1:].view(-1, output.shape[-1])\n",
        "        target = target[1:].view(-1)\n",
        "        loss = criterion(output_reshape, target)\n",
        "        loss.backward()\n",
        "        optimizer.step()\n",
        "        train_loss += loss.item()\n",
        "\n",
        "    end = time.time()\n",
        "    train_loss /= len(dataloader)\n",
        "    train_ppl = math.exp(train_loss)\n",
        "    train_time = end - start\n",
        "    return train_loss, train_ppl, train_time\n",
        "\n",
        "def validate(model, dataloader, criterion):\n",
        "    val_loss = 0.\n",
        "    val_ppl = 0.\n",
        "    model.eval()\n",
        "    start = time.time()\n",
        "\n",
        "    for source, target in dataloader:\n",
        "        source, target = source.to(device), target.to(device)\n",
        "\n",
        "        output, _ = model(source, target)\n",
        "        output_reshape = output[1:].view(-1, output.shape[-1])\n",
        "        target = target[1:].view(-1)\n",
        "        loss = criterion(output_reshape, target)\n",
        "        val_loss += loss.item()\n",
        "\n",
        "    end = time.time()\n",
        "    val_loss /= len(dataloader)\n",
        "    val_ppl = math.exp(val_loss)\n",
        "    val_time = end - start\n",
        "    return val_loss, val_ppl, val_time\n",
        "\n",
        "def compute_bleu_gru(model, dataloader):\n",
        "    targets = []\n",
        "    translations = []\n",
        "\n",
        "    for source, target in dataloader:\n",
        "        source, target = source.to(device), target.to(device)\n",
        "\n",
        "        _, output = model(source, target)\n",
        "        for i in range(target.shape[1]):\n",
        "            targets.append([[]])\n",
        "            for token in target[1:, i]:\n",
        "                if token in special_idx.values():\n",
        "                    break\n",
        "                targets[-1][0].append(fr_vocabulary.get_itos()[token])\n",
        "            translations.append([])\n",
        "            for token in output[1:, i]:\n",
        "                if token in special_idx.values():\n",
        "                    break\n",
        "                translations[-1].append(fr_vocabulary.get_itos()[token.int().item()])\n",
        "\n",
        "    return torchtext.data.metrics.bleu_score(translations, targets, max_n=1, weights=[1]) * 100, \\\n",
        "           torchtext.data.metrics.bleu_score(translations, targets, max_n=2, weights=[0.5]*2) * 100,"
      ]
    },
    {
      "cell_type": "code",
      "execution_count": null,
      "metadata": {
        "colab": {
          "base_uri": "https://localhost:8080/"
        },
        "id": "QbTaEStz5tQi",
        "outputId": "768064d7-bf21-4863-b413-002cdeed3edc"
      },
      "outputs": [
        {
          "output_type": "stream",
          "name": "stdout",
          "text": [
            "Epoch: 0\n",
            "Train Loss: 6.023 | Train PPL: 412.884 | Train Time: 89.801\n",
            "Valid Loss: 5.125 | Valid PPL: 168.192 | Valid Time: 1.386\n",
            "Epoch: 1\n",
            "Train Loss: 5.062 | Train PPL: 157.861 | Train Time: 88.168\n",
            "Valid Loss: 5.046 | Valid PPL: 155.342 | Valid Time: 1.400\n",
            "Epoch: 2\n",
            "Train Loss: 5.008 | Train PPL: 149.572 | Train Time: 88.036\n",
            "Valid Loss: 5.023 | Valid PPL: 151.890 | Valid Time: 1.390\n",
            "Epoch: 3\n",
            "Train Loss: 4.985 | Train PPL: 146.167 | Train Time: 88.115\n",
            "Valid Loss: 5.021 | Valid PPL: 151.536 | Valid Time: 1.387\n",
            "Epoch: 4\n",
            "Train Loss: 4.971 | Train PPL: 144.183 | Train Time: 88.024\n",
            "Valid Loss: 5.017 | Valid PPL: 151.017 | Valid Time: 1.381\n",
            "Epoch: 5\n",
            "Train Loss: 4.963 | Train PPL: 142.954 | Train Time: 88.147\n",
            "Valid Loss: 5.018 | Valid PPL: 151.169 | Valid Time: 1.393\n",
            "Epoch: 6\n",
            "Train Loss: 4.956 | Train PPL: 141.977 | Train Time: 88.028\n",
            "Valid Loss: 5.019 | Valid PPL: 151.247 | Valid Time: 1.371\n",
            "Epoch: 7\n",
            "Train Loss: 4.950 | Train PPL: 141.228 | Train Time: 88.028\n",
            "Valid Loss: 5.019 | Valid PPL: 151.295 | Valid Time: 1.382\n",
            "Epoch: 8\n",
            "Train Loss: 4.946 | Train PPL: 140.563 | Train Time: 88.015\n",
            "Valid Loss: 5.020 | Valid PPL: 151.409 | Valid Time: 1.385\n",
            "Epoch: 9\n",
            "Train Loss: 4.942 | Train PPL: 140.090 | Train Time: 88.015\n",
            "Valid Loss: 5.023 | Valid PPL: 151.813 | Valid Time: 1.372\n",
            "== Test Loss: 5.005 | Test PPL: 149.119 | Test Time: 1.364 ==\n",
            "Test BLEU-1: 24.054333107914104 Test BLEU-2: 14.33895271211818\n"
          ]
        }
      ],
      "source": [
        "fix_experiment_seed()\n",
        "use_dropout = False\n",
        "strategy = \"greedy\"\n",
        "encoder = Encoder(use_dropout=use_dropout).to(device)\n",
        "decoder = Decoder(use_dropout=use_dropout).to(device)\n",
        "model = Seq2Seq(encoder, decoder, strategy=strategy).to(device)\n",
        "optimizer = optim.Adam(model.parameters())\n",
        "criterion = get_criterion()\n",
        "\n",
        "results = {\n",
        "    \"train_losses\": [],\n",
        "    \"train_ppls\":   [],\n",
        "    \"train_times\":  [],\n",
        "    \"valid_losses\": [],\n",
        "    \"valid_ppls\":   [],\n",
        "    \"valid_times\":  [],\n",
        "    \"test_loss\":    0.,\n",
        "    \"test_ppl\":     0.,\n",
        "    \"test_bleu1\":   0.,\n",
        "    \"test_bleu2\":   0.,\n",
        "    \"test_time\":    0.\n",
        "}\n",
        "\n",
        "if __name__ == \"__main__\":\n",
        "    n_epochs = 10\n",
        "\n",
        "    for epoch in range(n_epochs):\n",
        "        train_loss, train_ppl, train_time = train(model, train_loader, optimizer, criterion)\n",
        "        valid_loss, valid_ppl, valid_time = validate(model, val_loader, criterion)\n",
        "\n",
        "        print(f\"Epoch: {epoch}\")\n",
        "        print(f\"Train Loss: {train_loss:.3f} | Train PPL: {train_ppl:7.3f} | Train Time: {train_time:.3f}\")\n",
        "        print(f\"Valid Loss: {valid_loss:.3f} | Valid PPL: {valid_ppl:7.3f} | Valid Time: {valid_time:.3f}\")\n",
        "\n",
        "        results[\"train_losses\"].append(train_loss)\n",
        "        results[\"train_ppls\"].append(train_ppl)\n",
        "        results[\"train_times\"].append(train_time)\n",
        "        results[\"valid_losses\"].append(valid_loss)\n",
        "        results[\"valid_ppls\"].append(valid_ppl)\n",
        "        results[\"valid_times\"].append(valid_time)\n",
        "\n",
        "    test_loss, test_ppl, test_time = validate(model, test_loader, criterion)\n",
        "    print(f\"== Test Loss: {test_loss:.3f} | Test PPL: {test_ppl:7.3f} | Test Time: {test_time:.3f} ==\")\n",
        "    results[\"test_loss\"] = test_loss\n",
        "    results[\"test_ppl\"] = test_ppl\n",
        "    results[\"test_time\"] = test_time\n",
        "\n",
        "    results[\"test_bleu1\"], results[\"test_bleu2\"] = compute_bleu_gru(model, test_loader)\n",
        "    print(\"Test BLEU-1:\", results[\"test_bleu1\"], \"Test BLEU-2:\", results[\"test_bleu2\"])\n",
        "\n",
        "    json.dump(results, open(f\"seq2seq-adam-dropout_{str(use_dropout)}-strategy_{strategy}.json\", \"w\"), indent=4)"
      ]
    },
    {
      "cell_type": "code",
      "source": [
        "!nvidia-smi"
      ],
      "metadata": {
        "colab": {
          "base_uri": "https://localhost:8080/"
        },
        "id": "8TBkNYdITTPV",
        "outputId": "ba9088da-9543-40f8-9e18-58552cc09b35"
      },
      "execution_count": null,
      "outputs": [
        {
          "output_type": "stream",
          "name": "stdout",
          "text": [
            "Sun Nov 13 23:39:15 2022       \n",
            "+-----------------------------------------------------------------------------+\n",
            "| NVIDIA-SMI 460.32.03    Driver Version: 460.32.03    CUDA Version: 11.2     |\n",
            "|-------------------------------+----------------------+----------------------+\n",
            "| GPU  Name        Persistence-M| Bus-Id        Disp.A | Volatile Uncorr. ECC |\n",
            "| Fan  Temp  Perf  Pwr:Usage/Cap|         Memory-Usage | GPU-Util  Compute M. |\n",
            "|                               |                      |               MIG M. |\n",
            "|===============================+======================+======================|\n",
            "|   0  Tesla T4            Off  | 00000000:00:04.0 Off |                    0 |\n",
            "| N/A   72C    P0    32W /  70W |   3312MiB / 15109MiB |      0%      Default |\n",
            "|                               |                      |                  N/A |\n",
            "+-------------------------------+----------------------+----------------------+\n",
            "                                                                               \n",
            "+-----------------------------------------------------------------------------+\n",
            "| Processes:                                                                  |\n",
            "|  GPU   GI   CI        PID   Type   Process name                  GPU Memory |\n",
            "|        ID   ID                                                   Usage      |\n",
            "|=============================================================================|\n",
            "+-----------------------------------------------------------------------------+\n"
          ]
        }
      ]
    },
    {
      "cell_type": "code",
      "execution_count": null,
      "metadata": {
        "colab": {
          "base_uri": "https://localhost:8080/"
        },
        "id": "-sSoFQEshAuP",
        "outputId": "964261eb-a75b-4e4f-ebba-768a7fca728f"
      },
      "outputs": [
        {
          "output_type": "stream",
          "name": "stdout",
          "text": [
            "Epoch: 0\n",
            "Train Loss: 9.308 | Train PPL: 11029.010 | Train Time: 89.723\n",
            "Valid Loss: 9.248 | Valid PPL: 10383.806 | Valid Time: 1.397\n",
            "Epoch: 1\n",
            "Train Loss: 9.132 | Train PPL: 9245.380 | Train Time: 88.327\n",
            "Valid Loss: 8.715 | Valid PPL: 6090.888 | Valid Time: 1.423\n",
            "Epoch: 2\n",
            "Train Loss: 8.122 | Train PPL: 3366.543 | Train Time: 88.470\n",
            "Valid Loss: 7.611 | Valid PPL: 2019.696 | Valid Time: 1.429\n",
            "Epoch: 3\n",
            "Train Loss: 7.565 | Train PPL: 1929.451 | Train Time: 88.600\n",
            "Valid Loss: 7.388 | Valid PPL: 1616.506 | Valid Time: 1.394\n",
            "Epoch: 4\n",
            "Train Loss: 7.175 | Train PPL: 1306.021 | Train Time: 88.426\n",
            "Valid Loss: 7.023 | Valid PPL: 1122.478 | Valid Time: 1.401\n",
            "Epoch: 5\n",
            "Train Loss: 6.901 | Train PPL: 993.585 | Train Time: 88.301\n",
            "Valid Loss: 6.798 | Valid PPL: 895.692 | Valid Time: 1.388\n",
            "Epoch: 6\n",
            "Train Loss: 6.712 | Train PPL: 822.402 | Train Time: 88.959\n",
            "Valid Loss: 6.632 | Valid PPL: 759.335 | Valid Time: 1.389\n",
            "Epoch: 7\n",
            "Train Loss: 6.580 | Train PPL: 720.492 | Train Time: 88.524\n",
            "Valid Loss: 6.523 | Valid PPL: 680.632 | Valid Time: 1.400\n",
            "Epoch: 8\n",
            "Train Loss: 6.463 | Train PPL: 641.173 | Train Time: 88.857\n",
            "Valid Loss: 6.396 | Valid PPL: 599.354 | Valid Time: 1.393\n",
            "Epoch: 9\n",
            "Train Loss: 6.333 | Train PPL: 562.824 | Train Time: 88.638\n",
            "Valid Loss: 6.271 | Valid PPL: 528.978 | Valid Time: 1.399\n",
            "== Test Loss: 6.289 | Test PPL: 538.515 | Test Time: 1.386 ==\n",
            "Test BLEU-1: 3.538982942700386 Test BLEU-2: 0.0\n"
          ]
        }
      ],
      "source": [
        "fix_experiment_seed()\n",
        "use_dropout = True\n",
        "strategy = \"greedy\"\n",
        "encoder = Encoder(use_dropout=use_dropout).to(device)\n",
        "decoder = Decoder(use_dropout=use_dropout).to(device)\n",
        "model = Seq2Seq(encoder, decoder, strategy=strategy).to(device)\n",
        "optimizer = optim.SGD(model.parameters(), lr=1e-2)\n",
        "criterion = get_criterion()\n",
        "\n",
        "results = {\n",
        "    \"train_losses\": [],\n",
        "    \"train_ppls\":   [],\n",
        "    \"train_times\":  [],\n",
        "    \"valid_losses\": [],\n",
        "    \"valid_ppls\":   [],\n",
        "    \"valid_times\":  [],\n",
        "    \"test_loss\":    0.,\n",
        "    \"test_ppl\":     0.,\n",
        "    \"test_bleu1\":   0.,\n",
        "    \"test_bleu2\":   0.,\n",
        "    \"test_time\":    0.\n",
        "}\n",
        "\n",
        "if __name__ == \"__main__\":\n",
        "    n_epochs = 10\n",
        "\n",
        "    for epoch in range(n_epochs):\n",
        "        train_loss, train_ppl, train_time = train(model, train_loader, optimizer, criterion)\n",
        "        valid_loss, valid_ppl, valid_time = validate(model, val_loader, criterion)\n",
        "\n",
        "        print(f\"Epoch: {epoch}\")\n",
        "        print(f\"Train Loss: {train_loss:.3f} | Train PPL: {train_ppl:7.3f} | Train Time: {train_time:.3f}\")\n",
        "        print(f\"Valid Loss: {valid_loss:.3f} | Valid PPL: {valid_ppl:7.3f} | Valid Time: {valid_time:.3f}\")\n",
        "\n",
        "        results[\"train_losses\"].append(train_loss)\n",
        "        results[\"train_ppls\"].append(train_ppl)\n",
        "        results[\"train_times\"].append(train_time)\n",
        "        results[\"valid_losses\"].append(valid_loss)\n",
        "        results[\"valid_ppls\"].append(valid_ppl)\n",
        "        results[\"valid_times\"].append(valid_time)\n",
        "\n",
        "    test_loss, test_ppl, test_time = validate(model, test_loader, criterion)\n",
        "    print(f\"== Test Loss: {test_loss:.3f} | Test PPL: {test_ppl:7.3f} | Test Time: {test_time:.3f} ==\")\n",
        "    results[\"test_loss\"] = test_loss\n",
        "    results[\"test_ppl\"] = test_ppl\n",
        "    results[\"test_time\"] = test_time\n",
        "\n",
        "    results[\"test_bleu1\"], results[\"test_bleu2\"] = compute_bleu_gru(model, test_loader)\n",
        "    print(\"Test BLEU-1:\", results[\"test_bleu1\"], \"Test BLEU-2:\", results[\"test_bleu2\"])\n",
        "\n",
        "    json.dump(results, open(f\"seq2seq-sgd-dropout_{str(use_dropout)}-strategy_{strategy}.json\", \"w\"), indent=4)"
      ]
    },
    {
      "cell_type": "code",
      "source": [
        "!nvidia-smi"
      ],
      "metadata": {
        "colab": {
          "base_uri": "https://localhost:8080/"
        },
        "id": "40Nyjzu5XoGj",
        "outputId": "0b51dfdd-4881-403a-84a8-97aca718a9f8"
      },
      "execution_count": null,
      "outputs": [
        {
          "output_type": "stream",
          "name": "stdout",
          "text": [
            "Sun Nov 13 23:58:07 2022       \n",
            "+-----------------------------------------------------------------------------+\n",
            "| NVIDIA-SMI 460.32.03    Driver Version: 460.32.03    CUDA Version: 11.2     |\n",
            "|-------------------------------+----------------------+----------------------+\n",
            "| GPU  Name        Persistence-M| Bus-Id        Disp.A | Volatile Uncorr. ECC |\n",
            "| Fan  Temp  Perf  Pwr:Usage/Cap|         Memory-Usage | GPU-Util  Compute M. |\n",
            "|                               |                      |               MIG M. |\n",
            "|===============================+======================+======================|\n",
            "|   0  Tesla T4            Off  | 00000000:00:04.0 Off |                    0 |\n",
            "| N/A   73C    P0    32W /  70W |   3312MiB / 15109MiB |      0%      Default |\n",
            "|                               |                      |                  N/A |\n",
            "+-------------------------------+----------------------+----------------------+\n",
            "                                                                               \n",
            "+-----------------------------------------------------------------------------+\n",
            "| Processes:                                                                  |\n",
            "|  GPU   GI   CI        PID   Type   Process name                  GPU Memory |\n",
            "|        ID   ID                                                   Usage      |\n",
            "|=============================================================================|\n",
            "+-----------------------------------------------------------------------------+\n"
          ]
        }
      ]
    },
    {
      "cell_type": "code",
      "execution_count": null,
      "metadata": {
        "colab": {
          "base_uri": "https://localhost:8080/"
        },
        "id": "SnVpduWFgmUr",
        "outputId": "2d975c0a-b35c-4fb6-aeec-02b965844198"
      },
      "outputs": [
        {
          "output_type": "stream",
          "name": "stdout",
          "text": [
            "Epoch: 0\n",
            "Train Loss: 5.889 | Train PPL: 361.086 | Train Time: 88.945\n",
            "Valid Loss: 5.103 | Valid PPL: 164.547 | Valid Time: 1.413\n",
            "Epoch: 1\n",
            "Train Loss: 5.048 | Train PPL: 155.746 | Train Time: 88.803\n",
            "Valid Loss: 5.039 | Valid PPL: 154.278 | Valid Time: 1.409\n",
            "Epoch: 2\n",
            "Train Loss: 5.001 | Train PPL: 148.632 | Train Time: 88.599\n",
            "Valid Loss: 5.022 | Valid PPL: 151.766 | Valid Time: 1.382\n",
            "Epoch: 3\n",
            "Train Loss: 4.982 | Train PPL: 145.770 | Train Time: 88.590\n",
            "Valid Loss: 5.021 | Valid PPL: 151.617 | Valid Time: 1.380\n",
            "Epoch: 4\n",
            "Train Loss: 4.970 | Train PPL: 144.010 | Train Time: 88.576\n",
            "Valid Loss: 5.019 | Valid PPL: 151.295 | Valid Time: 1.456\n",
            "Epoch: 5\n",
            "Train Loss: 4.962 | Train PPL: 142.881 | Train Time: 88.687\n",
            "Valid Loss: 5.021 | Valid PPL: 151.575 | Valid Time: 1.455\n",
            "Epoch: 6\n",
            "Train Loss: 4.955 | Train PPL: 141.951 | Train Time: 88.452\n",
            "Valid Loss: 5.021 | Valid PPL: 151.544 | Valid Time: 1.390\n",
            "Epoch: 7\n",
            "Train Loss: 4.950 | Train PPL: 141.221 | Train Time: 88.772\n",
            "Valid Loss: 5.021 | Valid PPL: 151.567 | Valid Time: 1.409\n",
            "Epoch: 8\n",
            "Train Loss: 4.940 | Train PPL: 139.708 | Train Time: 88.365\n",
            "Valid Loss: 4.999 | Valid PPL: 148.249 | Valid Time: 1.443\n",
            "Epoch: 9\n",
            "Train Loss: 4.890 | Train PPL: 132.992 | Train Time: 88.409\n",
            "Valid Loss: 4.930 | Valid PPL: 138.386 | Valid Time: 1.400\n",
            "== Test Loss: 4.909 | Test PPL: 135.438 | Test Time: 1.368 ==\n",
            "Test BLEU-1: 27.17851951208979 Test BLEU-2: 16.10931339543667\n"
          ]
        }
      ],
      "source": [
        "fix_experiment_seed()\n",
        "use_dropout = True\n",
        "strategy = \"greedy\"\n",
        "encoder = Encoder(use_dropout=use_dropout).to(device)\n",
        "decoder = Decoder(use_dropout=use_dropout).to(device)\n",
        "model = Seq2Seq(encoder, decoder, strategy=strategy).to(device)\n",
        "optimizer = optim.Adam(model.parameters())\n",
        "criterion = get_criterion()\n",
        "\n",
        "results = {\n",
        "    \"train_losses\": [],\n",
        "    \"train_ppls\":   [],\n",
        "    \"train_times\":  [],\n",
        "    \"valid_losses\": [],\n",
        "    \"valid_ppls\":   [],\n",
        "    \"valid_times\":  [],\n",
        "    \"test_loss\":    0.,\n",
        "    \"test_ppl\":     0.,\n",
        "    \"test_bleu1\":   0.,\n",
        "    \"test_bleu2\":   0.,\n",
        "    \"test_time\":    0.\n",
        "}\n",
        "\n",
        "if __name__ == \"__main__\":\n",
        "    n_epochs = 10\n",
        "\n",
        "    for epoch in range(n_epochs):\n",
        "        train_loss, train_ppl, train_time = train(model, train_loader, optimizer, criterion)\n",
        "        valid_loss, valid_ppl, valid_time = validate(model, val_loader, criterion)\n",
        "\n",
        "        print(f\"Epoch: {epoch}\")\n",
        "        print(f\"Train Loss: {train_loss:.3f} | Train PPL: {train_ppl:7.3f} | Train Time: {train_time:.3f}\")\n",
        "        print(f\"Valid Loss: {valid_loss:.3f} | Valid PPL: {valid_ppl:7.3f} | Valid Time: {valid_time:.3f}\")\n",
        "\n",
        "        results[\"train_losses\"].append(train_loss)\n",
        "        results[\"train_ppls\"].append(train_ppl)\n",
        "        results[\"train_times\"].append(train_time)\n",
        "        results[\"valid_losses\"].append(valid_loss)\n",
        "        results[\"valid_ppls\"].append(valid_ppl)\n",
        "        results[\"valid_times\"].append(valid_time)\n",
        "\n",
        "    test_loss, test_ppl, test_time = validate(model, test_loader, criterion)\n",
        "    print(f\"== Test Loss: {test_loss:.3f} | Test PPL: {test_ppl:7.3f} | Test Time: {test_time:.3f} ==\")\n",
        "    results[\"test_loss\"] = test_loss\n",
        "    results[\"test_ppl\"] = test_ppl\n",
        "    results[\"test_time\"] = test_time\n",
        "\n",
        "    results[\"test_bleu1\"], results[\"test_bleu2\"] = compute_bleu_gru(model, test_loader)\n",
        "    print(\"Test BLEU-1:\", results[\"test_bleu1\"], \"Test BLEU-2:\", results[\"test_bleu2\"])\n",
        "\n",
        "    json.dump(results, open(f\"seq2seq-adam-dropout_{str(use_dropout)}-strategy_{strategy}.json\", \"w\"), indent=4)"
      ]
    },
    {
      "cell_type": "code",
      "source": [
        "!nvidia-smi"
      ],
      "metadata": {
        "colab": {
          "base_uri": "https://localhost:8080/"
        },
        "id": "4hEPN-7KajTv",
        "outputId": "61618e16-2f58-420c-99b3-6b237f17df1e"
      },
      "execution_count": null,
      "outputs": [
        {
          "output_type": "stream",
          "name": "stdout",
          "text": [
            "Mon Nov 14 00:13:39 2022       \n",
            "+-----------------------------------------------------------------------------+\n",
            "| NVIDIA-SMI 460.32.03    Driver Version: 460.32.03    CUDA Version: 11.2     |\n",
            "|-------------------------------+----------------------+----------------------+\n",
            "| GPU  Name        Persistence-M| Bus-Id        Disp.A | Volatile Uncorr. ECC |\n",
            "| Fan  Temp  Perf  Pwr:Usage/Cap|         Memory-Usage | GPU-Util  Compute M. |\n",
            "|                               |                      |               MIG M. |\n",
            "|===============================+======================+======================|\n",
            "|   0  Tesla T4            Off  | 00000000:00:04.0 Off |                    0 |\n",
            "| N/A   72C    P0    32W /  70W |   3314MiB / 15109MiB |      0%      Default |\n",
            "|                               |                      |                  N/A |\n",
            "+-------------------------------+----------------------+----------------------+\n",
            "                                                                               \n",
            "+-----------------------------------------------------------------------------+\n",
            "| Processes:                                                                  |\n",
            "|  GPU   GI   CI        PID   Type   Process name                  GPU Memory |\n",
            "|        ID   ID                                                   Usage      |\n",
            "|=============================================================================|\n",
            "+-----------------------------------------------------------------------------+\n"
          ]
        }
      ]
    },
    {
      "cell_type": "code",
      "execution_count": null,
      "metadata": {
        "colab": {
          "base_uri": "https://localhost:8080/"
        },
        "id": "vS5r1hQsgpgH",
        "outputId": "8a3c26f3-2edf-4528-91bf-268a89230955"
      },
      "outputs": [
        {
          "output_type": "stream",
          "name": "stdout",
          "text": [
            "Epoch: 0\n",
            "Train Loss: 5.937 | Train PPL: 378.653 | Train Time: 94.040\n",
            "Valid Loss: 5.160 | Valid PPL: 174.095 | Valid Time: 1.568\n",
            "Epoch: 1\n",
            "Train Loss: 5.080 | Train PPL: 160.729 | Train Time: 93.728\n",
            "Valid Loss: 5.059 | Valid PPL: 157.414 | Valid Time: 1.589\n",
            "Epoch: 2\n",
            "Train Loss: 5.023 | Train PPL: 151.885 | Train Time: 93.818\n",
            "Valid Loss: 5.037 | Valid PPL: 154.014 | Valid Time: 1.571\n",
            "Epoch: 3\n",
            "Train Loss: 5.001 | Train PPL: 148.547 | Train Time: 93.742\n",
            "Valid Loss: 5.034 | Valid PPL: 153.554 | Valid Time: 1.569\n",
            "Epoch: 4\n",
            "Train Loss: 4.987 | Train PPL: 146.454 | Train Time: 93.796\n",
            "Valid Loss: 5.028 | Valid PPL: 152.635 | Valid Time: 1.559\n",
            "Epoch: 5\n",
            "Train Loss: 4.916 | Train PPL: 136.403 | Train Time: 93.748\n",
            "Valid Loss: 4.847 | Valid PPL: 127.356 | Valid Time: 1.587\n",
            "Epoch: 6\n",
            "Train Loss: 4.734 | Train PPL: 113.735 | Train Time: 93.642\n",
            "Valid Loss: 4.762 | Valid PPL: 116.965 | Valid Time: 1.569\n",
            "Epoch: 7\n",
            "Train Loss: 4.640 | Train PPL: 103.579 | Train Time: 93.669\n",
            "Valid Loss: 4.663 | Valid PPL: 105.962 | Valid Time: 1.572\n",
            "Epoch: 8\n",
            "Train Loss: 4.569 | Train PPL:  96.457 | Train Time: 93.608\n",
            "Valid Loss: 4.605 | Valid PPL:  99.972 | Valid Time: 1.573\n",
            "Epoch: 9\n",
            "Train Loss: 4.512 | Train PPL:  91.073 | Train Time: 94.309\n",
            "Valid Loss: 4.561 | Valid PPL:  95.679 | Valid Time: 1.585\n",
            "== Test Loss: 4.532 | Test PPL:  92.990 | Test Time: 1.578 ==\n",
            "Test BLEU-1: 33.80490007859946 Test BLEU-2: 16.87078362836344\n"
          ]
        }
      ],
      "source": [
        "fix_experiment_seed()\n",
        "use_dropout = True\n",
        "strategy = \"random\"\n",
        "encoder = Encoder(use_dropout=use_dropout).to(device)\n",
        "decoder = Decoder(use_dropout=use_dropout).to(device)\n",
        "model = Seq2Seq(encoder, decoder, strategy=strategy).to(device)\n",
        "optimizer = optim.Adam(model.parameters())\n",
        "criterion = get_criterion()\n",
        "\n",
        "results = {\n",
        "    \"train_losses\": [],\n",
        "    \"train_ppls\":   [],\n",
        "    \"train_times\":  [],\n",
        "    \"valid_losses\": [],\n",
        "    \"valid_ppls\":   [],\n",
        "    \"valid_times\":  [],\n",
        "    \"test_loss\":    0.,\n",
        "    \"test_ppl\":     0.,\n",
        "    \"test_bleu1\":   0.,\n",
        "    \"test_bleu2\":   0.,\n",
        "    \"test_time\":    0.\n",
        "}\n",
        "\n",
        "if __name__ == \"__main__\":\n",
        "    n_epochs = 10\n",
        "\n",
        "    for epoch in range(n_epochs):\n",
        "        train_loss, train_ppl, train_time = train(model, train_loader, optimizer, criterion)\n",
        "        valid_loss, valid_ppl, valid_time = validate(model, val_loader, criterion)\n",
        "\n",
        "        print(f\"Epoch: {epoch}\")\n",
        "        print(f\"Train Loss: {train_loss:.3f} | Train PPL: {train_ppl:7.3f} | Train Time: {train_time:.3f}\")\n",
        "        print(f\"Valid Loss: {valid_loss:.3f} | Valid PPL: {valid_ppl:7.3f} | Valid Time: {valid_time:.3f}\")\n",
        "\n",
        "        results[\"train_losses\"].append(train_loss)\n",
        "        results[\"train_ppls\"].append(train_ppl)\n",
        "        results[\"train_times\"].append(train_time)\n",
        "        results[\"valid_losses\"].append(valid_loss)\n",
        "        results[\"valid_ppls\"].append(valid_ppl)\n",
        "        results[\"valid_times\"].append(valid_time)\n",
        "\n",
        "    test_loss, test_ppl, test_time = validate(model, test_loader, criterion)\n",
        "    print(f\"== Test Loss: {test_loss:.3f} | Test PPL: {test_ppl:7.3f} | Test Time: {test_time:.3f} ==\")\n",
        "    results[\"test_loss\"] = test_loss\n",
        "    results[\"test_ppl\"] = test_ppl\n",
        "    results[\"test_time\"] = test_time\n",
        "\n",
        "    results[\"test_bleu1\"], results[\"test_bleu2\"] = compute_bleu_gru(model, test_loader)\n",
        "    print(\"Test BLEU-1:\", results[\"test_bleu1\"], \"Test BLEU-2:\", results[\"test_bleu2\"])\n",
        "\n",
        "    json.dump(results, open(f\"seq2seq-adam-dropout_{str(use_dropout)}-strategy_{strategy}.json\", \"w\"), indent=4)"
      ]
    },
    {
      "cell_type": "code",
      "source": [
        "!nvidia-smi"
      ],
      "metadata": {
        "colab": {
          "base_uri": "https://localhost:8080/"
        },
        "id": "LO649k6Fan1v",
        "outputId": "efde6736-3a85-4670-becd-6e60eb55c60f"
      },
      "execution_count": null,
      "outputs": [
        {
          "output_type": "stream",
          "name": "stdout",
          "text": [
            "Mon Nov 14 00:30:09 2022       \n",
            "+-----------------------------------------------------------------------------+\n",
            "| NVIDIA-SMI 460.32.03    Driver Version: 460.32.03    CUDA Version: 11.2     |\n",
            "|-------------------------------+----------------------+----------------------+\n",
            "| GPU  Name        Persistence-M| Bus-Id        Disp.A | Volatile Uncorr. ECC |\n",
            "| Fan  Temp  Perf  Pwr:Usage/Cap|         Memory-Usage | GPU-Util  Compute M. |\n",
            "|                               |                      |               MIG M. |\n",
            "|===============================+======================+======================|\n",
            "|   0  Tesla T4            Off  | 00000000:00:04.0 Off |                    0 |\n",
            "| N/A   72C    P0    32W /  70W |   3314MiB / 15109MiB |      0%      Default |\n",
            "|                               |                      |                  N/A |\n",
            "+-------------------------------+----------------------+----------------------+\n",
            "                                                                               \n",
            "+-----------------------------------------------------------------------------+\n",
            "| Processes:                                                                  |\n",
            "|  GPU   GI   CI        PID   Type   Process name                  GPU Memory |\n",
            "|        ID   ID                                                   Usage      |\n",
            "|=============================================================================|\n",
            "+-----------------------------------------------------------------------------+\n"
          ]
        }
      ]
    },
    {
      "cell_type": "markdown",
      "metadata": {
        "id": "MRLFk51eFLLr"
      },
      "source": [
        "#### Basic Tests"
      ]
    },
    {
      "cell_type": "code",
      "execution_count": null,
      "metadata": {
        "id": "TOAdBpXGFNxB"
      },
      "outputs": [],
      "source": [
        "class TestSeq2SeqShapes():\n",
        "    def __init__(self):\n",
        "        self.vocabulary_size = 11\n",
        "        self.embedding_size = 13\n",
        "        self.hidden_size = 17\n",
        "        self.num_layers = 1\n",
        "\n",
        "        self.encoder = Encoder(\n",
        "            vocabulary_size=self.vocabulary_size,\n",
        "            embedding_size=self.embedding_size,\n",
        "            hidden_size=self.hidden_size,\n",
        "            num_layers=self.num_layers,\n",
        "            use_dropout=False,\n",
        "            p_dropout=0.1\n",
        "        )\n",
        "        self.decoder = Decoder(\n",
        "            vocabulary_size=self.vocabulary_size,\n",
        "            embedding_size=self.embedding_size,\n",
        "            hidden_size=self.hidden_size,\n",
        "            num_layers=self.num_layers,\n",
        "            use_dropout=False,\n",
        "            p_dropout=0.1\n",
        "        )\n",
        "        self.model = Seq2Seq(\n",
        "            self.encoder, self.decoder, strategy=\"greedy\"\n",
        "        )\n",
        "\n",
        "    def test_forward_shape(self):\n",
        "        batch_size = 5\n",
        "        sequence_length = 7\n",
        "        tokens = torch.randint(self.vocabulary_size, size=(sequence_length, batch_size))\n",
        "\n",
        "        outputs = self.encoder(tokens)\n",
        "\n",
        "        assert isinstance(outputs, (tuple, list)), (\n",
        "            \"The output of the module must be encoder_outputs, hidden_state.\"\n",
        "        )\n",
        "        assert len(outputs) == 2, (\n",
        "            \"The output of the module must be encoder_outputs, hidden_state.\"\n",
        "        )\n",
        "\n",
        "        out, h = outputs\n",
        "\n",
        "        expected_shape = (1, batch_size, self.hidden_size)\n",
        "        assert isinstance(h, torch.Tensor), (\n",
        "            \"The hidden_state must be a torch.Tensor.\"\n",
        "        )\n",
        "        assert h.shape == expected_shape, (\n",
        "            \"The shape of `hidden_state` is invalid. Got shape {0}\"\n",
        "            \"\\n  Expected shape: {1}\\n Recall that the final hidden_state should have shape \"\n",
        "            \"(1, batch_size, hidden_size)\".format(\n",
        "                tuple(h.shape), expected_shape\n",
        "            )\n",
        "        )\n",
        "\n",
        "        outputs = self.decoder(tokens[0, :], h)\n",
        "\n",
        "        expected_shape = (batch_size, self.vocabulary_size)\n",
        "        assert isinstance(outputs, (tuple, list)), (\n",
        "            \"The output of the module must ba a tuple scores, hidden_state.\"\n",
        "        )\n",
        "        assert len(outputs) == 2, (\n",
        "            \"The output of the module must ba a tuple scores, hidden_state.\"\n",
        "        )\n",
        "\n",
        "        out, h = outputs\n",
        "\n",
        "        assert out.shape == expected_shape, (\n",
        "            \"The shape of decoder output is invalid. Got shape {0}.\"\n",
        "            \"\\n  Expected shape: {1}\\n Recall that the output should have shape \"\n",
        "            \"(batch_size, vocabulary_size)\".format(\n",
        "                tuple(out.shape), expected_shape\n",
        "            )\n",
        "        )\n",
        "        assert h.shape == (1, batch_size, self.hidden_size), (\n",
        "            \"The shape of final hidden state is invalid. Got shape {0}.\"\n",
        "            \"\\n  Expected shape: {1}\\n Recall that the output should have shape \"\n",
        "            \"(1, batch_size, hidden_size)\".format(\n",
        "                tuple(h.shape), (1, batch_size, self.hidden_size)\n",
        "            )\n",
        "        )\n",
        "\n",
        "        o, s = self.model(tokens, tokens)\n",
        "\n",
        "        assert o.shape == (sequence_length, batch_size, self.vocabulary_size), (\n",
        "            \"The shape of Seq2Seq output is invalid. Got shape {0}.\"\n",
        "            \"\\n  Expected shape: {1}\\n Recall that the output should have shape \"\n",
        "            \"(sequence_length, batch_size, vocabulary_size)\".format(\n",
        "                tuple(o.shape), (sequence_length, batch_size, self.vocabulary_size)\n",
        "            )\n",
        "        )\n",
        "\n",
        "        assert s.shape == (sequence_length, batch_size), (\n",
        "            \"The shape of Seq2Seq sentences is invalid. Got shape {0}.\"\n",
        "            \"\\n  Expected shape: {1}\\n Recall that this should have shape \"\n",
        "            \"(sequence_length, batch_size)\".format(\n",
        "                tuple(s.shape), (sequence_length, batch_size)\n",
        "            )\n",
        "        )\n",
        "\n",
        "if __name__ == \"__main__\":\n",
        "    TestSeq2SeqShapes().test_forward_shape()"
      ]
    },
    {
      "cell_type": "markdown",
      "metadata": {
        "id": "wmeI9fUH3Bhs"
      },
      "source": [
        "### Transformer Encoder-Decoder Model for Machine Translation"
      ]
    },
    {
      "cell_type": "markdown",
      "metadata": {
        "id": "ECnSApF53Y3p"
      },
      "source": [
        "#### Dataloader\n",
        "\n",
        "Running this cell will create `train_loader`, `val_loader` and `test_loader` for training, validation and testing respectively. The batch size is 128 and all sequences are of length 60 – shorter sequences are padded to this length. For this question, the data is provided in the shape `[batch_size, sequence_length]`. You need not modify this."
      ]
    },
    {
      "cell_type": "code",
      "execution_count": null,
      "metadata": {
        "id": "Jkmru6Mq3BK_"
      },
      "outputs": [],
      "source": [
        "special_idx = {\n",
        "    \"bos\": en_vocabulary[\"<bos>\"],\n",
        "    \"pad\": en_vocabulary[\"<pad>\"],\n",
        "    \"eos\": en_vocabulary[\"<eos>\"]\n",
        "}\n",
        "\n",
        "max_len = 60\n",
        "\n",
        "def get_batch(data):\n",
        "    en_batch_, fr_batch_ = [], []\n",
        "    for en_item, fr_item in data:\n",
        "        en_batch_.append(torch.cat([torch.tensor([special_idx[\"bos\"]]), en_item, torch.tensor([special_idx[\"eos\"]])], dim=0))\n",
        "        fr_batch_.append(torch.cat([torch.tensor([special_idx[\"bos\"]]), fr_item, torch.tensor([special_idx[\"eos\"]])], dim=0))\n",
        "    en_batch_ = nn.utils.rnn.pad_sequence(en_batch_, padding_value=special_idx[\"pad\"], batch_first=True)\n",
        "    fr_batch_ = nn.utils.rnn.pad_sequence(fr_batch_, padding_value=special_idx[\"pad\"], batch_first=True)\n",
        "    en_batch = torch.full((en_batch_.shape[0], max_len), special_idx[\"pad\"])\n",
        "    en_batch[:, :en_batch_.shape[1]] = en_batch_\n",
        "    fr_batch = torch.full((fr_batch_.shape[0], max_len), special_idx[\"pad\"])\n",
        "    fr_batch[:, :fr_batch_.shape[1]] = fr_batch_\n",
        "    return en_batch, fr_batch\n",
        "\n",
        "batch_size = 128\n",
        "if __name__ == \"__main__\":\n",
        "    train_loader = torch.utils.data.DataLoader(train_data, batch_size=batch_size, shuffle=True, collate_fn=get_batch)\n",
        "    val_loader = torch.utils.data.DataLoader(val_data, batch_size=batch_size, shuffle=True, collate_fn=get_batch)\n",
        "    test_loader = torch.utils.data.DataLoader(test_data, batch_size=batch_size, shuffle=True, collate_fn=get_batch)"
      ]
    },
    {
      "cell_type": "markdown",
      "metadata": {
        "id": "PkNbHE4T3koV"
      },
      "source": [
        "#### Embeddings\n",
        "\n",
        "The classes below are used to get the Transformer embeddings. The embeddings are made up of positional encodings and token embeddings. You do not need to modify the code, and you may run it by just clicking the run/play button."
      ]
    },
    {
      "cell_type": "code",
      "execution_count": null,
      "metadata": {
        "id": "ql6q87xU6HxB"
      },
      "outputs": [],
      "source": [
        "class PostionalEncoding(nn.Module):\n",
        "    \"\"\"\n",
        "    Provides positional information for tokens, which is to be added with the token embeddings.\n",
        "    \"\"\"\n",
        "    def __init__(self, d_model, max_len=max_len, device=device):\n",
        "        super(PostionalEncoding, self).__init__()\n",
        "\n",
        "        self.encoding = torch.zeros(max_len, d_model, device=device)\n",
        "        self.encoding.requires_grad = False\n",
        "\n",
        "        pos = torch.arange(0, max_len, device=device)\n",
        "        pos = pos.float().unsqueeze(dim=1)\n",
        "        _2i = torch.arange(0, d_model, step=2, device=device).float()\n",
        "\n",
        "        self.encoding[:, 0::2] = torch.sin(pos / (10000 ** (_2i / d_model)))\n",
        "        self.encoding[:, 1::2] = torch.cos(pos / (10000 ** (_2i / d_model)))\n",
        "\n",
        "    def forward(self, x):\n",
        "        batch_size, seq_len = x.size()\n",
        "        return self.encoding[:seq_len, :]\n",
        "\n",
        "class TransformerEmbedding(nn.Module):\n",
        "    \"\"\"\n",
        "    Gives embeddings made up of token embeddings + positional encodings.\n",
        "    \"\"\"\n",
        "    def __init__(self, vocabulary_size, d_model, max_len=max_len, use_dropout=False, p_dropout=0.1, device=device):\n",
        "        super(TransformerEmbedding, self).__init__()\n",
        "\n",
        "        self.token_embedding = nn.Embedding(vocabulary_size, d_model, padding_idx=special_idx[\"pad\"])\n",
        "        self.positional_encoding = PostionalEncoding(d_model, max_len, device)\n",
        "        self.use_dropout = use_dropout\n",
        "        if self.use_dropout:\n",
        "            self.dropout = nn.Dropout(p=p_dropout)\n",
        "\n",
        "    def forward(self, x):\n",
        "        token_embeddings = self.token_embedding(x)\n",
        "        positional_encodings = self.positional_encoding(x)\n",
        "        embeddings = token_embeddings + positional_encodings\n",
        "        if self.use_dropout:\n",
        "            embeddings = self.dropout(embeddings)\n",
        "        return embeddings"
      ]
    },
    {
      "cell_type": "markdown",
      "metadata": {
        "id": "nvmDU9Py9Coa"
      },
      "source": [
        "#### LayerNorm"
      ]
    },
    {
      "cell_type": "code",
      "execution_count": null,
      "metadata": {
        "id": "JtXyOrwh9jjU"
      },
      "outputs": [],
      "source": [
        "class LayerNorm(nn.Module):\n",
        "    \"\"\"\n",
        "    Implements layer normalization.\n",
        "    \"\"\"\n",
        "    def __init__(self, hidden_size, eps=1e-5):\n",
        "        super(LayerNorm, self).__init__()\n",
        "\n",
        "        self.hidden_size = hidden_size\n",
        "        self.eps = eps\n",
        "        self.weight = nn.Parameter(torch.Tensor(hidden_size))\n",
        "        self.bias = nn.Parameter(torch.Tensor(hidden_size))\n",
        "\n",
        "        self.reset_parameters()\n",
        "\n",
        "    def forward(self, x):\n",
        "        \"\"\"Layer Normalization.\n",
        "\n",
        "        This module applies Layer Normalization, with rescaling and shift,\n",
        "        only on the last dimension. See Lecture 07, slide 20.\n",
        "\n",
        "        Parameters\n",
        "        ----------\n",
        "        inputs (`torch.FloatTensor` of shape `(*dims, hidden_size)`)\n",
        "            The input tensor. This tensor can have an arbitrary number N of\n",
        "            dimensions, as long as `inputs.shape[N-1] == hidden_size`. The\n",
        "            leading N - 1 dimensions `dims` can be arbitrary.\n",
        "\n",
        "        Returns\n",
        "        -------\n",
        "        outputs (`torch.FloatTensor` of shape `(*dims, hidden_size)`)\n",
        "            The output tensor, having the same shape as `inputs`.\n",
        "        \"\"\"\n",
        "        mean  = torch.mean(x, dim = -1 ).unsqueeze(-1)\n",
        "        variance = torch.mean((x-mean)*(x-mean), dim = -1).unsqueeze(-1)\n",
        "        eq = (x-mean)/(variance +self.eps)**0.5\n",
        "        y = self.weight*eq + self.bias\n",
        "\n",
        "\n",
        "        return y\n",
        "\n",
        "    def reset_parameters(self):\n",
        "        nn.init.ones_(self.weight)\n",
        "        nn.init.zeros_(self.bias)"
      ]
    },
    {
      "cell_type": "markdown",
      "metadata": {
        "id": "FOhO5w2J_fvt"
      },
      "source": [
        "#### Masked Multi-Head Attention\n",
        "\n",
        "We use masked multi-head attention because the decoder should not attend to future tokens in the target while performing autoregressive generation (machine translation)."
      ]
    },
    {
      "cell_type": "code",
      "execution_count": null,
      "metadata": {
        "id": "_P2TtRskF-o_"
      },
      "outputs": [],
      "source": [
        "class MultiHeadAttention(nn.Module):\n",
        "    def __init__(self, head_size, num_heads):\n",
        "        super(MultiHeadAttention, self).__init__()\n",
        "\n",
        "        self.head_size = head_size\n",
        "        self.num_heads = num_heads\n",
        "\n",
        "        # Use nn.Linear objects so as to apply both weights and biases\n",
        "        self.w_q =  nn.Linear(self.num_heads * self.head_size, self.num_heads * self.head_size,bias = True) # WRITE CODE HERE\n",
        "        self.w_k =  nn.Linear(self.num_heads * self.head_size, self.num_heads * self.head_size,bias = True) # WRITE CODE HERE\n",
        "        self.w_v =  nn.Linear(self.num_heads * self.head_size, self.num_heads * self.head_size,bias = True) # WRITE CODE HERE\n",
        "        self.w_y =  nn.Linear(self.num_heads * self.head_size, self.num_heads * self.head_size,bias = True) # WRITE CODE HERE\n",
        "\n",
        "    def get_attention_weights(self, queries, keys, mask=None):\n",
        "        \"\"\"Compute the attention weights.\n",
        "\n",
        "        This computes the attention weights for all the sequences and all the\n",
        "        heads in the batch. For a single sequence and a single head (for\n",
        "        simplicity), if Q are the queries (matrix of size `(sequence_length, head_size)`),\n",
        "        and K are the keys (matrix of size `(sequence_length, head_size)`), then\n",
        "        the attention weights are computed as\n",
        "\n",
        "            x = Q * K^{T} / sqrt(head_size)\n",
        "            weights = softmax(x, mask) = softmax(x . mask - 10^4 (1 - mask))\n",
        "\n",
        "            If mask is None,\n",
        "\n",
        "            weights = softmax(x)\n",
        "\n",
        "        Here \"*\" is the matrix multiplication and \".\" is element-wise multiplication. See Lecture 06, slides 05-13.\n",
        "\n",
        "        Parameters\n",
        "        ----------\n",
        "        queries (`torch.FloatTensor` of shape `(batch_size, num_heads, sequence_length, head_size)`)\n",
        "            Tensor containing the queries for all the positions in the sequences\n",
        "            and all the heads.\n",
        "\n",
        "        keys (`torch.FloatTensor` of shape `(batch_size, num_heads, sequence_length, head_size)`)\n",
        "            Tensor containing the keys for all the positions in the sequences\n",
        "            and all the heads.\n",
        "\n",
        "        mask (`torch.FloatTensor` of shape `(batch_size, 1, sequence_length, sequence_length)`)\n",
        "            Tensor containing the mask. Default: None.\n",
        "\n",
        "        Returns\n",
        "        -------\n",
        "        attention_weights (`torch.FloatTensor` of shape `(batch_size, num_heads, sequence_length, sequence_length)`)\n",
        "            Tensor containing the attention weights for all the heads and all\n",
        "            the sequences in the batch.\n",
        "        \"\"\"\n",
        "        attention_weights = torch.empty(queries.shape[0],queries.shape[1],queries.shape[2],queries.shape[2])\n",
        "        if mask is not None:\n",
        "            mask = mask.int()\n",
        "        # WRITE CODE HERE\n",
        "\n",
        "        x = torch.matmul(queries , keys.transpose(-2,-1)) / (self.head_size ** 0.5)\n",
        "        if mask is None :\n",
        "          attention_weights = F.softmax(x,dim = -1)\n",
        "        else:\n",
        "          attention_weights = F.softmax(x*mask - 10*10*10*10*(1-mask),dim = -1)\n",
        "        return attention_weights\n",
        "\n",
        "    def apply_attention(self, queries, keys, values, mask=None):\n",
        "        \"\"\"Apply the attention.\n",
        "\n",
        "        This computes the output of the attention, for all the sequences and\n",
        "        all the heads in the batch. For a single sequence and a single head\n",
        "        (for simplicity), if Q are the queries (matrix of size `(sequence_length, head_size)`),\n",
        "        K are the keys (matrix of size `(sequence_length, head_size)`), and V are\n",
        "        the values (matrix of size `(sequence_length, head_size)`), then the ouput\n",
        "        of the attention is given by\n",
        "\n",
        "            weights = softmax(Q * K^{T} / sqrt(head_size), mask)\n",
        "            attended_values = weights * V\n",
        "            outputs = concat(attended_values)\n",
        "\n",
        "        Here \"*\" is the matrix multiplication, and \"concat\" is the operation\n",
        "        that concatenates the attended values of all the heads (see the\n",
        "        `merge_heads` function). See Lecture 06, slides 05-13.\n",
        "\n",
        "        Parameters\n",
        "        ----------\n",
        "        queries (`torch.FloatTensor` of shape `(batch_size, num_heads, sequence_length, head_size)`)\n",
        "            Tensor containing the queries for all the positions in the sequences\n",
        "            and all the heads.\n",
        "\n",
        "        keys (`torch.FloatTensor` of shape `(batch_size, num_heads, sequence_length, head_size)`)\n",
        "            Tensor containing the keys for all the positions in the sequences\n",
        "            and all the heads.\n",
        "\n",
        "        values (`torch.FloatTensor` of shape `(batch_size, num_heads, sequence_length, head_size)`)\n",
        "            Tensor containing the values for all the positions in the sequences\n",
        "            and all the heads.\n",
        "\n",
        "        mask (`torch.FloatTensor` of shape `(batch_size, 1, sequence_length, sequence_length)`)\n",
        "            Tensor containing the mask. Default: None.\n",
        "\n",
        "        Returns\n",
        "        -------\n",
        "        outputs (`torch.FloatTensor` of shape `(batch_size, sequence_length, num_heads * head_size)`)\n",
        "            Tensor containing the concatenated outputs of the attention for all\n",
        "            the sequences in the batch, and all positions in each sequence.\n",
        "        \"\"\"\n",
        "        # WRITE CODE HERE\n",
        "        h = torch.empty(values.shape)\n",
        "        weights = self.get_attention_weights(queries,keys,mask)\n",
        "        h = torch.matmul(weights,values)\n",
        "        outputs = self.merge_heads(h)\n",
        "        return outputs\n",
        "\n",
        "    def split_heads(self, tensor):\n",
        "        \"\"\"Split the head vectors.\n",
        "\n",
        "        This function splits the head vectors that have been concatenated (e.g.\n",
        "        through the `merge_heads` function) into a separate dimension. This\n",
        "        function also transposes the `sequence_length` and `num_heads` axes.\n",
        "        It only reshapes and transposes the input tensor, and it does not\n",
        "        apply any further transformation to the tensor. The function `split_heads`\n",
        "        is the inverse of the function `merge_heads`.\n",
        "\n",
        "        Parameters\n",
        "        ----------\n",
        "        tensor (`torch.FloatTensor` of shape `(batch_size, sequence_length, num_heads * dim)`)\n",
        "            Input tensor containing the concatenated head vectors (each having\n",
        "            a size `dim`, which can be arbitrary).\n",
        "\n",
        "        Returns\n",
        "        -------\n",
        "        output (`torch.FloatTensor` of shape `(batch_size, num_heads, sequence_length, dim)`)\n",
        "            Reshaped and transposed tensor containing the separated head\n",
        "            vectors. Here `dim` is the same dimension as the one in the\n",
        "            definition of the input `tensor` above.\n",
        "        \"\"\"\n",
        "        split = tensor.reshape(tensor.shape[0],tensor.shape[1],self.num_heads,int(tensor.shape[-1]/self.num_heads))\n",
        "        transpose = torch.transpose(split,1,2)\n",
        "        return transpose\n",
        "\n",
        "    def merge_heads(self, tensor):\n",
        "        \"\"\"Merge the head vectors.\n",
        "\n",
        "        This function concatenates the head vectors in a single vector. This\n",
        "        function also transposes the `sequence_length` and the newly created\n",
        "        \"merged\" dimension. It only reshapes and transposes the input tensor,\n",
        "        and it does not apply any further transformation to the tensor. The\n",
        "        function `merge_heads` is the inverse of the function `split_heads`.\n",
        "\n",
        "        Parameters\n",
        "        ----------\n",
        "        tensor (`torch.FloatTensor` of shape `(batch_size, num_heads, sequence_length, dim)`)\n",
        "            Input tensor containing the separated head vectors (each having\n",
        "            a size `dim`, which can be arbitrary).\n",
        "\n",
        "        Returns\n",
        "        -------\n",
        "        output (`torch.FloatTensor` of shape `(batch_size, sequence_length, num_heads * dim)`)\n",
        "            Reshaped and transposed tensor containing the concatenated head\n",
        "            vectors. Here `dim` is the same dimension as the one in the\n",
        "            definition of the input `tensor` above.\n",
        "        \"\"\"\n",
        "        transpose = torch.transpose(tensor,1,2)\n",
        "        concat = transpose.reshape(transpose.shape[0],transpose.shape[1],transpose.shape[2]*transpose.shape[3])\n",
        "        return concat\n",
        "\n",
        "    def forward(self, queries, keys, values, mask=None):\n",
        "        \"\"\"Multi-headed attention.\n",
        "\n",
        "        This applies the multi-headed attention on the input tensors `hidden_states`.\n",
        "        For a single sequence (for simplicity), if X are the hidden states from\n",
        "        the previous layer (a matrix of size `(sequence_length, num_heads * head_size)`\n",
        "        containing the concatenated head vectors), then the output of multi-headed\n",
        "        attention is given by\n",
        "\n",
        "            Q = X * W_{Q} + b_{Q}        # Queries\n",
        "            K = X * W_{K} + b_{K}        # Keys\n",
        "            V = X * W_{V} + b_{V}        # Values\n",
        "\n",
        "            Y = attention(Q, K, V, mask) # Attended values (concatenated for all heads)\n",
        "            outputs = Y * W_{Y} + b_{Y}  # Linear projection\n",
        "\n",
        "        Here \"*\" is the matrix multiplication.\n",
        "\n",
        "        Parameters\n",
        "        ----------\n",
        "        queries (`torch.FloatTensor` of shape `(batch_size, sequence_length, num_heads * head_size)`)\n",
        "            Tensor containing the queries for all the positions in the sequences\n",
        "            and all the heads.\n",
        "\n",
        "        keys (`torch.FloatTensor` of shape `(batch_size, sequence_length, num_heads * head_size)`)\n",
        "            Tensor containing the keys for all the positions in the sequences\n",
        "            and all the heads.\n",
        "\n",
        "        values (`torch.FloatTensor` of shape `(batch_size, sequence_length, num_heads * head_size)`)\n",
        "            Tensor containing the values for all the positions in the sequences\n",
        "            and all the heads.\n",
        "\n",
        "        mask (`torch.FloatTensor` of shape `(batch_size, 1, sequence_length, sequence_length)`)\n",
        "            Tensor containing the mask. Default: None.\n",
        "\n",
        "        Returns\n",
        "        -------\n",
        "        output (`torch.FloatTensor` of shape `(batch_size, sequence_length, num_heads * head_size)`)\n",
        "            Tensor containing the output of multi-headed attention for all the\n",
        "            sequences in the batch, and all positions in each sequence.\n",
        "        \"\"\"\n",
        "        # WRITE CODE HERE\n",
        "\n",
        "        v = self.split_heads(self.w_v(values))\n",
        "        k = self.split_heads(self.w_k(keys))\n",
        "        q = self.split_heads(self.w_q(queries))\n",
        "\n",
        "        Y = self.apply_attention(q,k,v,mask)\n",
        "        outputs = self.w_y(Y)\n",
        "\n",
        "        return outputs"
      ]
    },
    {
      "cell_type": "markdown",
      "metadata": {
        "id": "OYQT8eRfavZ8"
      },
      "source": [
        "#### Position-wise FFN\n",
        "Defines a feedforward network, do not modify. You may just run it by clicking the run/play button."
      ]
    },
    {
      "cell_type": "code",
      "execution_count": null,
      "metadata": {
        "id": "ZdyBxW4YakkQ"
      },
      "outputs": [],
      "source": [
        "class PositionwiseFeedForward(nn.Module):\n",
        "    \"\"\"\n",
        "    Implements a position-wise FFN.\n",
        "    \"\"\"\n",
        "    def __init__(self, d_model, hidden_size, use_dropout=False, p_dropout=0.1):\n",
        "        super(PositionwiseFeedForward, self).__init__()\n",
        "\n",
        "        self.linear1 = nn.Linear(d_model, hidden_size)\n",
        "        self.linear2 = nn.Linear(hidden_size, d_model)\n",
        "        self.relu = nn.ReLU()\n",
        "        self.use_dropout = use_dropout\n",
        "        if self.use_dropout:\n",
        "            self.dropout = nn.Dropout(p=p_dropout)\n",
        "\n",
        "    def forward(self, x):\n",
        "        x = self.linear1(x)\n",
        "        x = self.relu(x)\n",
        "        if self.use_dropout:\n",
        "            x = self.dropout(x)\n",
        "        x = self.linear2(x)\n",
        "        return x"
      ]
    },
    {
      "cell_type": "markdown",
      "metadata": {
        "id": "ERCVjPZ8bHK9"
      },
      "source": [
        "#### EncoderLayer and DecoderLayer\n",
        "\n",
        "Defines a layer of the Encoder or Decoder respectively, do not modify. You may just run it by clicking the run/play button.\n",
        "\n",
        "The multi-head attention in the encoder attends over all tokens in the source strings (input for translation). The decoder is comprised of 2 multi-head attention steps: one to attend over the (allowed) tokens from the target sentence, and one to attend over the encoder outputs."
      ]
    },
    {
      "cell_type": "code",
      "execution_count": null,
      "metadata": {
        "id": "1IudltwgbacB"
      },
      "outputs": [],
      "source": [
        "class EncoderLayer(nn.Module):\n",
        "    \"\"\"\n",
        "    Defines a layer of the encoder.\n",
        "    \"\"\"\n",
        "    def __init__(self, head_size, hidden_size, num_heads, use_dropout=False, p_dropout=0.1):\n",
        "        super(EncoderLayer, self).__init__()\n",
        "\n",
        "        self.attention = MultiHeadAttention(head_size, num_heads)\n",
        "        self.norm1 = LayerNorm(head_size * num_heads)\n",
        "        self.use_dropout = use_dropout\n",
        "        if self.use_dropout:\n",
        "            self.dropout1 = nn.Dropout(p=p_dropout)\n",
        "\n",
        "        self.ffn = PositionwiseFeedForward(head_size * num_heads, hidden_size, use_dropout, p_dropout)\n",
        "        self.norm2 = LayerNorm(head_size * num_heads)\n",
        "        if self.use_dropout:\n",
        "            self.dropout2 = nn.Dropout(p=p_dropout)\n",
        "\n",
        "    def forward(self, x, mask):\n",
        "        x_ = x\n",
        "        x = self.attention(x, x, x, mask=mask)\n",
        "        x = self.norm1(x + x_)\n",
        "        if self.use_dropout:\n",
        "            x = self.dropout1(x)\n",
        "        x_ = x\n",
        "        x = self.ffn(x)\n",
        "        x = self.norm2(x + x_)\n",
        "        if self.use_dropout:\n",
        "            x = self.dropout2(x)\n",
        "        return x\n",
        "\n",
        "class DecoderLayer(nn.Module):\n",
        "    \"\"\"\n",
        "    Defines a layer of the decoder.\n",
        "    \"\"\"\n",
        "    def __init__(self, head_size, hidden_size, num_heads, use_dropout=False, p_dropout=0.1):\n",
        "        super(DecoderLayer, self).__init__()\n",
        "\n",
        "        self.self_attention = MultiHeadAttention(head_size, num_heads)\n",
        "        self.norm1 = LayerNorm(head_size * num_heads)\n",
        "        self.use_dropout = use_dropout\n",
        "        if self.use_dropout:\n",
        "            self.dropout1 = nn.Dropout(p=p_dropout)\n",
        "\n",
        "        self.encoder_decoder_attention = MultiHeadAttention(head_size, num_heads)\n",
        "        self.norm2 = LayerNorm(head_size * num_heads)\n",
        "        if self.use_dropout:\n",
        "            self.dropout2 = nn.Dropout(p=p_dropout)\n",
        "\n",
        "        self.ffn = PositionwiseFeedForward(head_size * num_heads, hidden_size, use_dropout, p_dropout)\n",
        "        self.norm3 = LayerNorm(head_size * num_heads)\n",
        "        if self.use_dropout:\n",
        "            self.dropout3 = nn.Dropout(p=p_dropout)\n",
        "\n",
        "    def forward(self, x_decoder, x_encoder, mask_target, mask_source):\n",
        "        x_ = x_decoder\n",
        "        x = self.self_attention(x_decoder, x_decoder, x_decoder, mask=mask_target)\n",
        "        x = self.norm1(x + x_)\n",
        "        if self.use_dropout:\n",
        "            x = self.dropout1(x)\n",
        "\n",
        "        if x_encoder is not None:\n",
        "            x_ = x\n",
        "            x = self.encoder_decoder_attention(x, x_encoder, x_encoder, mask=mask_source)\n",
        "            x = self.norm2(x + x_)\n",
        "            if self.use_dropout:\n",
        "                x = self.dropout2(x)\n",
        "\n",
        "        x_ = x\n",
        "        x = self.ffn(x)\n",
        "        x = self.norm3(x + x_)\n",
        "        if self.use_dropout:\n",
        "            x = self.dropout3(x)\n",
        "        return x"
      ]
    },
    {
      "cell_type": "markdown",
      "metadata": {
        "id": "3u6kN1Gmk2Js"
      },
      "source": [
        "#### TEncoder and TDecoder\n",
        "\n",
        "Defines the Encoder and Decoder of the Transformer. You will have to fill in the `forward` methods of both classes."
      ]
    },
    {
      "cell_type": "code",
      "execution_count": null,
      "metadata": {
        "id": "tOXBSyCRlCXb"
      },
      "outputs": [],
      "source": [
        "class TEncoder(nn.Module):\n",
        "    \"\"\"\n",
        "    Defines the encoder of the Transformer model.\n",
        "    \"\"\"\n",
        "    def __init__(self,\n",
        "                 vocabulary_size=10838,\n",
        "                 max_len=max_len,\n",
        "                 head_size=64,\n",
        "                 hidden_size=512,\n",
        "                 num_heads=8,\n",
        "                 num_layers=6,\n",
        "                 use_dropout=False,\n",
        "                 p_dropout=0.1,\n",
        "                 device=device):\n",
        "        super(TEncoder, self).__init__()\n",
        "\n",
        "        self.embedding = TransformerEmbedding(d_model=head_size * num_heads,\n",
        "                                              max_len=max_len,\n",
        "                                              vocabulary_size=vocabulary_size,\n",
        "                                              use_dropout=use_dropout,\n",
        "                                              p_dropout=p_dropout,\n",
        "                                              device=device)\n",
        "\n",
        "        self.layers = nn.ModuleList([EncoderLayer(head_size=head_size,\n",
        "                                                  hidden_size=hidden_size,\n",
        "                                                  num_heads=num_heads,\n",
        "                                                  use_dropout=use_dropout,\n",
        "                                                  p_dropout=p_dropout)\n",
        "                                     for _ in range(num_layers)])\n",
        "\n",
        "    def forward(self, x, mask):\n",
        "        # First get embeddings for x.\n",
        "        # Then, get the output of each layer.\n",
        "        # x -> embed -> layer[0] -> layer[1] -> ... -> layer[n-1] -> return output.\n",
        "        # WRITE CODE HERE\n",
        "        out = self.embedding(x)\n",
        "        for i in range(len(self.layers)):\n",
        "          out = self.layers[i](out,mask)\n",
        "\n",
        "        return out\n",
        "\n",
        "class TDecoder(nn.Module):\n",
        "    \"\"\"\n",
        "    Defines the decoder of the Transformer model.\n",
        "    \"\"\"\n",
        "    def __init__(self,\n",
        "                 vocabulary_size=11510,\n",
        "                 max_len=max_len,\n",
        "                 head_size=64,\n",
        "                 hidden_size=512,\n",
        "                 num_heads=8,\n",
        "                 num_layers=6,\n",
        "                 use_dropout=False,\n",
        "                 p_dropout=0.1,\n",
        "                 device=device):\n",
        "        super(TDecoder, self).__init__()\n",
        "\n",
        "        self.embedding = TransformerEmbedding(d_model=head_size * num_heads,\n",
        "                                              max_len=max_len,\n",
        "                                              vocabulary_size=vocabulary_size,\n",
        "                                              use_dropout=use_dropout,\n",
        "                                              p_dropout=p_dropout,\n",
        "                                              device=device)\n",
        "\n",
        "        self.layers = nn.ModuleList([DecoderLayer(head_size=head_size,\n",
        "                                                  hidden_size=hidden_size,\n",
        "                                                  num_heads=num_heads,\n",
        "                                                  use_dropout=use_dropout,\n",
        "                                                  p_dropout=p_dropout)\n",
        "                                     for _ in range(num_layers)])\n",
        "\n",
        "        self.linear = nn.Linear(head_size * num_heads, vocabulary_size)\n",
        "\n",
        "    def forward(self, target, encoded_source, mask_target, mask_source):\n",
        "        # First, get embeddings for target.\n",
        "        # Then, get the output of each layer.\n",
        "        # target -> embed -> layer[0] -> layer[1] -> ... -> layer[n-1] -> final layer output.\n",
        "        # Pass final layer output to linear -> return final output.\n",
        "        # WRITE CODE HERE\n",
        "        out = self.embedding(target)\n",
        "        for i in range(len(self.layers)):\n",
        "          out = self.layers[i](out, encoded_source, mask_target, mask_source)\n",
        "        return self.linear(out)"
      ]
    },
    {
      "cell_type": "markdown",
      "metadata": {
        "id": "hVYe2tYujCXO"
      },
      "source": [
        "#### Transformer\n",
        "\n",
        "This class defines the encoder-decoder Transformer model, do not modify. You may just run the cell by clicking the run/play button."
      ]
    },
    {
      "cell_type": "code",
      "execution_count": null,
      "metadata": {
        "id": "G-gabvS4jVYk"
      },
      "outputs": [],
      "source": [
        "class Transformer(nn.Module):\n",
        "    \"\"\"\n",
        "    Implements an encoder-decoder transformer.\n",
        "    \"\"\"\n",
        "    def __init__(self,\n",
        "                 enc_vocabulary_size=10838,\n",
        "                 dec_vocabulary_size=11510,\n",
        "                 head_size=64,\n",
        "                 num_heads=8,\n",
        "                 max_len=max_len,\n",
        "                 hidden_size=512,\n",
        "                 num_layers=6,\n",
        "                 use_dropout=False,\n",
        "                 p_dropout=0.1,\n",
        "                 strategy=\"greedy\",\n",
        "                 device=device):\n",
        "        super(Transformer, self).__init__()\n",
        "\n",
        "        self.pad_idx = special_idx[\"pad\"]\n",
        "        self.sos_idx = special_idx[\"bos\"]\n",
        "        self.strategy = strategy\n",
        "        self.device = device\n",
        "        self.encoder = TEncoder(head_size=head_size,\n",
        "                                num_heads=num_heads,\n",
        "                                max_len=max_len,\n",
        "                                hidden_size=hidden_size,\n",
        "                                vocabulary_size=enc_vocabulary_size,\n",
        "                                use_dropout=use_dropout,\n",
        "                                p_dropout=p_dropout,\n",
        "                                num_layers=num_layers,\n",
        "                                device=device)\n",
        "\n",
        "        self.decoder = TDecoder(head_size=head_size,\n",
        "                                num_heads=num_heads,\n",
        "                                max_len=max_len,\n",
        "                                hidden_size=hidden_size,\n",
        "                                vocabulary_size=dec_vocabulary_size,\n",
        "                                use_dropout=use_dropout,\n",
        "                                p_dropout=p_dropout,\n",
        "                                num_layers=num_layers,\n",
        "                                device=device)\n",
        "\n",
        "    def forward(self, source, target):\n",
        "        mask_source = self.make_pad_mask(source, source)\n",
        "        mask_source_target = self.make_pad_mask(target, source)\n",
        "        mask_target = self.make_pad_mask(target, target) * self.make_no_peak_mask(target, target)\n",
        "\n",
        "        encoded_source = self.encoder(source, mask_source)\n",
        "        output = self.decoder(target, encoded_source, mask_target, mask_source_target)\n",
        "        return output\n",
        "\n",
        "    def make_pad_mask(self, q, k):\n",
        "        len_q, len_k = q.size(1), k.size(1)\n",
        "        k = k.ne(self.pad_idx).unsqueeze(1).unsqueeze(2)\n",
        "        k = k.repeat(1, 1, len_q, 1)\n",
        "        q = q.ne(self.pad_idx).unsqueeze(1).unsqueeze(3)\n",
        "        q = q.repeat(1, 1, 1, len_k)\n",
        "        mask = k & q\n",
        "        return mask\n",
        "\n",
        "    def make_no_peak_mask(self, q, k):\n",
        "        len_q, len_k = q.size(1), k.size(1)\n",
        "        mask = torch.tril(torch.ones(len_q, len_k)).type(torch.BoolTensor).to(self.device)\n",
        "        return mask"
      ]
    },
    {
      "cell_type": "markdown",
      "metadata": {
        "id": "m8dOQ2qalpvn"
      },
      "source": [
        "#### Training"
      ]
    },
    {
      "cell_type": "code",
      "execution_count": null,
      "metadata": {
        "id": "K3-OQfX9lqay"
      },
      "outputs": [],
      "source": [
        "def train_transformer(model, dataloader, optimizer, criterion):\n",
        "    model.train()\n",
        "    train_loss = 0.\n",
        "    train_ppl = 0.\n",
        "    start = time.time()\n",
        "\n",
        "    for i, (source, target) in enumerate(dataloader):\n",
        "        source, target = source.to(device), target.to(device)\n",
        "\n",
        "        optimizer.zero_grad()\n",
        "        output = model(source, target[:, :-1])\n",
        "        output_reshape = output.contiguous().view(-1, output.shape[-1])\n",
        "        target = target[:, 1:].contiguous().view(-1)\n",
        "        loss = criterion(output_reshape, target)\n",
        "        loss.backward()\n",
        "        optimizer.step()\n",
        "        train_loss += loss.item()\n",
        "\n",
        "    end = time.time()\n",
        "    train_loss /= len(dataloader)\n",
        "    train_ppl = math.exp(train_loss)\n",
        "    train_time = end - start\n",
        "    return train_loss, train_ppl, train_time\n",
        "\n",
        "def validate_transformer(model, dataloader, criterion):\n",
        "    model.eval()\n",
        "    val_loss = 0.\n",
        "    val_ppl = 0.\n",
        "    start = time.time()\n",
        "\n",
        "    with torch.no_grad():\n",
        "        for i, (source, target) in enumerate(dataloader):\n",
        "            source, target = source.to(device), target.to(device)\n",
        "            output = model(source, target[:, :-1])\n",
        "            output_reshape = output.contiguous().view(-1, output.shape[-1])\n",
        "            target = target[:, 1:].contiguous().view(-1)\n",
        "            loss = criterion(output_reshape, target)\n",
        "            val_loss += loss.item()\n",
        "\n",
        "    end = time.time()\n",
        "    val_loss /= len(dataloader)\n",
        "    val_ppl = math.exp(val_loss)\n",
        "    val_time = end - start\n",
        "    return val_loss, val_ppl, val_time\n",
        "\n",
        "def compute_bleu(model, dataloader):\n",
        "    targets = []\n",
        "    translations = []\n",
        "\n",
        "    for source, target in dataloader:\n",
        "        source, target = source.to(device), target.to(device)\n",
        "\n",
        "        output = model(source, target)\n",
        "        for i in range(target.shape[0]):\n",
        "            targets.append([[]])\n",
        "            for token in target[i, 1:]:\n",
        "                if token in special_idx.values():\n",
        "                    break\n",
        "                targets[-1][0].append(fr_vocabulary.get_itos()[token])\n",
        "            translations.append([])\n",
        "\n",
        "            if model.strategy == \"greedy\":\n",
        "                # WRITE CODE HERE\n",
        "                # Assign the greedy choice tokens for output[i] to o\n",
        "                # output[i] has shape (sequence_length, vocabulary_size)\n",
        "                # o should have shape (sequence_length)\n",
        "\n",
        "                o =torch.argmax(output[i],-1)\n",
        "            elif model.strategy == \"random\":\n",
        "                # WRITE CODE HERE\n",
        "                # Assign the randomly sampled tokens for output[i] to o\n",
        "                # output[i] has shape (sequence_length, vocabulary_size)\n",
        "                # o should have shape (sequence_length)\n",
        "                temperature = 0.5\n",
        "                P = nn.functional.softmax(output[i]/temperature, dim=1)\n",
        "                o = torch.multinomial(P,1).squeeze(-1)\n",
        "\n",
        "            for token in o:\n",
        "                if token in special_idx.values():\n",
        "                    break\n",
        "                translations[-1].append(fr_vocabulary.get_itos()[token.int().item()])\n",
        "\n",
        "        break\n",
        "\n",
        "    return torchtext.data.metrics.bleu_score(translations, targets, max_n=2, weights=[0.5]*2) * 100, \\\n",
        "            torchtext.data.metrics.bleu_score(translations, targets, max_n=1, weights=[1]) * 100"
      ]
    },
    {
      "cell_type": "code",
      "source": [
        "!nvidia-smi"
      ],
      "metadata": {
        "colab": {
          "base_uri": "https://localhost:8080/"
        },
        "id": "4eC3oO-c4QSo",
        "outputId": "67152c55-fe88-44df-cd29-2f201330cafb"
      },
      "execution_count": null,
      "outputs": [
        {
          "output_type": "stream",
          "name": "stdout",
          "text": [
            "Tue Nov 15 01:24:47 2022       \n",
            "+-----------------------------------------------------------------------------+\n",
            "| NVIDIA-SMI 460.32.03    Driver Version: 460.32.03    CUDA Version: 11.2     |\n",
            "|-------------------------------+----------------------+----------------------+\n",
            "| GPU  Name        Persistence-M| Bus-Id        Disp.A | Volatile Uncorr. ECC |\n",
            "| Fan  Temp  Perf  Pwr:Usage/Cap|         Memory-Usage | GPU-Util  Compute M. |\n",
            "|                               |                      |               MIG M. |\n",
            "|===============================+======================+======================|\n",
            "|   0  Tesla T4            Off  | 00000000:00:04.0 Off |                    0 |\n",
            "| N/A   58C    P0    29W /  70W |   6786MiB / 15109MiB |      0%      Default |\n",
            "|                               |                      |                  N/A |\n",
            "+-------------------------------+----------------------+----------------------+\n",
            "                                                                               \n",
            "+-----------------------------------------------------------------------------+\n",
            "| Processes:                                                                  |\n",
            "|  GPU   GI   CI        PID   Type   Process name                  GPU Memory |\n",
            "|        ID   ID                                                   Usage      |\n",
            "|=============================================================================|\n",
            "+-----------------------------------------------------------------------------+\n"
          ]
        }
      ]
    },
    {
      "cell_type": "code",
      "execution_count": null,
      "metadata": {
        "colab": {
          "base_uri": "https://localhost:8080/"
        },
        "id": "VN409gd6luxv",
        "outputId": "3f3485fb-a52c-4da0-ae38-aad7dfbdba39"
      },
      "outputs": [
        {
          "output_type": "stream",
          "name": "stdout",
          "text": [
            "Epoch: 0\n",
            "Train Loss: 6.696 | Train PPL: 809.547 | Train Time: 134.972\n",
            "Valid Loss: 5.597 | Valid PPL: 269.485 | Valid Time: 1.747\n",
            "Epoch: 1\n",
            "Train Loss: 5.030 | Train PPL: 152.957 | Train Time: 137.334\n",
            "Valid Loss: 4.589 | Valid PPL:  98.355 | Valid Time: 1.758\n",
            "Epoch: 2\n",
            "Train Loss: 4.294 | Train PPL:  73.287 | Train Time: 137.552\n",
            "Valid Loss: 4.059 | Valid PPL:  57.898 | Valid Time: 1.762\n",
            "Epoch: 3\n",
            "Train Loss: 3.876 | Train PPL:  48.231 | Train Time: 137.566\n",
            "Valid Loss: 3.724 | Valid PPL:  41.445 | Valid Time: 1.754\n",
            "Epoch: 4\n",
            "Train Loss: 3.580 | Train PPL:  35.891 | Train Time: 137.468\n",
            "Valid Loss: 3.477 | Valid PPL:  32.371 | Valid Time: 1.751\n",
            "Epoch: 5\n",
            "Train Loss: 3.355 | Train PPL:  28.637 | Train Time: 137.469\n",
            "Valid Loss: 3.285 | Valid PPL:  26.709 | Valid Time: 1.766\n",
            "Epoch: 6\n",
            "Train Loss: 3.169 | Train PPL:  23.788 | Train Time: 137.493\n",
            "Valid Loss: 3.121 | Valid PPL:  22.668 | Valid Time: 1.755\n",
            "Epoch: 7\n",
            "Train Loss: 3.008 | Train PPL:  20.248 | Train Time: 137.378\n",
            "Valid Loss: 2.981 | Valid PPL:  19.702 | Valid Time: 1.765\n",
            "Epoch: 8\n",
            "Train Loss: 2.869 | Train PPL:  17.616 | Train Time: 137.478\n",
            "Valid Loss: 2.858 | Valid PPL:  17.432 | Valid Time: 1.753\n",
            "Epoch: 9\n",
            "Train Loss: 2.744 | Train PPL:  15.550 | Train Time: 137.300\n",
            "Valid Loss: 2.754 | Valid PPL:  15.704 | Valid Time: 1.765\n",
            "== Test Loss: 2.693 | Test PPL:  14.775 | Test Time: 1.726 ==\n",
            "Test BLEU-1: 45.320555567741394 Test BLEU-2: 59.50704216957092\n"
          ]
        }
      ],
      "source": [
        "fix_experiment_seed()\n",
        "use_dropout = False\n",
        "strategy = \"greedy\"\n",
        "model = Transformer(head_size=64,\n",
        "                    enc_vocabulary_size=10838,\n",
        "                    dec_vocabulary_size=11510,\n",
        "                    max_len=max_len,\n",
        "                    hidden_size=512,\n",
        "                    num_heads=8,\n",
        "                    num_layers=6,\n",
        "                    use_dropout=use_dropout,\n",
        "                    p_dropout=0.1,\n",
        "                    strategy=strategy,\n",
        "                    device=device).to(device)\n",
        "optimizer = optim.Adam(model.parameters(), lr=1e-5)\n",
        "criterion = get_criterion()\n",
        "\n",
        "results = {\n",
        "    \"train_losses\": [],\n",
        "    \"train_ppls\":   [],\n",
        "    \"train_times\":  [],\n",
        "    \"valid_losses\": [],\n",
        "    \"valid_ppls\":   [],\n",
        "    \"valid_times\":  [],\n",
        "    \"test_loss\":    0.,\n",
        "    \"test_ppl\":     0.,\n",
        "    \"test_bleu1\":   0.,\n",
        "    \"test_bleu2\":   0.,\n",
        "    \"test_time\":    0.\n",
        "}\n",
        "\n",
        "if __name__ == \"__main__\":\n",
        "    n_epochs = 10\n",
        "\n",
        "    for epoch in range(n_epochs):\n",
        "        train_loss, train_ppl, train_time = train_transformer(model, train_loader, optimizer, criterion)\n",
        "        valid_loss, valid_ppl, valid_time = validate_transformer(model, val_loader, criterion)\n",
        "\n",
        "        print(f\"Epoch: {epoch}\")\n",
        "        print(f\"Train Loss: {train_loss:.3f} | Train PPL: {train_ppl:7.3f} | Train Time: {train_time:.3f}\")\n",
        "        print(f\"Valid Loss: {valid_loss:.3f} | Valid PPL: {valid_ppl:7.3f} | Valid Time: {valid_time:.3f}\")\n",
        "\n",
        "        results[\"train_losses\"].append(train_loss)\n",
        "        results[\"train_ppls\"].append(train_ppl)\n",
        "        results[\"train_times\"].append(train_time)\n",
        "        results[\"valid_losses\"].append(valid_loss)\n",
        "        results[\"valid_ppls\"].append(valid_ppl)\n",
        "        results[\"valid_times\"].append(valid_time)\n",
        "\n",
        "    test_loss, test_ppl, test_time = validate_transformer(model, test_loader, criterion)\n",
        "    print(f\"== Test Loss: {test_loss:.3f} | Test PPL: {test_ppl:7.3f} | Test Time: {test_time:.3f} ==\")\n",
        "    results[\"test_loss\"] = test_loss\n",
        "    results[\"test_ppl\"] = test_ppl\n",
        "    results[\"test_time\"] = test_time\n",
        "\n",
        "    results[\"test_bleu1\"], results[\"test_bleu2\"] = compute_bleu(model, test_loader)\n",
        "    print(\"Test BLEU-1:\", results[\"test_bleu1\"], \"Test BLEU-2:\", results[\"test_bleu2\"])\n",
        "\n",
        "    json.dump(results, open(f\"transformer-adam-dropout_{str(use_dropout)}-strategy_{strategy}.json\", \"w\"), indent=4)"
      ]
    },
    {
      "cell_type": "code",
      "source": [
        "! nvidia-smi"
      ],
      "metadata": {
        "colab": {
          "base_uri": "https://localhost:8080/"
        },
        "id": "bgL4Hc_r4XUY",
        "outputId": "b37e3fe6-8fbe-4328-f069-29fcb5dbde6c"
      },
      "execution_count": null,
      "outputs": [
        {
          "output_type": "stream",
          "name": "stdout",
          "text": [
            "Tue Nov 15 01:48:05 2022       \n",
            "+-----------------------------------------------------------------------------+\n",
            "| NVIDIA-SMI 460.32.03    Driver Version: 460.32.03    CUDA Version: 11.2     |\n",
            "|-------------------------------+----------------------+----------------------+\n",
            "| GPU  Name        Persistence-M| Bus-Id        Disp.A | Volatile Uncorr. ECC |\n",
            "| Fan  Temp  Perf  Pwr:Usage/Cap|         Memory-Usage | GPU-Util  Compute M. |\n",
            "|                               |                      |               MIG M. |\n",
            "|===============================+======================+======================|\n",
            "|   0  Tesla T4            Off  | 00000000:00:04.0 Off |                    0 |\n",
            "| N/A   73C    P0    32W /  70W |   8194MiB / 15109MiB |      1%      Default |\n",
            "|                               |                      |                  N/A |\n",
            "+-------------------------------+----------------------+----------------------+\n",
            "                                                                               \n",
            "+-----------------------------------------------------------------------------+\n",
            "| Processes:                                                                  |\n",
            "|  GPU   GI   CI        PID   Type   Process name                  GPU Memory |\n",
            "|        ID   ID                                                   Usage      |\n",
            "|=============================================================================|\n",
            "+-----------------------------------------------------------------------------+\n"
          ]
        }
      ]
    },
    {
      "cell_type": "code",
      "execution_count": null,
      "metadata": {
        "colab": {
          "base_uri": "https://localhost:8080/"
        },
        "id": "9IaAgu_wqSty",
        "outputId": "d8a4203f-64c3-463a-806a-b8d0b6369353"
      },
      "outputs": [
        {
          "output_type": "stream",
          "name": "stdout",
          "text": [
            "Epoch: 0\n",
            "Train Loss: 9.574 | Train PPL: 14390.355 | Train Time: 136.603\n",
            "Valid Loss: 9.574 | Valid PPL: 14383.062 | Valid Time: 1.742\n",
            "Epoch: 1\n",
            "Train Loss: 9.564 | Train PPL: 14236.243 | Train Time: 136.468\n",
            "Valid Loss: 9.552 | Valid PPL: 14069.772 | Valid Time: 1.764\n",
            "Epoch: 2\n",
            "Train Loss: 9.550 | Train PPL: 14048.166 | Train Time: 136.396\n",
            "Valid Loss: 9.530 | Valid PPL: 13768.360 | Valid Time: 1.765\n",
            "Epoch: 3\n",
            "Train Loss: 9.542 | Train PPL: 13930.615 | Train Time: 136.612\n",
            "Valid Loss: 9.508 | Valid PPL: 13471.915 | Valid Time: 1.758\n",
            "Epoch: 4\n",
            "Train Loss: 9.530 | Train PPL: 13770.278 | Train Time: 136.629\n",
            "Valid Loss: 9.486 | Valid PPL: 13177.782 | Valid Time: 1.767\n",
            "Epoch: 5\n",
            "Train Loss: 9.519 | Train PPL: 13622.198 | Train Time: 136.506\n",
            "Valid Loss: 9.465 | Valid PPL: 12898.203 | Valid Time: 1.760\n",
            "Epoch: 6\n",
            "Train Loss: 9.509 | Train PPL: 13482.733 | Train Time: 136.431\n",
            "Valid Loss: 9.443 | Valid PPL: 12619.739 | Valid Time: 1.757\n",
            "Epoch: 7\n",
            "Train Loss: 9.499 | Train PPL: 13344.196 | Train Time: 136.250\n",
            "Valid Loss: 9.421 | Valid PPL: 12348.473 | Valid Time: 1.760\n",
            "Epoch: 8\n",
            "Train Loss: 9.487 | Train PPL: 13182.037 | Train Time: 136.307\n",
            "Valid Loss: 9.399 | Valid PPL: 12082.141 | Valid Time: 1.757\n",
            "Epoch: 9\n",
            "Train Loss: 9.476 | Train PPL: 13047.928 | Train Time: 136.113\n",
            "Valid Loss: 9.378 | Valid PPL: 11822.381 | Valid Time: 1.750\n",
            "== Test Loss: 9.369 | Test PPL: 11713.661 | Test Time: 1.721 ==\n",
            "Test BLEU-1: 0.0 Test BLEU-2: 0.02604167675599456\n"
          ]
        }
      ],
      "source": [
        "fix_experiment_seed()\n",
        "use_dropout = True\n",
        "strategy = \"greedy\"\n",
        "model = Transformer(head_size=64,\n",
        "                    enc_vocabulary_size=10838,\n",
        "                    dec_vocabulary_size=11510,\n",
        "                    max_len=max_len,\n",
        "                    hidden_size=512,\n",
        "                    num_heads=8,\n",
        "                    num_layers=6,\n",
        "                    use_dropout=use_dropout,\n",
        "                    p_dropout=0.1,\n",
        "                    strategy=strategy,\n",
        "                    device=device).to(device)\n",
        "optimizer = optim.SGD(model.parameters(), lr=1e-5)\n",
        "criterion = get_criterion()\n",
        "\n",
        "results = {\n",
        "    \"train_losses\": [],\n",
        "    \"train_ppls\":   [],\n",
        "    \"train_times\":  [],\n",
        "    \"valid_losses\": [],\n",
        "    \"valid_ppls\":   [],\n",
        "    \"valid_times\":  [],\n",
        "    \"test_loss\":    0.,\n",
        "    \"test_ppl\":     0.,\n",
        "    \"test_bleu1\":   0.,\n",
        "    \"test_bleu2\":   0.,\n",
        "    \"test_time\":    0.\n",
        "}\n",
        "\n",
        "if __name__ == \"__main__\":\n",
        "    n_epochs = 10\n",
        "\n",
        "    for epoch in range(n_epochs):\n",
        "        train_loss, train_ppl, train_time = train_transformer(model, train_loader, optimizer, criterion)\n",
        "        valid_loss, valid_ppl, valid_time = validate_transformer(model, val_loader, criterion)\n",
        "\n",
        "        print(f\"Epoch: {epoch}\")\n",
        "        print(f\"Train Loss: {train_loss:.3f} | Train PPL: {train_ppl:7.3f} | Train Time: {train_time:.3f}\")\n",
        "        print(f\"Valid Loss: {valid_loss:.3f} | Valid PPL: {valid_ppl:7.3f} | Valid Time: {valid_time:.3f}\")\n",
        "\n",
        "        results[\"train_losses\"].append(train_loss)\n",
        "        results[\"train_ppls\"].append(train_ppl)\n",
        "        results[\"train_times\"].append(train_time)\n",
        "        results[\"valid_losses\"].append(valid_loss)\n",
        "        results[\"valid_ppls\"].append(valid_ppl)\n",
        "        results[\"valid_times\"].append(valid_time)\n",
        "\n",
        "    test_loss, test_ppl, test_time = validate_transformer(model, test_loader, criterion)\n",
        "    print(f\"== Test Loss: {test_loss:.3f} | Test PPL: {test_ppl:7.3f} | Test Time: {test_time:.3f} ==\")\n",
        "    results[\"test_loss\"] = test_loss\n",
        "    results[\"test_ppl\"] = test_ppl\n",
        "    results[\"test_time\"] = test_time\n",
        "\n",
        "    results[\"test_bleu1\"], results[\"test_bleu2\"] = compute_bleu(model, test_loader)\n",
        "    print(\"Test BLEU-1:\", results[\"test_bleu1\"], \"Test BLEU-2:\", results[\"test_bleu2\"])\n",
        "\n",
        "    json.dump(results, open(f\"transformer-sgd-dropout_{str(use_dropout)}-strategy_{strategy}.json\", \"w\"), indent=4)"
      ]
    },
    {
      "cell_type": "code",
      "source": [
        "! nvidia-smi"
      ],
      "metadata": {
        "colab": {
          "base_uri": "https://localhost:8080/"
        },
        "id": "I3x3uc9I4c0S",
        "outputId": "a2ccb7e1-9c6f-4231-8be5-7227a4d6e977"
      },
      "execution_count": null,
      "outputs": [
        {
          "output_type": "stream",
          "name": "stdout",
          "text": [
            "Tue Nov 15 02:11:20 2022       \n",
            "+-----------------------------------------------------------------------------+\n",
            "| NVIDIA-SMI 460.32.03    Driver Version: 460.32.03    CUDA Version: 11.2     |\n",
            "|-------------------------------+----------------------+----------------------+\n",
            "| GPU  Name        Persistence-M| Bus-Id        Disp.A | Volatile Uncorr. ECC |\n",
            "| Fan  Temp  Perf  Pwr:Usage/Cap|         Memory-Usage | GPU-Util  Compute M. |\n",
            "|                               |                      |               MIG M. |\n",
            "|===============================+======================+======================|\n",
            "|   0  Tesla T4            Off  | 00000000:00:04.0 Off |                    0 |\n",
            "| N/A   72C    P0    32W /  70W |   8630MiB / 15109MiB |      1%      Default |\n",
            "|                               |                      |                  N/A |\n",
            "+-------------------------------+----------------------+----------------------+\n",
            "                                                                               \n",
            "+-----------------------------------------------------------------------------+\n",
            "| Processes:                                                                  |\n",
            "|  GPU   GI   CI        PID   Type   Process name                  GPU Memory |\n",
            "|        ID   ID                                                   Usage      |\n",
            "|=============================================================================|\n",
            "+-----------------------------------------------------------------------------+\n"
          ]
        }
      ]
    },
    {
      "cell_type": "code",
      "execution_count": null,
      "metadata": {
        "colab": {
          "base_uri": "https://localhost:8080/"
        },
        "id": "uXRxzBE0qWG5",
        "outputId": "4fc0d935-fb2e-451c-edc4-54b0ec37e7f4"
      },
      "outputs": [
        {
          "output_type": "stream",
          "name": "stdout",
          "text": [
            "Epoch: 0\n",
            "Train Loss: 7.525 | Train PPL: 1853.799 | Train Time: 140.109\n",
            "Valid Loss: 6.254 | Valid PPL: 520.055 | Valid Time: 1.738\n",
            "Epoch: 1\n",
            "Train Loss: 5.826 | Train PPL: 338.870 | Train Time: 139.793\n",
            "Valid Loss: 5.194 | Valid PPL: 180.105 | Valid Time: 1.762\n",
            "Epoch: 2\n",
            "Train Loss: 5.100 | Train PPL: 164.004 | Train Time: 139.688\n",
            "Valid Loss: 4.856 | Valid PPL: 128.536 | Valid Time: 1.745\n",
            "Epoch: 3\n",
            "Train Loss: 4.797 | Train PPL: 121.122 | Train Time: 139.828\n",
            "Valid Loss: 4.565 | Valid PPL:  96.101 | Valid Time: 1.740\n",
            "Epoch: 4\n",
            "Train Loss: 4.530 | Train PPL:  92.714 | Train Time: 139.712\n",
            "Valid Loss: 4.326 | Valid PPL:  75.615 | Valid Time: 1.744\n",
            "Epoch: 5\n",
            "Train Loss: 4.329 | Train PPL:  75.833 | Train Time: 139.947\n",
            "Valid Loss: 4.158 | Valid PPL:  63.922 | Valid Time: 1.752\n",
            "Epoch: 6\n",
            "Train Loss: 4.175 | Train PPL:  65.059 | Train Time: 139.653\n",
            "Valid Loss: 4.011 | Valid PPL:  55.220 | Valid Time: 1.758\n",
            "Epoch: 7\n",
            "Train Loss: 4.049 | Train PPL:  57.361 | Train Time: 139.689\n",
            "Valid Loss: 3.903 | Valid PPL:  49.551 | Valid Time: 1.752\n",
            "Epoch: 8\n",
            "Train Loss: 3.939 | Train PPL:  51.382 | Train Time: 139.388\n",
            "Valid Loss: 3.803 | Valid PPL:  44.847 | Valid Time: 1.743\n",
            "Epoch: 9\n",
            "Train Loss: 3.841 | Train PPL:  46.583 | Train Time: 139.912\n",
            "Valid Loss: 3.720 | Valid PPL:  41.264 | Valid Time: 1.751\n",
            "== Test Loss: 3.704 | Test PPL:  40.607 | Test Time: 1.728 ==\n",
            "Test BLEU-1: 23.047821401929745 Test BLEU-2: 36.566930787412524\n"
          ]
        }
      ],
      "source": [
        "fix_experiment_seed()\n",
        "use_dropout = True\n",
        "strategy = \"greedy\"\n",
        "model = Transformer(head_size=64,\n",
        "                    enc_vocabulary_size=10838,\n",
        "                    dec_vocabulary_size=11510,\n",
        "                    max_len=max_len,\n",
        "                    hidden_size=512,\n",
        "                    num_heads=8,\n",
        "                    num_layers=6,\n",
        "                    use_dropout=use_dropout,\n",
        "                    p_dropout=0.1,\n",
        "                    strategy=strategy,\n",
        "                    device=device).to(device)\n",
        "optimizer = optim.Adam(model.parameters(), lr=1e-5)\n",
        "criterion = get_criterion()\n",
        "\n",
        "results = {\n",
        "    \"train_losses\": [],\n",
        "    \"train_ppls\":   [],\n",
        "    \"train_times\":  [],\n",
        "    \"valid_losses\": [],\n",
        "    \"valid_ppls\":   [],\n",
        "    \"valid_times\":  [],\n",
        "    \"test_loss\":    0.,\n",
        "    \"test_ppl\":     0.,\n",
        "    \"test_bleu1\":   0.,\n",
        "    \"test_bleu2\":   0.,\n",
        "    \"test_time\":    0.\n",
        "}\n",
        "\n",
        "if __name__ == \"__main__\":\n",
        "    n_epochs = 10\n",
        "\n",
        "    for epoch in range(n_epochs):\n",
        "        train_loss, train_ppl, train_time = train_transformer(model, train_loader, optimizer, criterion)\n",
        "        valid_loss, valid_ppl, valid_time = validate_transformer(model, val_loader, criterion)\n",
        "\n",
        "        print(f\"Epoch: {epoch}\")\n",
        "        print(f\"Train Loss: {train_loss:.3f} | Train PPL: {train_ppl:7.3f} | Train Time: {train_time:.3f}\")\n",
        "        print(f\"Valid Loss: {valid_loss:.3f} | Valid PPL: {valid_ppl:7.3f} | Valid Time: {valid_time:.3f}\")\n",
        "\n",
        "        results[\"train_losses\"].append(train_loss)\n",
        "        results[\"train_ppls\"].append(train_ppl)\n",
        "        results[\"train_times\"].append(train_time)\n",
        "        results[\"valid_losses\"].append(valid_loss)\n",
        "        results[\"valid_ppls\"].append(valid_ppl)\n",
        "        results[\"valid_times\"].append(valid_time)\n",
        "\n",
        "    test_loss, test_ppl, test_time = validate_transformer(model, test_loader, criterion)\n",
        "    print(f\"== Test Loss: {test_loss:.3f} | Test PPL: {test_ppl:7.3f} | Test Time: {test_time:.3f} ==\")\n",
        "    results[\"test_loss\"] = test_loss\n",
        "    results[\"test_ppl\"] = test_ppl\n",
        "    results[\"test_time\"] = test_time\n",
        "\n",
        "    results[\"test_bleu1\"], results[\"test_bleu2\"] = compute_bleu(model, test_loader)\n",
        "    print(\"Test BLEU-1:\", results[\"test_bleu1\"], \"Test BLEU-2:\", results[\"test_bleu2\"])\n",
        "\n",
        "    json.dump(results, open(f\"transformer-adam-dropout_{str(use_dropout)}-strategy_{strategy}.json\", \"w\"), indent=4)"
      ]
    },
    {
      "cell_type": "code",
      "source": [
        "! nvidia-smi"
      ],
      "metadata": {
        "colab": {
          "base_uri": "https://localhost:8080/"
        },
        "id": "CT_kDTIg4e8O",
        "outputId": "65aa4c51-99e2-4547-805a-96f0812a86da"
      },
      "execution_count": null,
      "outputs": [
        {
          "output_type": "stream",
          "name": "stdout",
          "text": [
            "Tue Nov 15 02:35:02 2022       \n",
            "+-----------------------------------------------------------------------------+\n",
            "| NVIDIA-SMI 460.32.03    Driver Version: 460.32.03    CUDA Version: 11.2     |\n",
            "|-------------------------------+----------------------+----------------------+\n",
            "| GPU  Name        Persistence-M| Bus-Id        Disp.A | Volatile Uncorr. ECC |\n",
            "| Fan  Temp  Perf  Pwr:Usage/Cap|         Memory-Usage | GPU-Util  Compute M. |\n",
            "|                               |                      |               MIG M. |\n",
            "|===============================+======================+======================|\n",
            "|   0  Tesla T4            Off  | 00000000:00:04.0 Off |                    0 |\n",
            "| N/A   73C    P0    32W /  70W |   8630MiB / 15109MiB |      2%      Default |\n",
            "|                               |                      |                  N/A |\n",
            "+-------------------------------+----------------------+----------------------+\n",
            "                                                                               \n",
            "+-----------------------------------------------------------------------------+\n",
            "| Processes:                                                                  |\n",
            "|  GPU   GI   CI        PID   Type   Process name                  GPU Memory |\n",
            "|        ID   ID                                                   Usage      |\n",
            "|=============================================================================|\n",
            "+-----------------------------------------------------------------------------+\n"
          ]
        }
      ]
    },
    {
      "cell_type": "code",
      "execution_count": null,
      "metadata": {
        "colab": {
          "base_uri": "https://localhost:8080/"
        },
        "id": "t9SUCLyLqYf1",
        "outputId": "c615bc88-3efe-45c6-c764-b1f70ef2b510"
      },
      "outputs": [
        {
          "output_type": "stream",
          "name": "stdout",
          "text": [
            "Epoch: 0\n",
            "Train Loss: 7.525 | Train PPL: 1853.799 | Train Time: 139.930\n",
            "Valid Loss: 6.254 | Valid PPL: 520.055 | Valid Time: 1.753\n",
            "Epoch: 1\n",
            "Train Loss: 5.826 | Train PPL: 338.870 | Train Time: 139.884\n",
            "Valid Loss: 5.194 | Valid PPL: 180.105 | Valid Time: 1.745\n",
            "Epoch: 2\n",
            "Train Loss: 5.100 | Train PPL: 164.004 | Train Time: 139.776\n",
            "Valid Loss: 4.856 | Valid PPL: 128.536 | Valid Time: 1.759\n",
            "Epoch: 3\n",
            "Train Loss: 4.797 | Train PPL: 121.122 | Train Time: 139.775\n",
            "Valid Loss: 4.565 | Valid PPL:  96.101 | Valid Time: 1.751\n",
            "Epoch: 4\n",
            "Train Loss: 4.530 | Train PPL:  92.714 | Train Time: 140.129\n",
            "Valid Loss: 4.326 | Valid PPL:  75.615 | Valid Time: 1.762\n",
            "Epoch: 5\n",
            "Train Loss: 4.329 | Train PPL:  75.833 | Train Time: 139.948\n",
            "Valid Loss: 4.158 | Valid PPL:  63.922 | Valid Time: 1.752\n",
            "Epoch: 6\n",
            "Train Loss: 4.175 | Train PPL:  65.059 | Train Time: 140.041\n",
            "Valid Loss: 4.011 | Valid PPL:  55.220 | Valid Time: 1.755\n",
            "Epoch: 7\n",
            "Train Loss: 4.049 | Train PPL:  57.361 | Train Time: 139.998\n",
            "Valid Loss: 3.903 | Valid PPL:  49.551 | Valid Time: 1.743\n",
            "Epoch: 8\n",
            "Train Loss: 3.939 | Train PPL:  51.382 | Train Time: 139.842\n",
            "Valid Loss: 3.803 | Valid PPL:  44.847 | Valid Time: 1.766\n",
            "Epoch: 9\n",
            "Train Loss: 3.841 | Train PPL:  46.583 | Train Time: 139.698\n",
            "Valid Loss: 3.720 | Valid PPL:  41.264 | Valid Time: 1.750\n",
            "== Test Loss: 3.704 | Test PPL:  40.607 | Test Time: 1.727 ==\n",
            "Test BLEU-1: 22.00977901559599 Test BLEU-2: 37.822267029453826\n"
          ]
        }
      ],
      "source": [
        "fix_experiment_seed()\n",
        "use_dropout = True\n",
        "strategy = \"random\"\n",
        "model = Transformer(head_size=64,\n",
        "                    enc_vocabulary_size=10838,\n",
        "                    dec_vocabulary_size=11510,\n",
        "                    max_len=max_len,\n",
        "                    hidden_size=512,\n",
        "                    num_heads=8,\n",
        "                    num_layers=6,\n",
        "                    use_dropout=use_dropout,\n",
        "                    p_dropout=0.1,\n",
        "                    strategy=strategy,\n",
        "                    device=device).to(device)\n",
        "optimizer = optim.Adam(model.parameters(), lr=1e-5)\n",
        "criterion = get_criterion()\n",
        "\n",
        "results = {\n",
        "    \"train_losses\": [],\n",
        "    \"train_ppls\":   [],\n",
        "    \"train_times\":  [],\n",
        "    \"valid_losses\": [],\n",
        "    \"valid_ppls\":   [],\n",
        "    \"valid_times\":  [],\n",
        "    \"test_loss\":    0.,\n",
        "    \"test_ppl\":     0.,\n",
        "    \"test_bleu1\":   0.,\n",
        "    \"test_bleu2\":   0.,\n",
        "    \"test_time\":    0.\n",
        "}\n",
        "\n",
        "if __name__ == \"__main__\":\n",
        "    n_epochs = 10\n",
        "\n",
        "    for epoch in range(n_epochs):\n",
        "        train_loss, train_ppl, train_time = train_transformer(model, train_loader, optimizer, criterion)\n",
        "        valid_loss, valid_ppl, valid_time = validate_transformer(model, val_loader, criterion)\n",
        "\n",
        "        print(f\"Epoch: {epoch}\")\n",
        "        print(f\"Train Loss: {train_loss:.3f} | Train PPL: {train_ppl:7.3f} | Train Time: {train_time:.3f}\")\n",
        "        print(f\"Valid Loss: {valid_loss:.3f} | Valid PPL: {valid_ppl:7.3f} | Valid Time: {valid_time:.3f}\")\n",
        "\n",
        "        results[\"train_losses\"].append(train_loss)\n",
        "        results[\"train_ppls\"].append(train_ppl)\n",
        "        results[\"train_times\"].append(train_time)\n",
        "        results[\"valid_losses\"].append(valid_loss)\n",
        "        results[\"valid_ppls\"].append(valid_ppl)\n",
        "        results[\"valid_times\"].append(valid_time)\n",
        "\n",
        "    test_loss, test_ppl, test_time = validate_transformer(model, test_loader, criterion)\n",
        "    print(f\"== Test Loss: {test_loss:.3f} | Test PPL: {test_ppl:7.3f} | Test Time: {test_time:.3f} ==\")\n",
        "    results[\"test_loss\"] = test_loss\n",
        "    results[\"test_ppl\"] = test_ppl\n",
        "    results[\"test_time\"] = test_time\n",
        "\n",
        "    results[\"test_bleu1\"], results[\"test_bleu2\"] = compute_bleu(model, test_loader)\n",
        "    print(\"Test BLEU-1:\", results[\"test_bleu1\"], \"Test BLEU-2:\", results[\"test_bleu2\"])\n",
        "\n",
        "    json.dump(results, open(f\"transformer-adam-dropout_{str(use_dropout)}-strategy_{strategy}.json\", \"w\"), indent=4)"
      ]
    },
    {
      "cell_type": "code",
      "source": [
        "! nvidia-smi"
      ],
      "metadata": {
        "colab": {
          "base_uri": "https://localhost:8080/"
        },
        "id": "RRyM64OI4gtE",
        "outputId": "860da65f-3e8e-448b-b500-296a14901f41"
      },
      "execution_count": null,
      "outputs": [
        {
          "output_type": "stream",
          "name": "stdout",
          "text": [
            "Tue Nov 15 02:58:45 2022       \n",
            "+-----------------------------------------------------------------------------+\n",
            "| NVIDIA-SMI 460.32.03    Driver Version: 460.32.03    CUDA Version: 11.2     |\n",
            "|-------------------------------+----------------------+----------------------+\n",
            "| GPU  Name        Persistence-M| Bus-Id        Disp.A | Volatile Uncorr. ECC |\n",
            "| Fan  Temp  Perf  Pwr:Usage/Cap|         Memory-Usage | GPU-Util  Compute M. |\n",
            "|                               |                      |               MIG M. |\n",
            "|===============================+======================+======================|\n",
            "|   0  Tesla T4            Off  | 00000000:00:04.0 Off |                    0 |\n",
            "| N/A   74C    P0    33W /  70W |   8634MiB / 15109MiB |      0%      Default |\n",
            "|                               |                      |                  N/A |\n",
            "+-------------------------------+----------------------+----------------------+\n",
            "                                                                               \n",
            "+-----------------------------------------------------------------------------+\n",
            "| Processes:                                                                  |\n",
            "|  GPU   GI   CI        PID   Type   Process name                  GPU Memory |\n",
            "|        ID   ID                                                   Usage      |\n",
            "|=============================================================================|\n",
            "+-----------------------------------------------------------------------------+\n"
          ]
        }
      ]
    },
    {
      "cell_type": "code",
      "source": [
        "from tqdm import tqdm\n",
        "dest = []\n",
        "for i in tqdm(range(10,1000)):\n",
        "    model = MultiHeadAttention(1,i)\n",
        "    model_parameters = filter(lambda p: p.requires_grad, model.parameters())\n",
        "    params = sum([np.prod(p.size()) for p in model_parameters])\n",
        "    dest.append(params)"
      ],
      "metadata": {
        "colab": {
          "base_uri": "https://localhost:8080/"
        },
        "id": "c1A1KDkZRk8L",
        "outputId": "ea864d25-5f7b-4ebc-baac-b38f47c43db8"
      },
      "execution_count": null,
      "outputs": [
        {
          "output_type": "stream",
          "name": "stderr",
          "text": [
            "100%|██████████| 990/990 [00:09<00:00, 99.46it/s]\n"
          ]
        }
      ]
    },
    {
      "cell_type": "code",
      "source": [
        "plt.plot(range(10,1000),dest)"
      ],
      "metadata": {
        "colab": {
          "base_uri": "https://localhost:8080/",
          "height": 293
        },
        "id": "UFBFjCKJR5DG",
        "outputId": "e5600db0-485e-45f7-f83e-dfd40c6c36f0"
      },
      "execution_count": null,
      "outputs": [
        {
          "output_type": "execute_result",
          "data": {
            "text/plain": [
              "[<matplotlib.lines.Line2D at 0x7f7bdd15c7d0>]"
            ]
          },
          "metadata": {},
          "execution_count": 75
        },
        {
          "output_type": "display_data",
          "data": {
            "text/plain": [
              "<Figure size 432x288 with 1 Axes>"
            ],
            "image/png": "[encoded data removed]"
          },
          "metadata": {
            "needs_background": "light"
          }
        }
      ]
    },
    {
      "cell_type": "code",
      "source": [],
      "metadata": {
        "id": "nxKOFHWnS1Nz"
      },
      "execution_count": null,
      "outputs": []
    },
    {
      "cell_type": "markdown",
      "metadata": {
        "id": "1paIUAn6P-ZJ"
      },
      "source": [
        "#### Basic Tests"
      ]
    },
    {
      "cell_type": "code",
      "execution_count": null,
      "metadata": {
        "id": "PNCxYusVP_xU"
      },
      "outputs": [],
      "source": [
        "class TestLayerNormShapes():\n",
        "    def __init__(self):\n",
        "        self.hidden_size = 11\n",
        "        self.layer_norm = LayerNorm(self.hidden_size)\n",
        "\n",
        "    def test_forward_shape(self):\n",
        "        shape = (3, 5, 7)\n",
        "        inputs = torch.randn(*shape, self.hidden_size)\n",
        "\n",
        "        outputs = self.layer_norm(inputs)\n",
        "\n",
        "        expected_shape = (*shape, self.hidden_size)\n",
        "        assert isinstance(outputs, torch.Tensor), (\n",
        "            \"The output of the module \" \"must be a torch.Tensor\"\n",
        "        )\n",
        "        assert outputs.shape == expected_shape, (\n",
        "            \"The shape of the output of \"\n",
        "            \"the module is invalid with `inputs` of shape {0}.\\n  Got \"\n",
        "            \"shape {1}\\n  Expected shape: {2}\\nRecall that the output should \"\n",
        "            \"have shape (*dims, hidden_size)\".format(\n",
        "                tuple(inputs.shape), tuple(outputs.shape), expected_shape\n",
        "            )\n",
        "        )\n",
        "if __name__ == \"__main__\":\n",
        "    TestLayerNormShapes().test_forward_shape()\n",
        "\n",
        "class TestMultiHeadAttentionShapes():\n",
        "    def __init__(self):\n",
        "        self.head_size = 11\n",
        "        self.num_heads = 13\n",
        "        self.sequence_length = 17\n",
        "\n",
        "        self.attention = MultiHeadAttention(\n",
        "            self.head_size, self.num_heads\n",
        "        )\n",
        "\n",
        "    def test_get_attention_weights_shape(self):\n",
        "        batch_size = 7\n",
        "        queries = torch.randn(\n",
        "            batch_size, self.num_heads, self.sequence_length, self.head_size\n",
        "        )\n",
        "        keys = torch.randn(\n",
        "            batch_size, self.num_heads, self.sequence_length, self.head_size\n",
        "        )\n",
        "\n",
        "        attention_weights = self.attention.get_attention_weights(queries, keys)\n",
        "\n",
        "        expected_shape = (\n",
        "            batch_size,\n",
        "            self.num_heads,\n",
        "            self.sequence_length,\n",
        "            self.sequence_length,\n",
        "        )\n",
        "        assert isinstance(attention_weights, torch.Tensor), (\n",
        "            \"The output of \" \"`get_attention_weights` must be a torch.Tensor.\"\n",
        "        )\n",
        "        assert attention_weights.shape == expected_shape, (\n",
        "            \"The shape of your \"\n",
        "            \"attention weights is invalid with `queries` of shape {0}, and \"\n",
        "            \"`keys` of shape {1}.\\n  Got shape: {2}\\n  Expected shape: {3}\\n\"\n",
        "            \"Recall that the attention weights should have shape (batch_size, \"\n",
        "            \"num_heads, sequence_length, sequence_length).\".format(\n",
        "                tuple(queries.shape),\n",
        "                tuple(keys.shape),\n",
        "                tuple(attention_weights.shape),\n",
        "                expected_shape,\n",
        "            )\n",
        "        )\n",
        "\n",
        "    def test_apply_attention_shape(self):\n",
        "        batch_size = 7\n",
        "        queries = torch.randn(\n",
        "            batch_size, self.num_heads, self.sequence_length, self.head_size\n",
        "        )\n",
        "        keys = torch.randn(\n",
        "            batch_size, self.num_heads, self.sequence_length, self.head_size\n",
        "        )\n",
        "        values = torch.randn(\n",
        "            batch_size, self.num_heads, self.sequence_length, self.head_size\n",
        "        )\n",
        "\n",
        "        outputs = self.attention.apply_attention(queries, keys, values)\n",
        "\n",
        "        expected_shape = (\n",
        "            batch_size,\n",
        "            self.sequence_length,\n",
        "            self.num_heads * self.head_size,\n",
        "        )\n",
        "        assert isinstance(outputs, torch.Tensor), (\n",
        "            \"The output of \" \"`apply_attention` must be a torch.Tensor.\"\n",
        "        )\n",
        "        assert outputs.shape == expected_shape, (\n",
        "            \"The shape of the output of \"\n",
        "            \"`apply_attention` is invalid with `queries` of shape {0}, `keys` \"\n",
        "            \"of shape {1}, and `values` of shape {2}.\\n  Got shape: {3}\\n  \"\n",
        "            \"Expected shape: {4}\\nRecall that the attention weights should have \"\n",
        "            \"shape (batch_size, sequence_length, num_heads * head_size).\".format(\n",
        "                tuple(queries.shape),\n",
        "                tuple(keys.shape),\n",
        "                tuple(values.shape),\n",
        "                tuple(outputs.shape),\n",
        "                expected_shape,\n",
        "            )\n",
        "        )\n",
        "\n",
        "    def test_split_heads_shape(self):\n",
        "        batch_size = 7\n",
        "        dim = 23\n",
        "        tensor = torch.randn(batch_size, self.sequence_length, self.num_heads * dim)\n",
        "\n",
        "        output = self.attention.split_heads(tensor)\n",
        "\n",
        "        expected_shape = (batch_size, self.num_heads, self.sequence_length, dim)\n",
        "        assert isinstance(output, torch.Tensor), (\n",
        "            \"The output of `split_heads` \" \"must be a torch.Tensor.\"\n",
        "        )\n",
        "        assert output.shape == expected_shape, (\n",
        "            \"The shape of the output of \"\n",
        "            \"`split_heads` is invalid with `tensor` of shape {0}.\\n  Got shape \"\n",
        "            \"{1}\\n  Expected shape: {2}\\nRecall that the output should have \"\n",
        "            \"shape (batch_size, num_heads, sequence_length, dim)\".format(\n",
        "                tuple(tensor.shape), tuple(output.shape), expected_shape\n",
        "            )\n",
        "        )\n",
        "\n",
        "    def test_merge_heads_shape(self):\n",
        "        batch_size = 7\n",
        "        dim = 23\n",
        "        tensor = torch.randn(batch_size, self.num_heads, self.sequence_length, dim)\n",
        "\n",
        "        output = self.attention.merge_heads(tensor)\n",
        "\n",
        "        expected_shape = (batch_size, self.sequence_length, self.num_heads * dim)\n",
        "        assert isinstance(output, torch.Tensor), (\n",
        "            \"The output of `merge_heads` \" \"must be a torch.Tensor.\"\n",
        "        )\n",
        "        assert output.shape == expected_shape, (\n",
        "            \"The shape of the output of \"\n",
        "            \"`merge_heads` is invalid with `tensor` of shape {0}.\\n  Got shape \"\n",
        "            \"{1}\\n  Expected shape: {2}\\nRecall that the output should have \"\n",
        "            \"shape (batch_size, sequence_length, num_heads * dim)\".format(\n",
        "                tuple(tensor.shape), tuple(output.shape), expected_shape\n",
        "            )\n",
        "        )\n",
        "\n",
        "    def test_forward_shape(self):\n",
        "        batch_size = 7\n",
        "        hidden_states = torch.randn(\n",
        "            batch_size, self.sequence_length, self.num_heads * self.head_size\n",
        "        )\n",
        "\n",
        "        outputs = self.attention(hidden_states, hidden_states, hidden_states)\n",
        "\n",
        "        expected_shape = (\n",
        "            batch_size,\n",
        "            self.sequence_length,\n",
        "            self.num_heads * self.head_size,\n",
        "        )\n",
        "        assert isinstance(outputs, torch.Tensor), (\n",
        "            \"The output of the module \" \"must be a torch.Tensor.\"\n",
        "        )\n",
        "        assert outputs.shape == expected_shape, (\n",
        "            \"The shape of the output of \"\n",
        "            \"the module is invalid with `hidden_sizes` of shape {0}.\\n  Got \"\n",
        "            \"shape {1}\\n  Expected shape: {2}\\nRecall that the output should \"\n",
        "            \"have shape (batch_size, sequence_length, num_heads * head_size)\".format(\n",
        "                tuple(hidden_states.shape), tuple(outputs.shape), expected_shape\n",
        "            )\n",
        "        )\n",
        "\n",
        "if __name__ == \"__main__\":\n",
        "    TestMultiHeadAttentionShapes().test_get_attention_weights_shape()\n",
        "    TestMultiHeadAttentionShapes().test_apply_attention_shape()\n",
        "    TestMultiHeadAttentionShapes().test_split_heads_shape()\n",
        "    TestMultiHeadAttentionShapes().test_merge_heads_shape()\n",
        "    TestMultiHeadAttentionShapes().test_forward_shape()"
      ]
    },
    {
      "cell_type": "code",
      "source": [
        "from google.colab import drive\n",
        "drive.mount('/content/drive')"
      ],
      "metadata": {
        "colab": {
          "base_uri": "https://localhost:8080/"
        },
        "id": "R-OozzZTuQzR",
        "outputId": "120419eb-428b-409c-a844-ccf3cbda824e"
      },
      "execution_count": null,
      "outputs": [
        {
          "output_type": "stream",
          "name": "stdout",
          "text": [
            "Mounted at /content/drive\n"
          ]
        }
      ]
    },
    {
      "cell_type": "code",
      "source": [
        "data.keys()"
      ],
      "metadata": {
        "colab": {
          "base_uri": "https://localhost:8080/"
        },
        "id": "Xw_ih9XLi2e_",
        "outputId": "acea8f85-f903-44f8-d39c-3d0959cc5c70"
      },
      "execution_count": null,
      "outputs": [
        {
          "output_type": "execute_result",
          "data": {
            "text/plain": [
              "dict_keys(['train_losses', 'train_ppls', 'train_times', 'valid_losses', 'valid_ppls', 'valid_times', 'test_loss', 'test_ppl', 'test_bleu1', 'test_bleu2', 'test_time'])"
            ]
          },
          "metadata": {},
          "execution_count": 42
        }
      ]
    },
    {
      "cell_type": "code",
      "source": [
        "def adding(l):\n",
        "  sum = 0\n",
        "  ll = []\n",
        "  for a in l:\n",
        "    sum = sum + a\n",
        "    ll.append(sum)\n",
        "  return ll"
      ],
      "metadata": {
        "id": "bVoCz0lTl3Xv"
      },
      "execution_count": null,
      "outputs": []
    },
    {
      "cell_type": "code",
      "source": [
        "f = open(\"/content/drive/MyDrive/transformer-adam-dropout_True-strategy_random.json\",\"r\")\n",
        "data = json.load(f)\n"
      ],
      "metadata": {
        "id": "sfy8HGdqd_zA"
      },
      "execution_count": null,
      "outputs": []
    },
    {
      "cell_type": "code",
      "source": [
        "#Over epochs\n",
        "#the loss train validation\n",
        "train_ppls = data['train_losses']\n",
        "validation_ppls = data['valid_losses']\n",
        "epochs = list(range(1,11))\n",
        "\n",
        "plt.plot(epochs,validation_ppls)\n",
        "plt.plot(epochs,train_ppls)\n",
        "plt.legend([\"Validation Perplexity\",\"Train Perplexity\"])\n",
        "\n",
        "plt.xlabel(\"Epochs\")\n",
        "plt.ylabel(\"Perplexity\")\n",
        "\n",
        "plt.show()"
      ],
      "metadata": {
        "colab": {
          "base_uri": "https://localhost:8080/",
          "height": 279
        },
        "id": "tFseG-cPhA-0",
        "outputId": "85a1b401-31de-423d-efba-a6c50141794c"
      },
      "execution_count": null,
      "outputs": [
        {
          "output_type": "display_data",
          "data": {
            "text/plain": [
              "<Figure size 432x288 with 1 Axes>"
            ],
            "image/png": "[encoded data removed]"
          },
          "metadata": {
            "needs_background": "light"
          }
        }
      ]
    },
    {
      "cell_type": "code",
      "source": [
        "#Over epochs\n",
        "#the loss train validation\n",
        "train_ppls = data['train_losses']\n",
        "# validation_ppls = data['valid_ppls']\n",
        "time_train = adding(data['train_times'])\n",
        "time_valid = adding(data['valid_times'])\n",
        "\n",
        "plt.plot(time_train,train_ppls)\n",
        "\n",
        "\n",
        "plt.xlabel(\"Time\")\n",
        "plt.ylabel(\"Perplexity\")\n",
        "plt.title(\"Training Perplexity\")\n",
        "plt.show()"
      ],
      "metadata": {
        "colab": {
          "base_uri": "https://localhost:8080/",
          "height": 295
        },
        "id": "v5jbhClXkm7d",
        "outputId": "44c03e09-b1c8-48fe-a8c8-a98d1a1a60f5"
      },
      "execution_count": null,
      "outputs": [
        {
          "output_type": "display_data",
          "data": {
            "text/plain": [
              "<Figure size 432x288 with 1 Axes>"
            ],
            "image/png": "[encoded data removed]"
          },
          "metadata": {
            "needs_background": "light"
          }
        }
      ]
    },
    {
      "cell_type": "code",
      "source": [
        "train_ppls = data['train_ppls']\n",
        "validation_ppls = data['valid_ppls']\n",
        "time_train = adding(data['train_times'])\n",
        "time_valid = adding(data['valid_times'])\n",
        "\n",
        "plt.plot(time_valid,validation_ppls)\n",
        "\n",
        "\n",
        "plt.xlabel(\"Time\")\n",
        "plt.ylabel(\"Perplexity\")\n",
        "plt.title(\"Validation Perplexity\")\n",
        "plt.show()"
      ],
      "metadata": {
        "colab": {
          "base_uri": "https://localhost:8080/",
          "height": 295
        },
        "id": "7TZ33kjksJ9Y",
        "outputId": "f783cadf-9767-48cd-c972-aa7c6fd9c3dd"
      },
      "execution_count": null,
      "outputs": [
        {
          "output_type": "display_data",
          "data": {
            "text/plain": [
              "<Figure size 432x288 with 1 Axes>"
            ],
            "image/png": "[encoded data removed]"
          },
          "metadata": {
            "needs_background": "light"
          }
        }
      ]
    },
    {
      "cell_type": "code",
      "source": [
        "print(\"train_losses\",min(data[\"train_losses\"]))\n",
        "print(\"train_ppls\",min(data[\"train_ppls\"]))\n",
        "print(\"valid_losses\",min(data[\"valid_losses\"]))\n",
        "print(\"valid_ppld\",min(data['valid_ppls']))\n",
        "print(\"bleu1\",data['test_bleu1'])\n",
        "print(\"bleu2\",data['test_bleu2'])"
      ],
      "metadata": {
        "colab": {
          "base_uri": "https://localhost:8080/"
        },
        "id": "MFF_UWhyK1pR",
        "outputId": "1cc27e13-2539-48f9-99bc-d70b0ccc3fa3"
      },
      "execution_count": null,
      "outputs": [
        {
          "output_type": "stream",
          "name": "stdout",
          "text": [
            "train_losses 3.8412273150708707\n",
            "train_ppls 46.58261091080249\n",
            "valid_losses 3.7200025618076324\n",
            "valid_ppld 41.264499820185975\n",
            "bleu1 22.00977901559599\n",
            "bleu2 37.822267029453826\n"
          ]
        }
      ]
    }
  ],
  "metadata": {
    "accelerator": "GPU",
    "colab": {
      "provenance": []
    },
    "gpuClass": "standard",
    "kernelspec": {
      "display_name": "Python 3",
      "name": "python3"
    },
    "language_info": {
      "name": "python"
    }
  },
  "nbformat": 4,
  "nbformat_minor": 0
}