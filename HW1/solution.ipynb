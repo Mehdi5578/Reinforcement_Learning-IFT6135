{
  "cells": [
    {
      "cell_type": "markdown",
      "metadata": {
        "id": "nWJnNLufy2Yl"
      },
      "source": [
        "# IFT6135-A2022\n",
        "# Assignment 1: Practical\n",
        "\n",
        "Vous devez remplir vos réponses dans ce Notebook, après quoi vous devez exporter ce Notebook vers un fichier Python nommé `solution.py` et le soumettre sur Gradescope.\n",
        "\n",
        "N'éditez pas les fonctions spécifiées dans le PDF (et partout où cela est indiqué - `# WRITE CODE HERE`). Ne changez pas les définitions et ne modifiez pas le reste du modèle, sinon l'autograde ne fonctionnera pas."
      ]
    },
    {
      "cell_type": "markdown",
      "metadata": {
        "id": "SYa2b_UaRdZL"
      },
      "source": [
        "**Assurez-vous de demander un runtime GPU (surtout pour la question 3) !**"
      ]
    },
    {
      "cell_type": "code",
      "execution_count": null,
      "metadata": {
        "id": "Chq23hzpyqGB"
      },
      "outputs": [],
      "source": [
        "# DO NOT MODIFY!\n",
        "import matplotlib.pyplot as plt\n",
        "import numpy as np\n",
        "import random\n",
        "\n",
        "# Fix random seed\n",
        "random.seed(0)\n",
        "np.random.seed(0)"
      ]
    },
    {
      "cell_type": "markdown",
      "metadata": {
        "id": "_vP6_RXx02jN"
      },
      "source": [
        "## Question 1: Implementing MLPs with NumPy (30 points)"
      ]
    },
    {
      "cell_type": "code",
      "execution_count": null,
      "metadata": {
        "id": "wGcNlHs101Sb"
      },
      "outputs": [],
      "source": [
        "class NN(object):\n",
        "  \"\"\"\n",
        "    Implements an MLP.\n",
        "  \"\"\"\n",
        "\n",
        "  def __init__(self,\n",
        "               dims=(784, 128, 64, 10), # h_0, h_1, h_2, h_3\n",
        "               activation=\"relu\",       # Activation function\n",
        "               epsilon=1e-6,            # Correction factor\n",
        "               lr=0.01,                 # Learning rate\n",
        "               seed=0                   # Random seed\n",
        "              ):\n",
        "    \"\"\"\n",
        "      Constructor of the NN class.\n",
        "\n",
        "      dims: list or tuple or np.array, default (784, 128, 64, 10)\n",
        "        Valeurs de h_0 (nombre de caractéristiques), h_1 (dim. cachée 1), h_2 (dim. cachée 2), h_3 (nombre de classes de sortie).\n",
        "      activation: string, default \"relu\"\n",
        "        La fonction d'activation.\n",
        "      epsilon: float or double, default 1e-6\n",
        "        Facteur de correction des probabilités.\n",
        "      lr: float or double, default 0.01\n",
        "        Taux d'apprentissage.\n",
        "      seed: int, default 0\n",
        "        Random seed.\n",
        "    \"\"\"\n",
        "    super(NN, self).__init__()\n",
        "\n",
        "    self.dims = dims\n",
        "    self.n_hidden = len(dims) - 2\n",
        "    self.activation_str = activation\n",
        "    self.epsilon = epsilon\n",
        "    self.lr = lr\n",
        "    self.seed = seed\n",
        "\n",
        "  def initialize_weights(self):\n",
        "    \"\"\"\n",
        "      Résultats : Initialise les weights du MLP à partir de uniform(-1/sqrt(h_0), 1/sqrt(h_0)) et les biais à zéro.\n",
        "    \"\"\"\n",
        "    if self.seed is not None:\n",
        "      np.random.seed(self.seed)\n",
        "\n",
        "    self.weights = {}\n",
        "    # self.weights is a dictionary with keys W1, b1, W2, b2, ..., Wm, Bm where m - 1 is the number of hidden layers\n",
        "    # The keys W1, W2, ..., Wm correspond to weights while b1, b2, ..., bm correspond to biases\n",
        "    for layer_n in range(1, self.n_hidden + 2):\n",
        "      # WRITE CODE HERE\n",
        "      racine = 1/np.sqrt(self.dims[0])\n",
        "      self.weights[f\"W{layer_n}\"] = np.random.uniform(-racine,racine,(self.dims[layer_n-1],self.dims[layer_n]))\n",
        "      self.weights[f\"b{layer_n}\"] = np.zeros((1, self.dims[layer_n]))\n",
        "\n",
        "  def relu(self, x, grad=False):\n",
        "    \"\"\"\n",
        "      x: np.array\n",
        "        Entrées pour lesquelles calculer ReLU(x). x peut contenir un batch d'entrées !\n",
        "      grad: bool, default False\n",
        "        Si True, retourne le gradient de l'activation par rapport aux entrées de la fonction.\n",
        "\n",
        "      Outputs: Implémente la fonction d'activation ReLU ou son gradient.\n",
        "    \"\"\"\n",
        "\n",
        "    if grad:\n",
        "      # WRITE CODE HERE\n",
        "      output = (x > 0)\n",
        "      output = np.multiply(output,1)\n",
        "      return output\n",
        "      pass\n",
        "    # WRITE CODE HERE\n",
        "    output = np.maximum(x,0)\n",
        "    return output\n",
        "    pass\n",
        "    return 0\n",
        "\n",
        "  def sigmoid(self, x, grad=False):\n",
        "    \"\"\"\n",
        "      x: np.array\n",
        "        Entrées pour lesquelles calculer sigmoid(x). x peut contenir un batch d'entrées !\n",
        "      grad: bool, default False\n",
        "        Si True, retourne le gradient de l'activation par rapport aux entrées de la fonction.\n",
        "\n",
        "      Outputs: Implémente la fonction d'activation sigmoid ou son gradient.\n",
        "    \"\"\"\n",
        "    sig = 1/(1+np.exp(-x))\n",
        "    if grad:\n",
        "      # WRITE CODE HERE\n",
        "      return sig*(1-sig)\n",
        "      pass\n",
        "    # WRITE CODE HERE\n",
        "    return sig\n",
        "    pass\n",
        "    return 0\n",
        "\n",
        "  def tanh(self, x, grad=False):\n",
        "    \"\"\"\n",
        "      x: np.array\n",
        "        Entrées pour lesquelles calculer tanh(x). x peut contenir un batch d'entrées !\n",
        "      grad: bool, default False\n",
        "        Si True, retourne le gradient de l'activation par rapport aux entrées de la fonction.\n",
        "\n",
        "      Outputs: Implémente la fonction d'activation tanh ou son gradient.\n",
        "    \"\"\"\n",
        "    th = np.tanh(x)\n",
        "    if grad:\n",
        "      # WRITE CODE HERE\n",
        "      return 1 - th*th\n",
        "      pass\n",
        "    # WRITE CODE HERE\n",
        "    return th\n",
        "    pass\n",
        "    return 0\n",
        "\n",
        "  def activation(self, x, grad=False):\n",
        "    \"\"\"\n",
        "      x: np.array\n",
        "        Entrées pour calculer l'activation(x). x peut contenir un batch d'entrées !\n",
        "      grad: bool, default False\n",
        "        Si True, retourne le gradient de l'activation par rapport aux entrées de la fonction.\n",
        "\n",
        "      Outputs: Retourne la valeur de l'activation ou le gradient.\n",
        "    \"\"\"\n",
        "    if self.activation_str == \"relu\":\n",
        "      # WRITE CODE HERE\n",
        "      return self.relu(x,grad)\n",
        "      pass\n",
        "    elif self.activation_str == \"sigmoid\":\n",
        "      # WRITE CODE HERE\n",
        "      return self.sigmoid(x,grad)\n",
        "      pass\n",
        "    elif self.activation_str == \"tanh\":\n",
        "      # WRITE CODE HERE\n",
        "      return self.tanh(x,grad)\n",
        "      pass\n",
        "    else:\n",
        "      raise Exception(\"Invalid activation\")\n",
        "    return 0\n",
        "\n",
        "  def softmax(self, x):\n",
        "    \"\"\"\n",
        "      x: np.array\n",
        "        Entrées pour calculer le softmax. x peut contenir un batch d'entrées !\n",
        "\n",
        "      Outputs: Implémente la fonction softmax, renvoie l'array contenant softmax(x).\n",
        "    \"\"\"\n",
        "    # Remember that softmax(x-C) = softmax(x) when C is a constant.\n",
        "    # WRITE CODE HERE\n",
        "    n = len(x[0])\n",
        "    e = np.exp(x -np.max(x))\n",
        "    somme_1 = np.sum(e,axis = -1)\n",
        "    somme_redim = np.repeat(somme_1,n).reshape(x.shape)\n",
        "    return e/somme_redim\n",
        "    pass\n",
        "    return 0\n",
        "\n",
        "  def forward(self, x):\n",
        "    \"\"\"\n",
        "      x: np.array\n",
        "        Entrées du MLP. Notez que x peut contenir plusieurs exemples d'entrée.\n",
        "\n",
        "      Outputs: Implémente la passe forward, retourne le cache comme décrit ci-dessous.\n",
        "    \"\"\"\n",
        "    cache = {\"Z0\": x}\n",
        "    # le cache est un dictionnaire avec les clés Z0, A1, Z1, ..., Am, Zm où m - 1 est le nombre de couches cachées\n",
        "    # Z0 contient juste les entrées x du réseau\n",
        "    # Ai correspond à la préactivation de la couche i, Zi correspond à l'activation de la couche i\n",
        "    # WRITE CODE HERE\n",
        "    for layer_n in range(1, self.n_hidden + 1):\n",
        "      cache[f\"A{layer_n}\"] = self.weights[f\"b{layer_n}\"] + np.dot(cache[f\"Z{layer_n-1}\"] ,self.weights[f\"W{layer_n}\"])\n",
        "      cache[f\"Z{layer_n}\"] = self.activation(cache[f\"A{layer_n}\"],grad = False)\n",
        "\n",
        "    cache[f\"A{self.n_hidden + 1}\"] = self.weights[f\"b{self.n_hidden + 1}\"] + np.dot(cache[f\"Z{self.n_hidden}\"] ,self.weights[f\"W{self.n_hidden+1}\"])\n",
        "    cache[f\"Z{self.n_hidden  +1}\"] = self.softmax(cache[f\"A{self.n_hidden + 1}\"])\n",
        "    pass\n",
        "\n",
        "    return cache\n",
        "\n",
        "  def loss(self, prediction, labels):\n",
        "    \"\"\"\n",
        "      prediction: np.array\n",
        "        Probabilités prédites pour chaque classe pour les entrées. Peut contenir plusieurs exemples (un batch) !\n",
        "      labels: np.array\n",
        "        Vraies labels correspondant aux entrées (one-hot encoded). Peut contenir plusieurs exemples (un batch) !\n",
        "\n",
        "      Outputs: Renvoie la perte de l'entropie croisée (moyenne sur le nombre d'entrées).\n",
        "    \"\"\"\n",
        "    prediction[np.where(prediction < self.epsilon)] = self.epsilon\n",
        "    prediction[np.where(prediction > 1 - self.epsilon)] = 1 - self.epsilon\n",
        "\n",
        "    perte = -(np.sum(np.multiply(np.log(prediction),labels)))\n",
        "\n",
        "    return perte/len(labels)\n",
        "    pass\n",
        "    return 0\n",
        "\n",
        "  def backward(self, cache, labels):\n",
        "    \"\"\"\n",
        "      cache: np.array\n",
        "        Résultats de la passe backward. Cela peut être pour plusieurs exemples (un batch).\n",
        "      labels: np.array\n",
        "        Vraies labels correspondant aux entrées dans le cache. Peut contenir plusieurs exemples (un batch) !\n",
        "\n",
        "      Outputs: Implémente le backward pass, retourne les grads comme décrit ci-dessous.\n",
        "    \"\"\"\n",
        "    output = cache[f\"Z{self.n_hidden + 1}\"]\n",
        "    grads = {}\n",
        "    # grads est un dictionnaire avec les clés dAm, dWm, dbm, dZ(m-1), dA(m-1), ..., dW1, db1\n",
        "    # N'oubliez pas de prendre la moyenne du gradient sur tous les exemples d'entrée !\n",
        "    # WRITE CODE HERE\n",
        "    x = cache[\"Z0\"]\n",
        "    k = len(x)\n",
        "    grads[f\"dA{self.n_hidden+1}\"] =(output - labels)\n",
        "    for layer in range(1, self.n_hidden + 1):\n",
        "      layer_n = self.n_hidden + 2 - layer\n",
        "      grads[f\"dW{layer_n}\"] = np.dot(cache[f\"Z{layer_n-1}\"].T,grads[f\"dA{layer_n}\"]) / k\n",
        "      grads[f\"db{layer_n}\"] = np.mean(grads[f\"dA{layer_n}\"] ,axis = 0)\n",
        "      grads[f\"db{layer_n}\"] = grads[f\"db{layer_n}\"].reshape((1,len(grads[f\"db{layer_n}\"] )))\n",
        "      grads[f\"dZ{layer_n -1}\"] = np.dot(grads[f\"dA{layer_n}\"],self.weights[f\"W{layer_n}\"].T)\n",
        "      grads[f\"dA{layer_n - 1}\"] = np.multiply(grads[f\"dZ{layer_n -1}\"],self.activation(cache[f\"A{layer_n-1}\"],grad = True))\n",
        "    #pour la première couche\n",
        "    layer_n = 1\n",
        "    grads[f\"dW{layer_n}\"] = np.dot(cache[f\"Z{layer_n-1}\"].T,grads[f\"dA{layer_n}\"]) / k\n",
        "    grads[f\"db{layer_n}\"] = np.mean(grads[f\"dA{layer_n}\"] ,axis = 0)\n",
        "    grads[f\"db{layer_n}\"] = grads[f\"db{layer_n}\"].reshape((1,len(grads[f\"db{layer_n}\"] )))\n",
        "    pass\n",
        "    return grads\n",
        "\n",
        "  def update(self, grads):\n",
        "    \"\"\"\n",
        "      grads: np.dictionary\n",
        "        Gradients obtenus à partir de la passe backward.\n",
        "\n",
        "      Results: Met à jour les poids et les biais du réseau.\n",
        "    \"\"\"\n",
        "    for layer_n in range(1, self.n_hidden + 2):\n",
        "      self.weights[f\"W{layer_n}\"] = self.weights[f\"W{layer_n}\"] - self.lr*grads[f\"dW{layer_n}\"]\n",
        "      self.weights[f\"b{layer_n}\"] = self.weights[f\"b{layer_n}\"] - self.lr*grads[f\"db{layer_n}\"]\n",
        "      pass"
      ]
    },
    {
      "cell_type": "markdown",
      "metadata": {
        "id": "bfDi9jm2nRpy"
      },
      "source": [
        "## Question 2: Implementing CNN layers with NumPy (20 points)\n",
        "Note: You may assume that there are no biases, no input padding (valid convolution) and also that convolution here refers to cross-correlation, i.e., no kernel flipping when convolving the inputs."
      ]
    },
    {
      "cell_type": "code",
      "execution_count": null,
      "metadata": {
        "id": "nE4N79Gondyy"
      },
      "outputs": [],
      "source": [
        "class Convolution2dLayer(object):\n",
        "  \"\"\"\n",
        "    Implements a 2D convolution layer.\n",
        "  \"\"\"\n",
        "\n",
        "  def __init__(self, filter_size=3, stride=1, n_units=64, seed=0):\n",
        "    \"\"\"\n",
        "      Constructor of the Convolution2dLayer class.\n",
        "\n",
        "      Note: Nous supposons que les images d'entrée n'ont qu'un seul canal.\n",
        "\n",
        "      filter_size : int, default 3\n",
        "        Taille du filtre à utiliser pour la convolution. Nous supposons que la hauteur et la largeur sont égales.\n",
        "      stride : int, default 1\n",
        "        Stride pour la convolution.\n",
        "      n_units : int, default 64\n",
        "        Nombre de canaux de sortie, c'est à dire le nombre de filtres dans la couche.\n",
        "      seed : int, default 0\n",
        "        Random seed.\n",
        "    \"\"\"\n",
        "    super(Convolution2dLayer, self).__init__()\n",
        "\n",
        "    self.filter_size = filter_size\n",
        "    self.stride = stride\n",
        "    self.n_units = n_units\n",
        "    self.seed = seed\n",
        "\n",
        "  def initialize_weights(self):\n",
        "    \"\"\"\n",
        "      Results: Initialise les poids du CNN à partir de uniform(0, 1).\n",
        "    \"\"\"\n",
        "    if self.seed is not None:\n",
        "      np.random.seed(self.seed)\n",
        "\n",
        "    # self.weights est un tableau np.array de forme (n_units, filter_size, filter_size)\n",
        "    # Nous ne considérons pas les biais dans cette implémentation de la couche de convolution.\n",
        "    self.weights = np.random.uniform(0,1,(self.n_units,self.filter_size,self.filter_size))\n",
        "\n",
        "  def forward(self, x):\n",
        "    \"\"\"\n",
        "      x: np.array\n",
        "        Entrées. Ceci peut contenir plusieurs exemples d'entrée, pas seulement un.\n",
        "        Note : Nous supposons que les images d'entrée n'ont qu'un seul canal, par exemple (5, 1, 32, 32) où 5 est le nombre d'images, 1 canal, taille d'image 32x32.\n",
        "        images, 1 canal, taille de l'image 32x32.\n",
        "\n",
        "      Outputs: Les entrées et le résultat de l'opération de convolution sur les entrées stockées dans le cache.\n",
        "\n",
        "      Note: Vous n'avez pas besoin de 'flip' le noyau ! Vous pouvez simplement implémenter la corrélation croisée.\n",
        "    \"\"\"\n",
        "    cache = {}\n",
        "    x_features = (x.shape[2] - self.filter_size ) + 1\n",
        "    y_features = (x.shape[3] - self.filter_size) + 1\n",
        "    output = np.zeros((x.shape[0],self.n_units,x_features,y_features))\n",
        "    # cache est un dictionnaire où cache[\"x\"] stocke les entrées et cache[\"out\"] stocke les sorties de la couche\n",
        "    for conv in range(self.n_units):\n",
        "      for k in range(x.shape[0]):\n",
        "        for ind_x in range(x_features):\n",
        "          for ind_y in range(y_features):\n",
        "            output[k,conv,ind_x,ind_y] = np.sum(np.multiply(self.weights[conv],x[k,0,ind_x:ind_x+self.filter_size,ind_y:ind_y + self.filter_size]))\n",
        "    cache[\"x\"] = x\n",
        "    cache[\"out\"] = output\n",
        "\n",
        "    pass\n",
        "    return cache\n",
        "\n",
        "  def backward(self, cache, grad_output):\n",
        "    \"\"\"\n",
        "      cache: dictionary\n",
        "        Contient les entrées et le résultat de l'opération de convolution qui leur est appliquée.\n",
        "      grad_output: np.array\n",
        "        Gradient de la perte par rapport aux sorties de la couche de convolution.\n",
        "\n",
        "      Outputs: Gradient de la perte par rapport aux paramètres de la couche de convolution.\n",
        "    \"\"\"\n",
        "    x = cache[\"x\"]\n",
        "\n",
        "    # grads est un tableau np.array contenant le gradient de la perte par rapport aux paramètres de la couche de convolution.\n",
        "    # N'oubliez pas de prendre la moyenne du gradient sur tous les exemples d'entrée !\n",
        "\n",
        "\n",
        "    grads = np.zeros((self.n_units,x.shape[2] - grad_output.shape[2] + 1,x.shape[2] - grad_output.shape[2] + 1))\n",
        "\n",
        "    for conv in range(self.n_units):\n",
        "      for k in range(x.shape[0]):\n",
        "        for ind_x in range(x.shape[2] - grad_output.shape[2] + 1):\n",
        "          for ind_y in range(x.shape[2] - grad_output.shape[2] + 1):\n",
        "            grads[conv,ind_x,ind_y] = grads[conv,ind_x,ind_y] + np.sum(np.multiply(grad_output[k][conv],x[k,0,ind_x:ind_x+grad_output.shape[2],ind_y:ind_y + grad_output.shape[2]]))\n",
        "\n",
        "    pass\n",
        "    return grads\n",
        "\n",
        "\n",
        "class MaxPooling2dLayer(object):\n",
        "  \"\"\"\n",
        "    Implements a 2D max-pooling layer.\n",
        "  \"\"\"\n",
        "\n",
        "  def __init__(self, filter_size=2):\n",
        "    \"\"\"\n",
        "      Constructor of the MaxPooling2dLayer class.\n",
        "\n",
        "      filter_size: int, default 2\n",
        "        Taille du filtre à utiliser pour le max-pooling. Nous supposons que la hauteur et la largeur sont égales, et que le pas = hauteur = largeur.\n",
        "    \"\"\"\n",
        "    super(MaxPooling2dLayer, self).__init__()\n",
        "\n",
        "    self.filter_size = filter_size\n",
        "    self.stride = filter_size\n",
        "\n",
        "  def forward(self, x):\n",
        "    \"\"\"\n",
        "      x: np.array\n",
        "        Entrées pour lesquelles calculer le max-pooling. Ceci peut contenir plusieurs exemples d'entrée, pas seulement un.\n",
        "        Note : Les dimensions d'entrée du max-pooling sont les dimensions de sortie de la convolution !\n",
        "\n",
        "      Outputs: Les entrées et le résultat de l'opération de max-pooling sur les entrées stockées dans le cache.\n",
        "    \"\"\"\n",
        "    cache = {}\n",
        "\n",
        "    # cache est un dictionnaire où cache[\"x\"] stocke les entrées et cache[\"out\"] stocke les sorties de la couche\n",
        "    # WRITE CODE HERE\n",
        "    output = np.zeros((x.shape[0],x.shape[1],int(x.shape[2]/2),int(x.shape[3]/2)))\n",
        "    cache[\"x\"] = x\n",
        "    for k in range(x.shape[0]):\n",
        "      for unit in range(x.shape[1]):\n",
        "        for i in range(output.shape[2]):\n",
        "          for j in range(output.shape[3]):\n",
        "            output[k,unit,i,j] = np.max(x[k,unit,2*i:2*(i+1),2*j:2*(j+1)])\n",
        "\n",
        "    cache[\"out\"] = output\n",
        "    return cache\n",
        "\n",
        "  def backward(self, cache, grad_output):\n",
        "    \"\"\"\n",
        "      cache: dictionary\n",
        "        Contient les entrées et le résultat de l'opération de max-pooling qui leur est appliquée.\n",
        "      grad_output: np.array\n",
        "        Gradient de la perte par rapport aux sorties de la couche de max-pooling.\n",
        "\n",
        "      Outputs: Gradient de la perte par rapport aux entrées de la couche de max-pooling.\n",
        "    \"\"\"\n",
        "    x = cache[\"x\"]\n",
        "    grads = np.zeros(x.shape) # WRITE CODE HERE (initialize grads correctly)\n",
        "\n",
        "    # grads est un tableau np.array contenant le gradient de la perte par rapport aux entrées de la couche de max-pooling.\n",
        "    # N'oubliez pas de prendre la moyenne du gradient sur tous les exemples d'entrée !\n",
        "    # WRITE CODE HERE\n",
        "\n",
        "    for k in range(x.shape[0]):\n",
        "      for unit in range(x.shape[1]):\n",
        "        for i in range(x.shape[2]):\n",
        "          for j in range(x.shape[3]):\n",
        "            if x[k,unit,i,j] == np.max(x[k,unit,2*(i//2):2*(i//2+1),2*(j//2):2*(j//2+1)]) :\n",
        "              grads[k,unit,i,j] = grad_output[k,unit,i//2,j//2]\n",
        "\n",
        "    pass\n",
        "    return grads"
      ]
    },
    {
      "cell_type": "markdown",
      "metadata": {
        "id": "AUMIWPZVYXp_"
      },
      "source": [
        "## Question 3: Implementing a CNN and comparison with MLPs using PyTorch (50 points)"
      ]
    },
    {
      "cell_type": "code",
      "execution_count": null,
      "metadata": {
        "id": "zWKKIED3CPsC"
      },
      "outputs": [],
      "source": [
        "# DO NOT MODIFY!\n",
        "import torch\n",
        "import torch.nn as nn\n",
        "import torch.nn.functional as F\n",
        "import torch.nn.init as init\n",
        "import torch.optim as optim\n",
        "import torchvision\n",
        "import torchvision.transforms as transforms\n",
        "device = \"cuda\" if torch.cuda.is_available() else \"cpu\"\n",
        "import time\n",
        "# Fix random seed\n",
        "torch.manual_seed(0)\n",
        "torch.cuda.manual_seed_all(0)\n",
        "torch.cuda.manual_seed(0)\n",
        "torch.backends.cudnn.deterministic = True\n",
        "torch.backends.cudnn.benchmark = False"
      ]
    },
    {
      "cell_type": "code",
      "execution_count": null,
      "metadata": {
        "colab": {
          "base_uri": "https://localhost:8080/",
          "height": 36
        },
        "id": "W98Lu_DkSq1K",
        "outputId": "812c9fc0-1bb9-4e14-f34c-e30fa4361961"
      },
      "outputs": [
        {
          "output_type": "execute_result",
          "data": {
            "text/plain": [
              "'cpu'"
            ],
            "application/vnd.google.colaboratory.intrinsic+json": {
              "type": "string"
            }
          },
          "metadata": {},
          "execution_count": 4
        }
      ],
      "source": [
        "device"
      ]
    },
    {
      "cell_type": "code",
      "execution_count": null,
      "metadata": {
        "id": "pAhxNES16Z8-"
      },
      "outputs": [],
      "source": [
        "\n",
        "\n"
      ]
    },
    {
      "cell_type": "code",
      "execution_count": null,
      "metadata": {
        "id": "ntEJKZ2eYgqk"
      },
      "outputs": [],
      "source": [
        "class ResidualBlock(nn.Module):\n",
        "  \"\"\"This class implements the Residual Block used in ResNet-18.\"\"\"\n",
        "\n",
        "  def __init__(self, in_channels, channels, conv_stride=1, activation_str=\"relu\", initialization=\"xavier_normal\"):\n",
        "    \"\"\"\n",
        "      Constructor for the ResidualBlock class.\n",
        "\n",
        "      in_channels : int\n",
        "        Nombre de canaux dans l'entrée du bloc.\n",
        "      channels : int\n",
        "        Nombre de canaux de sortie pour le bloc, c'est-à-dire le nombre de filtres.\n",
        "      conv_stride : int, par défaut 1\n",
        "        Stride de la première couche de convolution et de la convolution de sous-échantillonnage (si nécessaire).\n",
        "      activation_str : string, par défaut \"relu\" (chaîne de caractères)\n",
        "        Fonction d'activation à utiliser.\n",
        "      initialization : string, par défaut \"xavier_normal\".\n",
        "        Initialisation des poids de la couche de convolution.\n",
        "    \"\"\"\n",
        "    super(ResidualBlock, self).__init__()\n",
        "\n",
        "    self.in_channels = in_channels\n",
        "    self.channels = channels\n",
        "    self.conv_stride = conv_stride\n",
        "    self.activation_str = activation_str\n",
        "    self.initialization = initialization\n",
        "\n",
        "    # Define these members by replacing `None` with the correct definitions\n",
        "\n",
        "    self.conv1 = nn.Conv2d(in_channels,channels,kernel_size = 3,stride = self.conv_stride,padding = 1, bias = False) # WRITE CODE HERE\n",
        "    self.bn1 = nn.BatchNorm2d(channels)   # WRITE CODE HERE\n",
        "    self.conv2 = nn.Conv2d(channels,channels,kernel_size = 3, stride = 1,padding = 1, bias = False) # WRITE CODE HERE\n",
        "    self.bn2 = nn.BatchNorm2d(channels)   # WRITE CODE HERE\n",
        "\n",
        "    self.residual_connection = self.residual(in_channels, channels, conv_stride)\n",
        "\n",
        "    # Initialize weights for conv1 and conv2\n",
        "    if initialization == \"xavier_normal\":\n",
        "      nn.init.xavier_normal_(self.conv1.weight)\n",
        "      nn.init.xavier_normal_(self.conv2.weight)\n",
        "      pass\n",
        "    elif initialization == \"xavier_uniform\":\n",
        "      nn.init.xavier_uniform_(self.conv1.weight)\n",
        "      nn.init.xavier_uniform_(self.conv2.weight)\n",
        "      pass\n",
        "    elif initialization == \"kaiming_normal\":\n",
        "      nn.init.kaiming_normal_(self.conv1.weight)\n",
        "      nn.init.kaiming_normal_(self.conv2.weight)\n",
        "      pass\n",
        "    else:\n",
        "      raise Exception(\"Invalid initialization\")\n",
        "\n",
        "  def activation(self, input):\n",
        "    \"\"\"\n",
        "      entrée : Tensor\n",
        "        Entrée sur laquelle l'activation est appliquée.\n",
        "\n",
        "      Sortie : Résultat de la fonction d'activation appliquée à l'entrée.\n",
        "        Par exemple, si self.activation_str est \"relu\", retourne relu(input).\n",
        "    \"\"\"\n",
        "\n",
        "    if self.activation_str == \"relu\":\n",
        "      return nn.ReLU()(input)\n",
        "      pass\n",
        "    elif self.activation_str == \"tanh\":\n",
        "      return nn.Tanh()(input)\n",
        "      pass\n",
        "    else:\n",
        "      raise Exception(\"Invalid activation\")\n",
        "    return 0\n",
        "\n",
        "  def residual(self, in_channels, channels, conv_stride=1):\n",
        "    \"\"\"\n",
        "      in_channels : int\n",
        "        Nombre de canaux d'entrée dans l'entrée du bloc.\n",
        "      channels : int\n",
        "        Nombre de canaux de sortie pour le bloc, c'est-à-dire le nombre de filtres.\n",
        "      conv_stride : int, par défaut 1\n",
        "        Stride à utiliser pour le sous-échantillonnage de la convolution 1x1.\n",
        "\n",
        "      Sortie : Retourne un objet nn.Sequential qui calcule la fonction d'identité de l'entrée si stride est 1\n",
        "              et que le nombre de canaux d'entrée est égal au nombre de canaux de sortie. Sinon, il retourne un objet\n",
        "              nn.Sequential qui sous-échantillonne son entrée en utilisant un 1x1-conv du stride spécifié et un BatchNorm2.\n",
        "              suivi d'un BatchNorm2d.\n",
        "    \"\"\"\n",
        "    layers = []\n",
        "    if conv_stride != 1 or in_channels != channels:\n",
        "      layers.append(nn.Conv2d(in_channels,channels,kernel_size=(1,1),stride = conv_stride,padding = 0,bias = False ))\n",
        "      layers.append(nn.BatchNorm2d(channels))\n",
        "      pass\n",
        "    return nn.Sequential(*layers)\n",
        "\n",
        "  def forward(self, x):\n",
        "    \"\"\"\n",
        "      x : Tensor\n",
        "        Entrée du bloc.\n",
        "\n",
        "      Sorties : Renvoie la sortie de la passe avant du bloc.\n",
        "    \"\"\"\n",
        "    out1 = self.conv1(x)\n",
        "    norm1 = self.bn1(out1)\n",
        "    act1 = self.activation(norm1)\n",
        "    out2 = self.conv2(act1)\n",
        "    norm2 = self.bn2(out2)\n",
        "    x_reshape = self.residual_connection(x)\n",
        "    return self.activation(norm2 + x_reshape)\n",
        "    pass\n",
        "    return 0"
      ]
    },
    {
      "cell_type": "code",
      "execution_count": null,
      "metadata": {
        "id": "o0XI3Qo1nMEq"
      },
      "outputs": [],
      "source": [
        "class ResNet18(nn.Module):\n",
        "  \"\"\"This class implements the ResNet-18 architecture from its components.\"\"\"\n",
        "\n",
        "  def __init__(self, activation_str=\"relu\", initialization=\"xavier_normal\"):\n",
        "    \"\"\"\n",
        "      Constructor for the ResNet18 class.\n",
        "\n",
        "      activation_str : string, par défaut \"relu\".\n",
        "        Fonction d'activation à utiliser.\n",
        "      initialization : string, par défaut \"xavier_normal\".\n",
        "        Initialisation du poids à utiliser.\n",
        "    \"\"\"\n",
        "    super(ResNet18, self).__init__()\n",
        "\n",
        "    self.n_classes = 10\n",
        "    self.activation_str = activation_str\n",
        "    self.initialization = initialization\n",
        "\n",
        "    # Define these members by replacing `None` with the correct definitions\n",
        "    self.conv1 = nn.Conv2d(3,64,(3,3),stride = 1, padding = 1,bias = False)\n",
        "    self.bn1 = nn.BatchNorm2d(64)\n",
        "    self.layer1 = self._create_layer(64,64,1)\n",
        "    self.layer2 = self._create_layer(64,128,2)\n",
        "    self.layer3 = self._create_layer(128,256,2)\n",
        "    self.layer4 = self._create_layer(256,512,2)\n",
        "    self.avgpool = nn.AvgPool2d(4,stride = 1)\n",
        "    self.linear = nn.Linear(512,self.n_classes)\n",
        "\n",
        "\n",
        "\n",
        "  def activation(self, input):\n",
        "    \"\"\"\n",
        "      input: Tensor\n",
        "        Input on which the activation is applied.\n",
        "\n",
        "      Output: Result of activation function applied on input.\n",
        "        E.g. if self.activation_str is \"relu\", return relu(input).\n",
        "    \"\"\"\n",
        "    if self.activation_str == \"relu\":\n",
        "      return nn.ReLU()(input)\n",
        "      pass # This was modified\n",
        "    elif self.activation_str == \"tanh\":\n",
        "      return torch.tanh(input)\n",
        "      pass # This was modified\n",
        "    else:\n",
        "      raise Exception(\"Invalid activation\")\n",
        "    return 0\n",
        "\n",
        "  def _create_layer(self, in_channels, channels, conv_stride=1):\n",
        "    \"\"\"\n",
        "      in_channels: int\n",
        "        Number of input channels present in the input to the layer.\n",
        "      out_channels: int\n",
        "        Number of output channels for the layer, i.e., the number of filters.\n",
        "      conv_stride: int, default 1\n",
        "        Stride of the first convolution layer in the block and the downsampling convolution (if required).\n",
        "\n",
        "      Outputs: Returns an nn.Sequential object giving a \"layer\" of the ResNet, consisting of 2 blocks each.\n",
        "    \"\"\"\n",
        "    # Modifiez l'instruction suivante pour retourner un objet nn.Sequential contenant 2 ResidualBlocks.\n",
        "    # Vous devez vous assurer que les canaux et conv_stride appropriés sont fournis.\n",
        "    layers = []\n",
        "    layers.append(ResidualBlock(in_channels,channels,conv_stride,self.activation_str,self.initialization))\n",
        "    layers.append(ResidualBlock(channels,channels,1,self.activation_str,self.initialization))\n",
        "    return nn.Sequential(*layers)\n",
        "\n",
        "  def get_first_conv_layer_filters(self):\n",
        "    \"\"\"\n",
        "      Sorties : Retourne les filtres de la première couche de convolution.\n",
        "    \"\"\"\n",
        "    return self.conv1.weight.clone().cpu().detach().numpy()\n",
        "\n",
        "  def get_last_conv_layer_filters(self):\n",
        "    \"\"\"\n",
        "      Sorties : Retourne les filtres de la dernière couche de convolution.\n",
        "    \"\"\"\n",
        "    return list(self.layer4.modules())[1].conv2.weight.clone().cpu().detach().numpy()\n",
        "\n",
        "  def forward(self, x):\n",
        "    \"\"\"\n",
        "      x: Tensor\n",
        "        Entrée du réseau.\n",
        "\n",
        "      Sorties : Renvoie la sortie de la passe forward du réseau.\n",
        "\n",
        "\n",
        "    \"\"\"\n",
        "\n",
        "\n",
        "    a = self.conv1(x)\n",
        "    a = self.bn1(a)\n",
        "    a = self.activation(a)\n",
        "    a = self.layer1(a)\n",
        "    a = self.layer2(a)\n",
        "    a = self.layer3(a)\n",
        "    a = self.layer4(a)\n",
        "    a = self.avgpool(a)\n",
        "    a = a.view(a.shape[0],a.shape[1])\n",
        "    a = self.linear(a)\n",
        "\n",
        "    return a\n",
        "\n",
        "    pass\n",
        "    return 0"
      ]
    },
    {
      "cell_type": "code",
      "execution_count": null,
      "metadata": {
        "id": "VTImAF6S7xIU"
      },
      "outputs": [],
      "source": [
        "def get_cifar10():\n",
        "  transform = transforms.Compose([\n",
        "      transforms.ToTensor()\n",
        "  ])\n",
        "\n",
        "  train_dataset = torchvision.datasets.CIFAR10(\n",
        "      root='./data', train=True, download=True, transform=transform)\n",
        "  train_loader = torch.utils.data.DataLoader(\n",
        "      train_dataset, batch_size=128, shuffle=True, num_workers=2)\n",
        "\n",
        "  val_dataset = torchvision.datasets.CIFAR10(\n",
        "      root='./data', train=False, download=True, transform=transform)\n",
        "  val_loader = torch.utils.data.DataLoader(\n",
        "      val_dataset, batch_size=128, shuffle=False, num_workers=2)\n",
        "\n",
        "  return train_loader, val_loader\n",
        "\n",
        "def train_loop(epoch, model, train_loader, criterion, optimizer):\n",
        "  \"\"\"\n",
        "    epoch: int\n",
        "      Numéro de l'époque d'apprentissage actuelle (à partir de 0).\n",
        "    model: ResNet18\n",
        "      Le modèle à entraîner, qui est une instance de la classe ResNet18.\n",
        "    train_loader: DataLoader\n",
        "      Training dataloader.\n",
        "    criterion: Module\n",
        "      Un objet Module qui évalue la perte de l'entropie croisée.\n",
        "    optimizer: Optimizer\n",
        "      Un objet Optimizer pour l'optimiseur Adam.\n",
        "\n",
        "    Outputs: Retourne la moyenne de train_acc et train_loss pour l'époque actuelle.\n",
        "  \"\"\"\n",
        "\n",
        "  train_acc = 0\n",
        "  train_loss = 0\n",
        "  # print(len(train_loader))\n",
        "  for im_lbl in (train_loader):\n",
        "    optimizer.zero_grad()\n",
        "\n",
        "    image = im_lbl[0].to(device)\n",
        "    label = im_lbl[1].to(device)\n",
        "    prediction = model(image)\n",
        "\n",
        "    loss = (criterion(prediction,label))\n",
        "\n",
        "\n",
        "    accuracy = ((prediction.argmax(1) == label).sum()/len(label)).type(torch.FloatTensor)\n",
        "    loss.backward()\n",
        "    optimizer.step()\n",
        "\n",
        "    train_acc = train_acc + accuracy.data.cpu().numpy()\n",
        "    train_loss = train_loss + loss.data.cpu().numpy()\n",
        "\n",
        "\n",
        "  train_acc = train_acc/len(train_loader)\n",
        "  train_loss = train_loss/len(train_loader)\n",
        "\n",
        "\n",
        "  # WRITE CODE HERE\n",
        "\n",
        "  # print(f\"Epoch: {epoch} | Train Acc: {train_acc:.6f} | Train Loss: {train_loss:.6f}\")\n",
        "  return train_acc, train_loss\n",
        "\n",
        "def valid_loop(epoch, model, val_loader, criterion):\n",
        "  \"\"\"\n",
        "    epoch: int\n",
        "      Numéro de l'époque d'apprentissage actuelle (à partir de 0).\n",
        "    model: ResNet18\n",
        "      Le modèle à entraîner, qui est une instance de la classe ResNet18.\n",
        "    val_loader: DataLoader\n",
        "      The validation dataloader.\n",
        "    criterion: Module\n",
        "      Un objet Module qui évalue la perte de l'entropie croisée.\n",
        "\n",
        "    Outputs: Retourne la moyenne de val_acc et val_loss pour l'époque actuelle.\n",
        "  \"\"\"\n",
        "  val_acc = 0\n",
        "  val_loss = 0\n",
        "  model.eval()\n",
        "  for im_lbl in (tqdm(val_loader)):\n",
        "\n",
        "    image = im_lbl[0].to(device)\n",
        "    label = im_lbl[1].to(device)\n",
        "    prediction = model(image)\n",
        "\n",
        "    accuracy = ((prediction.argmax(1) == label).sum()/len(label)).type(torch.FloatTensor)\n",
        "\n",
        "    loss = (criterion(prediction,label))\n",
        "\n",
        "    val_acc = val_acc + accuracy.data.cpu().numpy()\n",
        "    val_loss = val_loss + loss.data.cpu().numpy()\n",
        "\n",
        "\n",
        "  val_acc = val_acc/len(val_loader)\n",
        "  val_loss = val_loss/len(val_loader)\n",
        "\n",
        "  # print(f\"Epoch: {epoch} | Val Acc: {val_acc:.6f}   | Val Loss: {val_loss:.6f}\")\n",
        "  return val_acc, val_loss"
      ]
    },
    {
      "cell_type": "code",
      "execution_count": null,
      "metadata": {
        "id": "8fsB_xpIC1oG"
      },
      "outputs": [],
      "source": [
        "# activation_str = \"tanh\"\n"
      ]
    },
    {
      "cell_type": "code",
      "execution_count": null,
      "metadata": {
        "id": "rOMUjsId_c7r"
      },
      "outputs": [],
      "source": [
        "  model = ResNet18(\n",
        "    activation_str=\"relu\",\n",
        "    initialization=\"xavier_normal\"\n",
        "  ).to(device)"
      ]
    },
    {
      "cell_type": "code",
      "source": [
        "model_mlp = nn.Sequential(\n",
        "        nn.Linear(3*32*32,1024),\n",
        "        nn.ReLU(),\n",
        "        nn.Linear(1024,1024),\n",
        "        nn.ReLU(),\n",
        "        nn.Linear(1024,1024),\n",
        "        nn.ReLU(),\n",
        "        nn.Linear(1024,1024),\n",
        "        nn.ReLU(),\n",
        "        nn.Linear(1024,1024),\n",
        "        nn.ReLU(),\n",
        "        nn.Linear(1024,1024),\n",
        "        nn.ReLU(),\n",
        "        nn.Linear(1024,1024),\n",
        "        nn.ReLU(),\n",
        "        nn.Linear(1024,1024),\n",
        "        nn.ReLU(),\n",
        "        nn.Linear(1024,1024),\n",
        "        nn.ReLU(),\n",
        "        nn.Linear(1024,256),\n",
        "        nn.ReLU(),\n",
        "        nn.Linear(256,256),\n",
        "        nn.ReLU(),\n",
        "        nn.Linear(256,32),\n",
        "        nn.ReLU(),\n",
        "        nn.Linear(32,32),\n",
        "        nn.ReLU(),\n",
        "        nn.Linear(32,16),\n",
        "        nn.Linear(16,10)\n",
        ").to(\"cuda\")\n",
        "import numpy as np\n",
        "model_parameters = filter(lambda p: p.requires_grad, model_mlp.parameters())\n",
        "params = sum([np.prod(p.size()) for p in model_parameters])"
      ],
      "metadata": {
        "id": "sOspVRfh6clM"
      },
      "execution_count": null,
      "outputs": []
    },
    {
      "cell_type": "code",
      "source": [
        "activation_str=\"relu\""
      ],
      "metadata": {
        "id": "nI8SpGik6YIv"
      },
      "execution_count": null,
      "outputs": []
    },
    {
      "cell_type": "code",
      "execution_count": null,
      "metadata": {
        "colab": {
          "base_uri": "https://localhost:8080/",
          "height": 101,
          "referenced_widgets": [
            "5196488401724097ae7444cd120332f2",
            "7e5b7d1f02da4ab5892f66fdabd0fbdc",
            "c4f8dcbea12f44208a7e4571c2995611",
            "3d66bed2708e4ee8b4491cbd47f591cf",
            "8b14dedd4e5d4004904e5ed2ab3ca057",
            "2331536ad4784dfbb6c7e20dc55eb563",
            "92f4d569fd9f4a03a401b44110c71e50",
            "730e04ff9c834196959bc57e82be4956",
            "180240754c824d1eb62845f9c432ece9",
            "63e9df29be734f57a3b85f0a7dab12de",
            "f8e60ccd9ae648e891759dd6c09be54a"
          ]
        },
        "id": "IkQf-le5evG1",
        "outputId": "a38aa4b3-ed8a-4a10-859a-66087a63d991"
      },
      "outputs": [
        {
          "output_type": "stream",
          "name": "stdout",
          "text": [
            "Downloading https://www.cs.toronto.edu/~kriz/cifar-10-python.tar.gz to ./data/cifar-10-python.tar.gz\n"
          ]
        },
        {
          "output_type": "display_data",
          "data": {
            "text/plain": [
              "  0%|          | 0/170498071 [00:00<?, ?it/s]"
            ],
            "application/vnd.jupyter.widget-view+json": {
              "version_major": 2,
              "version_minor": 0,
              "model_id": "5196488401724097ae7444cd120332f2"
            }
          },
          "metadata": {}
        },
        {
          "output_type": "stream",
          "name": "stdout",
          "text": [
            "Extracting ./data/cifar-10-python.tar.gz to ./data\n",
            "Files already downloaded and verified\n"
          ]
        }
      ],
      "source": [
        "train_loader, val_loader  =get_cifar10()"
      ]
    },
    {
      "cell_type": "code",
      "execution_count": null,
      "metadata": {
        "id": "Fr4bZ8W1B6Kc",
        "colab": {
          "base_uri": "https://localhost:8080/"
        },
        "outputId": "92a06133-9df2-4f85-ea0a-5c56ae45cc83"
      },
      "outputs": [
        {
          "output_type": "stream",
          "name": "stderr",
          "text": [
            "  0%|          | 0/1 [00:00<?, ?it/s]\n",
            "  0%|          | 0/35 [00:00<?, ?it/s]\u001b[A\n",
            "\n",
            "  0%|          | 0/79 [00:00<?, ?it/s]\u001b[A\u001b[A\n",
            "\n",
            "  1%|▏         | 1/79 [00:00<00:09,  8.23it/s]\u001b[A\u001b[A\n",
            "\n",
            " 14%|█▍        | 11/79 [00:00<00:01, 57.56it/s]\u001b[A\u001b[A\n",
            "\n",
            " 28%|██▊       | 22/79 [00:00<00:00, 79.52it/s]\u001b[A\u001b[A\n",
            "\n",
            " 42%|████▏     | 33/79 [00:00<00:00, 89.83it/s]\u001b[A\u001b[A\n",
            "\n",
            " 56%|█████▌    | 44/79 [00:00<00:00, 96.67it/s]\u001b[A\u001b[A\n",
            "\n",
            " 70%|██████▉   | 55/79 [00:00<00:00, 99.54it/s]\u001b[A\u001b[A\n",
            "\n",
            " 84%|████████▎ | 66/79 [00:00<00:00, 101.73it/s]\u001b[A\u001b[A\n",
            "\n",
            "100%|██████████| 79/79 [00:00<00:00, 86.92it/s] \n",
            "\n",
            "  3%|▎         | 1/35 [00:12<06:50, 12.08s/it]\u001b[A\n",
            "\n",
            "  0%|          | 0/79 [00:00<?, ?it/s]\u001b[A\u001b[A\n",
            "\n",
            "  1%|▏         | 1/79 [00:00<00:09,  8.23it/s]\u001b[A\u001b[A\n",
            "\n",
            " 15%|█▌        | 12/79 [00:00<00:01, 60.59it/s]\u001b[A\u001b[A\n",
            "\n",
            " 28%|██▊       | 22/79 [00:00<00:00, 74.55it/s]\u001b[A\u001b[A\n",
            "\n",
            " 43%|████▎     | 34/79 [00:00<00:00, 88.23it/s]\u001b[A\u001b[A\n",
            "\n",
            " 57%|█████▋    | 45/79 [00:00<00:00, 93.32it/s]\u001b[A\u001b[A\n",
            "\n",
            " 71%|███████   | 56/79 [00:00<00:00, 98.01it/s]\u001b[A\u001b[A\n",
            "\n",
            " 85%|████████▍ | 67/79 [00:00<00:00, 100.23it/s]\u001b[A\u001b[A\n",
            "\n",
            "100%|██████████| 79/79 [00:00<00:00, 85.47it/s] \n",
            "\n",
            "  6%|▌         | 2/35 [00:23<06:30, 11.83s/it]\u001b[A\n",
            "\n",
            "  0%|          | 0/79 [00:00<?, ?it/s]\u001b[A\u001b[A\n",
            "\n",
            "  1%|▏         | 1/79 [00:00<00:10,  7.80it/s]\u001b[A\u001b[A\n",
            "\n",
            " 14%|█▍        | 11/79 [00:00<00:01, 55.56it/s]\u001b[A\u001b[A\n",
            "\n",
            " 28%|██▊       | 22/79 [00:00<00:00, 78.22it/s]\u001b[A\u001b[A\n",
            "\n",
            " 42%|████▏     | 33/79 [00:00<00:00, 88.05it/s]\u001b[A\u001b[A\n",
            "\n",
            " 56%|█████▌    | 44/79 [00:00<00:00, 94.44it/s]\u001b[A\u001b[A\n",
            "\n",
            " 70%|██████▉   | 55/79 [00:00<00:00, 99.00it/s]\u001b[A\u001b[A\n",
            "\n",
            " 84%|████████▎ | 66/79 [00:00<00:00, 101.62it/s]\u001b[A\u001b[A\n",
            "\n",
            "100%|██████████| 79/79 [00:00<00:00, 85.73it/s] \n",
            "\n",
            "  9%|▊         | 3/35 [00:34<06:04, 11.41s/it]\u001b[A\n",
            "\n",
            "  0%|          | 0/79 [00:00<?, ?it/s]\u001b[A\u001b[A\n",
            "\n",
            "  1%|▏         | 1/79 [00:00<00:09,  8.06it/s]\u001b[A\u001b[A\n",
            "\n",
            " 14%|█▍        | 11/79 [00:00<00:01, 56.21it/s]\u001b[A\u001b[A\n",
            "\n",
            " 28%|██▊       | 22/79 [00:00<00:00, 78.96it/s]\u001b[A\u001b[A\n",
            "\n",
            " 43%|████▎     | 34/79 [00:00<00:00, 91.64it/s]\u001b[A\u001b[A\n",
            "\n",
            " 57%|█████▋    | 45/79 [00:00<00:00, 96.37it/s]\u001b[A\u001b[A\n",
            "\n",
            " 71%|███████   | 56/79 [00:00<00:00, 99.62it/s]\u001b[A\u001b[A\n",
            "\n",
            " 85%|████████▍ | 67/79 [00:00<00:00, 102.74it/s]\u001b[A\u001b[A\n",
            "\n",
            "100%|██████████| 79/79 [00:00<00:00, 86.87it/s] \n",
            "\n",
            " 11%|█▏        | 4/35 [00:45<05:44, 11.11s/it]\u001b[A\n",
            "\n",
            "  0%|          | 0/79 [00:00<?, ?it/s]\u001b[A\u001b[A\n",
            "\n",
            "  1%|▏         | 1/79 [00:00<00:10,  7.60it/s]\u001b[A\u001b[A\n",
            "\n",
            " 15%|█▌        | 12/79 [00:00<00:01, 58.60it/s]\u001b[A\u001b[A\n",
            "\n",
            " 29%|██▉       | 23/79 [00:00<00:00, 79.25it/s]\u001b[A\u001b[A\n",
            "\n",
            " 42%|████▏     | 33/79 [00:00<00:00, 84.81it/s]\u001b[A\u001b[A\n",
            "\n",
            " 56%|█████▌    | 44/79 [00:00<00:00, 91.43it/s]\u001b[A\u001b[A\n",
            "\n",
            " 70%|██████▉   | 55/79 [00:00<00:00, 97.04it/s]\u001b[A\u001b[A\n",
            "\n",
            " 84%|████████▎ | 66/79 [00:00<00:00, 99.79it/s]\u001b[A\u001b[A\n",
            "\n",
            "100%|██████████| 79/79 [00:00<00:00, 84.75it/s] \n",
            "\n",
            " 14%|█▍        | 5/35 [00:56<05:29, 10.99s/it]\u001b[A\n",
            "\n",
            "  0%|          | 0/79 [00:00<?, ?it/s]\u001b[A\u001b[A\n",
            "\n",
            "  1%|▏         | 1/79 [00:00<00:09,  7.93it/s]\u001b[A\u001b[A\n",
            "\n",
            " 15%|█▌        | 12/79 [00:00<00:01, 60.59it/s]\u001b[A\u001b[A\n",
            "\n",
            " 29%|██▉       | 23/79 [00:00<00:00, 78.94it/s]\u001b[A\u001b[A\n",
            "\n",
            " 43%|████▎     | 34/79 [00:00<00:00, 90.18it/s]\u001b[A\u001b[A\n",
            "\n",
            " 57%|█████▋    | 45/79 [00:00<00:00, 96.78it/s]\u001b[A\u001b[A\n",
            "\n",
            " 71%|███████   | 56/79 [00:00<00:00, 99.06it/s]\u001b[A\u001b[A\n",
            "\n",
            " 85%|████████▍ | 67/79 [00:00<00:00, 100.31it/s]\u001b[A\u001b[A\n",
            "\n",
            "100%|██████████| 79/79 [00:00<00:00, 86.08it/s] \n",
            "\n",
            " 17%|█▋        | 6/35 [01:06<05:15, 10.89s/it]\u001b[A\n",
            "\n",
            "  0%|          | 0/79 [00:00<?, ?it/s]\u001b[A\u001b[A\n",
            "\n",
            "  1%|▏         | 1/79 [00:00<00:09,  8.03it/s]\u001b[A\u001b[A\n",
            "\n",
            " 15%|█▌        | 12/79 [00:00<00:01, 60.70it/s]\u001b[A\u001b[A\n",
            "\n",
            " 30%|███       | 24/79 [00:00<00:00, 82.76it/s]\u001b[A\u001b[A\n",
            "\n",
            " 43%|████▎     | 34/79 [00:00<00:00, 87.48it/s]\u001b[A\u001b[A\n",
            "\n",
            " 57%|█████▋    | 45/79 [00:00<00:00, 94.82it/s]\u001b[A\u001b[A\n",
            "\n",
            " 70%|██████▉   | 55/79 [00:00<00:00, 92.98it/s]\u001b[A\u001b[A\n",
            "\n",
            " 84%|████████▎ | 66/79 [00:00<00:00, 96.91it/s]\u001b[A\u001b[A\n",
            "\n",
            "100%|██████████| 79/79 [00:00<00:00, 84.45it/s]\n",
            "\n",
            " 20%|██        | 7/35 [01:17<05:03, 10.85s/it]\u001b[A\n",
            "\n",
            "  0%|          | 0/79 [00:00<?, ?it/s]\u001b[A\u001b[A\n",
            "\n",
            "  1%|▏         | 1/79 [00:00<00:09,  8.16it/s]\u001b[A\u001b[A\n",
            "\n",
            " 14%|█▍        | 11/79 [00:00<00:01, 57.30it/s]\u001b[A\u001b[A\n",
            "\n",
            " 28%|██▊       | 22/79 [00:00<00:00, 79.03it/s]\u001b[A\u001b[A\n",
            "\n",
            " 42%|████▏     | 33/79 [00:00<00:00, 90.48it/s]\u001b[A\u001b[A\n",
            "\n",
            " 56%|█████▌    | 44/79 [00:00<00:00, 96.70it/s]\u001b[A\u001b[A\n",
            "\n",
            " 70%|██████▉   | 55/79 [00:00<00:00, 100.54it/s]\u001b[A\u001b[A\n",
            "\n",
            " 84%|████████▎ | 66/79 [00:00<00:00, 103.02it/s]\u001b[A\u001b[A\n",
            "\n",
            "100%|██████████| 79/79 [00:00<00:00, 87.44it/s] \n",
            "\n",
            " 23%|██▎       | 8/35 [01:28<04:50, 10.76s/it]\u001b[A\n",
            "\n",
            "  0%|          | 0/79 [00:00<?, ?it/s]\u001b[A\u001b[A\n",
            "\n",
            "  1%|▏         | 1/79 [00:00<00:09,  8.22it/s]\u001b[A\u001b[A\n",
            "\n",
            " 15%|█▌        | 12/79 [00:00<00:01, 60.54it/s]\u001b[A\u001b[A\n",
            "\n",
            " 30%|███       | 24/79 [00:00<00:00, 82.92it/s]\u001b[A\u001b[A\n",
            "\n",
            " 44%|████▍     | 35/79 [00:00<00:00, 91.47it/s]\u001b[A\u001b[A\n",
            "\n",
            " 59%|█████▉    | 47/79 [00:00<00:00, 98.23it/s]\u001b[A\u001b[A\n",
            "\n",
            " 73%|███████▎  | 58/79 [00:00<00:00, 101.16it/s]\u001b[A\u001b[A\n",
            "\n",
            "100%|██████████| 79/79 [00:00<00:00, 88.20it/s] \n",
            "\n",
            " 26%|██▌       | 9/35 [01:39<04:47, 11.04s/it]\u001b[A\n",
            "\n",
            "  0%|          | 0/79 [00:00<?, ?it/s]\u001b[A\u001b[A\n",
            "\n",
            "  1%|▏         | 1/79 [00:00<00:09,  8.17it/s]\u001b[A\u001b[A\n",
            "\n",
            " 14%|█▍        | 11/79 [00:00<00:01, 56.73it/s]\u001b[A\u001b[A\n",
            "\n",
            " 27%|██▋       | 21/79 [00:00<00:00, 74.24it/s]\u001b[A\u001b[A\n",
            "\n",
            " 41%|████      | 32/79 [00:00<00:00, 86.50it/s]\u001b[A\u001b[A\n",
            "\n",
            " 54%|█████▍    | 43/79 [00:00<00:00, 93.25it/s]\u001b[A\u001b[A\n",
            "\n",
            " 68%|██████▊   | 54/79 [00:00<00:00, 97.10it/s]\u001b[A\u001b[A\n",
            "\n",
            " 82%|████████▏ | 65/79 [00:00<00:00, 99.65it/s]\u001b[A\u001b[A\n",
            "\n",
            "100%|██████████| 79/79 [00:00<00:00, 83.64it/s] \n",
            "\n",
            " 29%|██▊       | 10/35 [01:50<04:37, 11.09s/it]\u001b[A\n",
            "\n",
            "  0%|          | 0/79 [00:00<?, ?it/s]\u001b[A\u001b[A\n",
            "\n",
            "  1%|▏         | 1/79 [00:00<00:09,  8.06it/s]\u001b[A\u001b[A\n",
            "\n",
            " 14%|█▍        | 11/79 [00:00<00:01, 56.69it/s]\u001b[A\u001b[A\n",
            "\n",
            " 29%|██▉       | 23/79 [00:00<00:00, 81.15it/s]\u001b[A\u001b[A\n",
            "\n",
            " 42%|████▏     | 33/79 [00:00<00:00, 87.98it/s]\u001b[A\u001b[A\n",
            "\n",
            " 56%|█████▌    | 44/79 [00:00<00:00, 94.00it/s]\u001b[A\u001b[A\n",
            "\n",
            " 70%|██████▉   | 55/79 [00:00<00:00, 98.57it/s]\u001b[A\u001b[A\n",
            "\n",
            " 85%|████████▍ | 67/79 [00:00<00:00, 102.82it/s]\u001b[A\u001b[A\n",
            "\n",
            "100%|██████████| 79/79 [00:00<00:00, 86.67it/s] \n",
            "\n",
            " 31%|███▏      | 11/35 [02:01<04:22, 10.96s/it]\u001b[A\n",
            "\n",
            "  0%|          | 0/79 [00:00<?, ?it/s]\u001b[A\u001b[A\n",
            "\n",
            "  1%|▏         | 1/79 [00:00<00:09,  8.21it/s]\u001b[A\u001b[A\n",
            "\n",
            " 14%|█▍        | 11/79 [00:00<00:01, 57.75it/s]\u001b[A\u001b[A\n",
            "\n",
            " 28%|██▊       | 22/79 [00:00<00:00, 77.51it/s]\u001b[A\u001b[A\n",
            "\n",
            " 42%|████▏     | 33/79 [00:00<00:00, 87.93it/s]\u001b[A\u001b[A\n",
            "\n",
            " 57%|█████▋    | 45/79 [00:00<00:00, 95.38it/s]\u001b[A\u001b[A\n",
            "\n",
            " 71%|███████   | 56/79 [00:00<00:00, 99.32it/s]\u001b[A\u001b[A\n",
            "\n",
            " 85%|████████▍ | 67/79 [00:00<00:00, 101.18it/s]\u001b[A\u001b[A\n",
            "\n",
            "100%|██████████| 79/79 [00:00<00:00, 86.36it/s] \n",
            "\n",
            " 34%|███▍      | 12/35 [02:12<04:13, 11.01s/it]\u001b[A\n",
            "\n",
            "  0%|          | 0/79 [00:00<?, ?it/s]\u001b[A\u001b[A\n",
            "\n",
            "  1%|▏         | 1/79 [00:00<00:09,  8.15it/s]\u001b[A\u001b[A\n",
            "\n",
            " 15%|█▌        | 12/79 [00:00<00:01, 61.25it/s]\u001b[A\u001b[A\n",
            "\n",
            " 29%|██▉       | 23/79 [00:00<00:00, 81.55it/s]\u001b[A\u001b[A\n",
            "\n",
            " 43%|████▎     | 34/79 [00:00<00:00, 91.40it/s]\u001b[A\u001b[A\n",
            "\n",
            " 58%|█████▊    | 46/79 [00:00<00:00, 98.91it/s]\u001b[A\u001b[A\n",
            "\n",
            " 73%|███████▎  | 58/79 [00:00<00:00, 103.30it/s]\u001b[A\u001b[A\n",
            "\n",
            "100%|██████████| 79/79 [00:00<00:00, 88.95it/s] \n",
            "\n",
            " 37%|███▋      | 13/35 [02:23<03:59, 10.90s/it]\u001b[A\n",
            "\n",
            "  0%|          | 0/79 [00:00<?, ?it/s]\u001b[A\u001b[A\n",
            "\n",
            "  1%|▏         | 1/79 [00:00<00:09,  8.46it/s]\u001b[A\u001b[A\n",
            "\n",
            " 15%|█▌        | 12/79 [00:00<00:01, 61.51it/s]\u001b[A\u001b[A\n",
            "\n",
            " 29%|██▉       | 23/79 [00:00<00:00, 81.71it/s]\u001b[A\u001b[A\n",
            "\n",
            " 43%|████▎     | 34/79 [00:00<00:00, 89.79it/s]\u001b[A\u001b[A\n",
            "\n",
            " 58%|█████▊    | 46/79 [00:00<00:00, 97.39it/s]\u001b[A\u001b[A\n",
            "\n",
            " 72%|███████▏  | 57/79 [00:00<00:00, 101.07it/s]\u001b[A\u001b[A\n",
            "\n",
            " 86%|████████▌ | 68/79 [00:00<00:00, 103.23it/s]\u001b[A\u001b[A\n",
            "\n",
            "100%|██████████| 79/79 [00:00<00:00, 87.65it/s] \n",
            "\n",
            " 40%|████      | 14/35 [02:34<03:52, 11.06s/it]\u001b[A\n",
            "\n",
            "  0%|          | 0/79 [00:00<?, ?it/s]\u001b[A\u001b[A\n",
            "\n",
            "  1%|▏         | 1/79 [00:00<00:09,  7.92it/s]\u001b[A\u001b[A\n",
            "\n",
            " 14%|█▍        | 11/79 [00:00<00:01, 56.47it/s]\u001b[A\u001b[A\n",
            "\n",
            " 28%|██▊       | 22/79 [00:00<00:00, 78.53it/s]\u001b[A\u001b[A\n",
            "\n",
            " 39%|███▉      | 31/79 [00:00<00:00, 79.14it/s]\u001b[A\u001b[A\n",
            "\n",
            " 53%|█████▎    | 42/79 [00:00<00:00, 88.58it/s]\u001b[A\u001b[A\n",
            "\n",
            " 67%|██████▋   | 53/79 [00:00<00:00, 93.76it/s]\u001b[A\u001b[A\n",
            "\n",
            " 81%|████████  | 64/79 [00:00<00:00, 98.24it/s]\u001b[A\u001b[A\n",
            "\n",
            "100%|██████████| 79/79 [00:00<00:00, 83.72it/s] \n",
            "\n",
            " 43%|████▎     | 15/35 [02:46<03:45, 11.30s/it]\u001b[A\n",
            "\n",
            "  0%|          | 0/79 [00:00<?, ?it/s]\u001b[A\u001b[A\n",
            "\n",
            "  1%|▏         | 1/79 [00:00<00:09,  8.04it/s]\u001b[A\u001b[A\n",
            "\n",
            " 13%|█▎        | 10/79 [00:00<00:01, 51.15it/s]\u001b[A\u001b[A\n",
            "\n",
            " 27%|██▋       | 21/79 [00:00<00:00, 75.22it/s]\u001b[A\u001b[A\n",
            "\n",
            " 41%|████      | 32/79 [00:00<00:00, 87.54it/s]\u001b[A\u001b[A\n",
            "\n",
            " 54%|█████▍    | 43/79 [00:00<00:00, 93.80it/s]\u001b[A\u001b[A\n",
            "\n",
            " 68%|██████▊   | 54/79 [00:00<00:00, 98.83it/s]\u001b[A\u001b[A\n",
            "\n",
            " 84%|████████▎ | 66/79 [00:00<00:00, 102.86it/s]\u001b[A\u001b[A\n",
            "\n",
            "100%|██████████| 79/79 [00:00<00:00, 85.88it/s] \n",
            "\n",
            " 46%|████▌     | 16/35 [02:57<03:34, 11.28s/it]\u001b[A\n",
            "\n",
            "  0%|          | 0/79 [00:00<?, ?it/s]\u001b[A\u001b[A\n",
            "\n",
            "  1%|▏         | 1/79 [00:00<00:09,  8.11it/s]\u001b[A\u001b[A\n",
            "\n",
            " 14%|█▍        | 11/79 [00:00<00:01, 57.02it/s]\u001b[A\u001b[A\n",
            "\n",
            " 28%|██▊       | 22/79 [00:00<00:00, 78.38it/s]\u001b[A\u001b[A\n",
            "\n",
            " 42%|████▏     | 33/79 [00:00<00:00, 88.56it/s]\u001b[A\u001b[A\n",
            "\n",
            " 56%|█████▌    | 44/79 [00:00<00:00, 95.60it/s]\u001b[A\u001b[A\n",
            "\n",
            " 70%|██████▉   | 55/79 [00:00<00:00, 99.81it/s]\u001b[A\u001b[A\n",
            "\n",
            " 84%|████████▎ | 66/79 [00:00<00:00, 101.08it/s]\u001b[A\u001b[A\n",
            "\n",
            "100%|██████████| 79/79 [00:00<00:00, 85.86it/s] \n",
            "\n",
            " 49%|████▊     | 17/35 [03:08<03:19, 11.11s/it]\u001b[A\n",
            "\n",
            "  0%|          | 0/79 [00:00<?, ?it/s]\u001b[A\u001b[A\n",
            "\n",
            "  1%|▏         | 1/79 [00:00<00:09,  8.16it/s]\u001b[A\u001b[A\n",
            "\n",
            " 14%|█▍        | 11/79 [00:00<00:01, 56.06it/s]\u001b[A\u001b[A\n",
            "\n",
            " 28%|██▊       | 22/79 [00:00<00:00, 77.77it/s]\u001b[A\u001b[A\n",
            "\n",
            " 42%|████▏     | 33/79 [00:00<00:00, 88.60it/s]\u001b[A\u001b[A\n",
            "\n",
            " 56%|█████▌    | 44/79 [00:00<00:00, 93.69it/s]\u001b[A\u001b[A\n",
            "\n",
            " 70%|██████▉   | 55/79 [00:00<00:00, 97.79it/s]\u001b[A\u001b[A\n",
            "\n",
            " 84%|████████▎ | 66/79 [00:00<00:00, 100.67it/s]\u001b[A\u001b[A\n",
            "\n",
            "100%|██████████| 79/79 [00:00<00:00, 84.31it/s]\n",
            "\n",
            " 51%|█████▏    | 18/35 [03:19<03:06, 11.00s/it]\u001b[A\n",
            "\n",
            "  0%|          | 0/79 [00:00<?, ?it/s]\u001b[A\u001b[A\n",
            "\n",
            "  1%|▏         | 1/79 [00:00<00:09,  8.34it/s]\u001b[A\u001b[A\n",
            "\n",
            " 15%|█▌        | 12/79 [00:00<00:01, 60.73it/s]\u001b[A\u001b[A\n",
            "\n",
            " 29%|██▉       | 23/79 [00:00<00:00, 80.22it/s]\u001b[A\u001b[A\n",
            "\n",
            " 43%|████▎     | 34/79 [00:00<00:00, 89.82it/s]\u001b[A\u001b[A\n",
            "\n",
            " 57%|█████▋    | 45/79 [00:00<00:00, 95.39it/s]\u001b[A\u001b[A\n",
            "\n",
            " 71%|███████   | 56/79 [00:00<00:00, 99.49it/s]\u001b[A\u001b[A\n",
            "\n",
            " 86%|████████▌ | 68/79 [00:00<00:00, 103.29it/s]\u001b[A\u001b[A\n",
            "\n",
            "100%|██████████| 79/79 [00:00<00:00, 85.91it/s] \n",
            "\n",
            " 54%|█████▍    | 19/35 [03:30<02:54, 10.93s/it]\u001b[A\n",
            "\n",
            "  0%|          | 0/79 [00:00<?, ?it/s]\u001b[A\u001b[A\n",
            "\n",
            "  1%|▏         | 1/79 [00:00<00:09,  8.36it/s]\u001b[A\u001b[A\n",
            "\n",
            " 13%|█▎        | 10/79 [00:00<00:01, 51.38it/s]\u001b[A\u001b[A\n",
            "\n",
            " 27%|██▋       | 21/79 [00:00<00:00, 74.83it/s]\u001b[A\u001b[A\n",
            "\n",
            " 41%|████      | 32/79 [00:00<00:00, 87.45it/s]\u001b[A\u001b[A\n",
            "\n",
            " 52%|█████▏    | 41/79 [00:00<00:00, 87.37it/s]\u001b[A\u001b[A\n",
            "\n",
            " 66%|██████▌   | 52/79 [00:00<00:00, 93.07it/s]\u001b[A\u001b[A\n",
            "\n",
            " 80%|███████▉  | 63/79 [00:00<00:00, 98.31it/s]\u001b[A\u001b[A\n",
            "\n",
            "100%|██████████| 79/79 [00:00<00:00, 83.66it/s]\n",
            "\n",
            " 57%|█████▋    | 20/35 [03:41<02:43, 10.92s/it]\u001b[A\n",
            "\n",
            "  0%|          | 0/79 [00:00<?, ?it/s]\u001b[A\u001b[A\n",
            "\n",
            "  1%|▏         | 1/79 [00:00<00:09,  7.98it/s]\u001b[A\u001b[A\n",
            "\n",
            " 15%|█▌        | 12/79 [00:00<00:01, 59.22it/s]\u001b[A\u001b[A\n",
            "\n",
            " 29%|██▉       | 23/79 [00:00<00:00, 79.93it/s]\u001b[A\u001b[A\n",
            "\n",
            " 43%|████▎     | 34/79 [00:00<00:00, 90.75it/s]\u001b[A\u001b[A\n",
            "\n",
            " 57%|█████▋    | 45/79 [00:00<00:00, 97.05it/s]\u001b[A\u001b[A\n",
            "\n",
            " 71%|███████   | 56/79 [00:00<00:00, 100.34it/s]\u001b[A\u001b[A\n",
            "\n",
            " 85%|████████▍ | 67/79 [00:00<00:00, 102.68it/s]\u001b[A\u001b[A\n",
            "\n",
            "100%|██████████| 79/79 [00:00<00:00, 86.36it/s] \n",
            "\n",
            " 60%|██████    | 21/35 [03:51<02:32, 10.87s/it]\u001b[A\n",
            "\n",
            "  0%|          | 0/79 [00:00<?, ?it/s]\u001b[A\u001b[A\n",
            "\n",
            "  1%|▏         | 1/79 [00:00<00:09,  8.16it/s]\u001b[A\u001b[A\n",
            "\n",
            " 14%|█▍        | 11/79 [00:00<00:01, 57.26it/s]\u001b[A\u001b[A\n",
            "\n",
            " 28%|██▊       | 22/79 [00:00<00:00, 79.92it/s]\u001b[A\u001b[A\n",
            "\n",
            " 39%|███▉      | 31/79 [00:00<00:00, 83.70it/s]\u001b[A\u001b[A\n",
            "\n",
            " 53%|█████▎    | 42/79 [00:00<00:00, 90.35it/s]\u001b[A\u001b[A\n",
            "\n",
            " 67%|██████▋   | 53/79 [00:00<00:00, 95.97it/s]\u001b[A\u001b[A\n",
            "\n",
            " 81%|████████  | 64/79 [00:00<00:00, 98.49it/s]\u001b[A\u001b[A\n",
            "\n",
            "100%|██████████| 79/79 [00:00<00:00, 82.65it/s]\n",
            "\n",
            " 63%|██████▎   | 22/35 [04:02<02:21, 10.87s/it]\u001b[A\n",
            "\n",
            "  0%|          | 0/79 [00:00<?, ?it/s]\u001b[A\u001b[A\n",
            "\n",
            "  1%|▏         | 1/79 [00:00<00:09,  8.29it/s]\u001b[A\u001b[A\n",
            "\n",
            " 14%|█▍        | 11/79 [00:00<00:01, 56.10it/s]\u001b[A\u001b[A\n",
            "\n",
            " 27%|██▋       | 21/79 [00:00<00:00, 72.98it/s]\u001b[A\u001b[A\n",
            "\n",
            " 39%|███▉      | 31/79 [00:00<00:00, 81.93it/s]\u001b[A\u001b[A\n",
            "\n",
            " 54%|█████▍    | 43/79 [00:00<00:00, 92.73it/s]\u001b[A\u001b[A\n",
            "\n",
            " 68%|██████▊   | 54/79 [00:00<00:00, 96.91it/s]\u001b[A\u001b[A\n",
            "\n",
            " 84%|████████▎ | 66/79 [00:00<00:00, 102.04it/s]\u001b[A\u001b[A\n",
            "\n",
            "100%|██████████| 79/79 [00:00<00:00, 84.67it/s] \n",
            "\n",
            " 66%|██████▌   | 23/35 [04:13<02:10, 10.87s/it]\u001b[A\n",
            "\n",
            "  0%|          | 0/79 [00:00<?, ?it/s]\u001b[A\u001b[A\n",
            "\n",
            "  1%|▏         | 1/79 [00:00<00:09,  8.36it/s]\u001b[A\u001b[A\n",
            "\n",
            " 13%|█▎        | 10/79 [00:00<00:01, 51.87it/s]\u001b[A\u001b[A\n",
            "\n",
            " 27%|██▋       | 21/79 [00:00<00:00, 74.71it/s]\u001b[A\u001b[A\n",
            "\n",
            " 41%|████      | 32/79 [00:00<00:00, 87.50it/s]\u001b[A\u001b[A\n",
            "\n",
            " 54%|█████▍    | 43/79 [00:00<00:00, 93.82it/s]\u001b[A\u001b[A\n",
            "\n",
            " 68%|██████▊   | 54/79 [00:00<00:00, 98.16it/s]\u001b[A\u001b[A\n",
            "\n",
            " 82%|████████▏ | 65/79 [00:00<00:00, 101.23it/s]\u001b[A\u001b[A\n",
            "\n",
            "100%|██████████| 79/79 [00:00<00:00, 85.35it/s] \n",
            "\n",
            " 69%|██████▊   | 24/35 [04:24<01:59, 10.85s/it]\u001b[A\n",
            "\n",
            "  0%|          | 0/79 [00:00<?, ?it/s]\u001b[A\u001b[A\n",
            "\n",
            "  1%|▏         | 1/79 [00:00<00:09,  8.27it/s]\u001b[A\u001b[A\n",
            "\n",
            " 14%|█▍        | 11/79 [00:00<00:01, 57.89it/s]\u001b[A\u001b[A\n",
            "\n",
            " 28%|██▊       | 22/79 [00:00<00:00, 78.79it/s]\u001b[A\u001b[A\n",
            "\n",
            " 42%|████▏     | 33/79 [00:00<00:00, 90.23it/s]\u001b[A\u001b[A\n",
            "\n",
            " 56%|█████▌    | 44/79 [00:00<00:00, 94.57it/s]\u001b[A\u001b[A\n",
            "\n",
            " 70%|██████▉   | 55/79 [00:00<00:00, 97.47it/s]\u001b[A\u001b[A\n",
            "\n",
            " 84%|████████▎ | 66/79 [00:00<00:00, 101.22it/s]\u001b[A\u001b[A\n",
            "\n",
            "100%|██████████| 79/79 [00:00<00:00, 86.38it/s] \n",
            "\n",
            " 71%|███████▏  | 25/35 [04:35<01:48, 10.83s/it]\u001b[A\n",
            "\n",
            "  0%|          | 0/79 [00:00<?, ?it/s]\u001b[A\u001b[A\n",
            "\n",
            "  1%|▏         | 1/79 [00:00<00:09,  7.99it/s]\u001b[A\u001b[A\n",
            "\n",
            " 14%|█▍        | 11/79 [00:00<00:01, 55.98it/s]\u001b[A\u001b[A\n",
            "\n",
            " 25%|██▌       | 20/79 [00:00<00:00, 70.27it/s]\u001b[A\u001b[A\n",
            "\n",
            " 41%|████      | 32/79 [00:00<00:00, 86.37it/s]\u001b[A\u001b[A\n",
            "\n",
            " 54%|█████▍    | 43/79 [00:00<00:00, 93.17it/s]\u001b[A\u001b[A\n",
            "\n",
            " 68%|██████▊   | 54/79 [00:00<00:00, 98.32it/s]\u001b[A\u001b[A\n",
            "\n",
            " 82%|████████▏ | 65/79 [00:00<00:00, 101.90it/s]\u001b[A\u001b[A\n",
            "\n",
            "100%|██████████| 79/79 [00:00<00:00, 84.42it/s] \n",
            "\n",
            " 74%|███████▍  | 26/35 [04:46<01:37, 10.87s/it]\u001b[A\n",
            "\n",
            "  0%|          | 0/79 [00:00<?, ?it/s]\u001b[A\u001b[A\n",
            "\n",
            "  1%|▏         | 1/79 [00:00<00:09,  8.03it/s]\u001b[A\u001b[A\n",
            "\n",
            " 14%|█▍        | 11/79 [00:00<00:01, 55.84it/s]\u001b[A\u001b[A\n",
            "\n",
            " 28%|██▊       | 22/79 [00:00<00:00, 78.89it/s]\u001b[A\u001b[A\n",
            "\n",
            " 42%|████▏     | 33/79 [00:00<00:00, 90.64it/s]\u001b[A\u001b[A\n",
            "\n",
            " 56%|█████▌    | 44/79 [00:00<00:00, 95.90it/s]\u001b[A\u001b[A\n",
            "\n",
            " 68%|██████▊   | 54/79 [00:00<00:00, 96.57it/s]\u001b[A\u001b[A\n",
            "\n",
            " 82%|████████▏ | 65/79 [00:00<00:00, 99.17it/s]\u001b[A\u001b[A\n",
            "\n",
            "100%|██████████| 79/79 [00:00<00:00, 85.07it/s] \n",
            "\n",
            " 77%|███████▋  | 27/35 [04:56<01:26, 10.85s/it]\u001b[A\n",
            "\n",
            "  0%|          | 0/79 [00:00<?, ?it/s]\u001b[A\u001b[A\n",
            "\n",
            "  1%|▏         | 1/79 [00:00<00:10,  7.22it/s]\u001b[A\u001b[A\n",
            "\n",
            " 13%|█▎        | 10/79 [00:00<00:01, 49.03it/s]\u001b[A\u001b[A\n",
            "\n",
            " 27%|██▋       | 21/79 [00:00<00:00, 74.50it/s]\u001b[A\u001b[A\n",
            "\n",
            " 42%|████▏     | 33/79 [00:00<00:00, 88.88it/s]\u001b[A\u001b[A\n",
            "\n",
            " 56%|█████▌    | 44/79 [00:00<00:00, 95.14it/s]\u001b[A\u001b[A\n",
            "\n",
            " 70%|██████▉   | 55/79 [00:00<00:00, 98.60it/s]\u001b[A\u001b[A\n",
            "\n",
            " 84%|████████▎ | 66/79 [00:00<00:00, 98.15it/s]\u001b[A\u001b[A\n",
            "\n",
            "100%|██████████| 79/79 [00:00<00:00, 83.94it/s] \n",
            "\n",
            " 80%|████████  | 28/35 [05:07<01:15, 10.80s/it]\u001b[A\n",
            "\n",
            "  0%|          | 0/79 [00:00<?, ?it/s]\u001b[A\u001b[A\n",
            "\n",
            "  1%|▏         | 1/79 [00:00<00:09,  8.32it/s]\u001b[A\u001b[A\n",
            "\n",
            " 14%|█▍        | 11/79 [00:00<00:01, 57.39it/s]\u001b[A\u001b[A\n",
            "\n",
            " 29%|██▉       | 23/79 [00:00<00:00, 82.00it/s]\u001b[A\u001b[A\n",
            "\n",
            " 44%|████▍     | 35/79 [00:00<00:00, 93.46it/s]\u001b[A\u001b[A\n",
            "\n",
            " 58%|█████▊    | 46/79 [00:00<00:00, 97.98it/s]\u001b[A\u001b[A\n",
            "\n",
            " 72%|███████▏  | 57/79 [00:00<00:00, 100.71it/s]\u001b[A\u001b[A\n",
            "\n",
            " 86%|████████▌ | 68/79 [00:00<00:00, 102.70it/s]\u001b[A\u001b[A\n",
            "\n",
            "100%|██████████| 79/79 [00:00<00:00, 87.06it/s] \n",
            "\n",
            " 83%|████████▎ | 29/35 [05:18<01:05, 10.93s/it]\u001b[A\n",
            "\n",
            "  0%|          | 0/79 [00:00<?, ?it/s]\u001b[A\u001b[A\n",
            "\n",
            "  1%|▏         | 1/79 [00:00<00:09,  8.35it/s]\u001b[A\u001b[A\n",
            "\n",
            " 15%|█▌        | 12/79 [00:00<00:01, 60.92it/s]\u001b[A\u001b[A\n",
            "\n",
            " 29%|██▉       | 23/79 [00:00<00:00, 78.77it/s]\u001b[A\u001b[A\n",
            "\n",
            " 43%|████▎     | 34/79 [00:00<00:00, 89.60it/s]\u001b[A\u001b[A\n",
            "\n",
            " 58%|█████▊    | 46/79 [00:00<00:00, 97.17it/s]\u001b[A\u001b[A\n",
            "\n",
            " 72%|███████▏  | 57/79 [00:00<00:00, 100.31it/s]\u001b[A\u001b[A\n",
            "\n",
            "100%|██████████| 79/79 [00:00<00:00, 88.08it/s] \n",
            "\n",
            " 86%|████████▌ | 30/35 [05:29<00:54, 10.87s/it]\u001b[A\n",
            "\n",
            "  0%|          | 0/79 [00:00<?, ?it/s]\u001b[A\u001b[A\n",
            "\n",
            "  1%|▏         | 1/79 [00:00<00:09,  8.40it/s]\u001b[A\u001b[A\n",
            "\n",
            " 15%|█▌        | 12/79 [00:00<00:01, 61.01it/s]\u001b[A\u001b[A\n",
            "\n",
            " 29%|██▉       | 23/79 [00:00<00:00, 81.05it/s]\u001b[A\u001b[A\n",
            "\n",
            " 43%|████▎     | 34/79 [00:00<00:00, 90.06it/s]\u001b[A\u001b[A\n",
            "\n",
            " 57%|█████▋    | 45/79 [00:00<00:00, 96.60it/s]\u001b[A\u001b[A\n",
            "\n",
            " 70%|██████▉   | 55/79 [00:00<00:00, 91.86it/s]\u001b[A\u001b[A\n",
            "\n",
            " 84%|████████▎ | 66/79 [00:00<00:00, 95.54it/s]\u001b[A\u001b[A\n",
            "\n",
            "100%|██████████| 79/79 [00:00<00:00, 84.18it/s]\n",
            "\n",
            " 89%|████████▊ | 31/35 [05:40<00:43, 10.84s/it]\u001b[A\n",
            "\n",
            "  0%|          | 0/79 [00:00<?, ?it/s]\u001b[A\u001b[A\n",
            "\n",
            "  1%|▏         | 1/79 [00:00<00:09,  8.30it/s]\u001b[A\u001b[A\n",
            "\n",
            " 14%|█▍        | 11/79 [00:00<00:01, 56.66it/s]\u001b[A\u001b[A\n",
            "\n",
            " 28%|██▊       | 22/79 [00:00<00:00, 73.46it/s]\u001b[A\u001b[A\n",
            "\n",
            " 42%|████▏     | 33/79 [00:00<00:00, 85.85it/s]\u001b[A\u001b[A\n",
            "\n",
            " 56%|█████▌    | 44/79 [00:00<00:00, 91.88it/s]\u001b[A\u001b[A\n",
            "\n",
            " 68%|██████▊   | 54/79 [00:00<00:00, 91.16it/s]\u001b[A\u001b[A\n",
            "\n",
            " 81%|████████  | 64/79 [00:00<00:00, 90.35it/s]\u001b[A\u001b[A\n",
            "\n",
            "100%|██████████| 79/79 [00:00<00:00, 81.31it/s]\n",
            "\n",
            " 91%|█████████▏| 32/35 [05:51<00:32, 10.82s/it]\u001b[A\n",
            "\n",
            "  0%|          | 0/79 [00:00<?, ?it/s]\u001b[A\u001b[A\n",
            "\n",
            "  1%|▏         | 1/79 [00:00<00:09,  8.28it/s]\u001b[A\u001b[A\n",
            "\n",
            " 14%|█▍        | 11/79 [00:00<00:01, 57.39it/s]\u001b[A\u001b[A\n",
            "\n",
            " 28%|██▊       | 22/79 [00:00<00:00, 79.91it/s]\u001b[A\u001b[A\n",
            "\n",
            " 42%|████▏     | 33/79 [00:00<00:00, 90.93it/s]\u001b[A\u001b[A\n",
            "\n",
            " 56%|█████▌    | 44/79 [00:00<00:00, 97.52it/s]\u001b[A\u001b[A\n",
            "\n",
            " 70%|██████▉   | 55/79 [00:00<00:00, 100.85it/s]\u001b[A\u001b[A\n",
            "\n",
            " 85%|████████▍ | 67/79 [00:00<00:00, 104.16it/s]\u001b[A\u001b[A\n",
            "\n",
            "100%|██████████| 79/79 [00:00<00:00, 87.87it/s] \n",
            "\n",
            " 94%|█████████▍| 33/35 [06:02<00:21, 10.97s/it]\u001b[A\n",
            "\n",
            "  0%|          | 0/79 [00:00<?, ?it/s]\u001b[A\u001b[A\n",
            "\n",
            "  1%|▏         | 1/79 [00:00<00:09,  8.00it/s]\u001b[A\u001b[A\n",
            "\n",
            " 14%|█▍        | 11/79 [00:00<00:01, 55.01it/s]\u001b[A\u001b[A\n",
            "\n",
            " 27%|██▋       | 21/79 [00:00<00:00, 71.90it/s]\u001b[A\u001b[A\n",
            "\n",
            " 41%|████      | 32/79 [00:00<00:00, 83.71it/s]\u001b[A\u001b[A\n",
            "\n",
            " 54%|█████▍    | 43/79 [00:00<00:00, 91.45it/s]\u001b[A\u001b[A\n",
            "\n",
            " 68%|██████▊   | 54/79 [00:00<00:00, 96.87it/s]\u001b[A\u001b[A\n",
            "\n",
            " 82%|████████▏ | 65/79 [00:00<00:00, 99.51it/s]\u001b[A\u001b[A\n",
            "\n",
            "100%|██████████| 79/79 [00:00<00:00, 84.34it/s] \n",
            "\n",
            " 97%|█████████▋| 34/35 [06:13<00:10, 10.97s/it]\u001b[A\n",
            "\n",
            "  0%|          | 0/79 [00:00<?, ?it/s]\u001b[A\u001b[A\n",
            "\n",
            "  1%|▏         | 1/79 [00:00<00:09,  8.37it/s]\u001b[A\u001b[A\n",
            "\n",
            " 14%|█▍        | 11/79 [00:00<00:01, 57.67it/s]\u001b[A\u001b[A\n",
            "\n",
            " 28%|██▊       | 22/79 [00:00<00:00, 80.28it/s]\u001b[A\u001b[A\n",
            "\n",
            " 41%|████      | 32/79 [00:00<00:00, 87.69it/s]\u001b[A\u001b[A\n",
            "\n",
            " 54%|█████▍    | 43/79 [00:00<00:00, 94.13it/s]\u001b[A\u001b[A\n",
            "\n",
            " 70%|██████▉   | 55/79 [00:00<00:00, 100.20it/s]\u001b[A\u001b[A\n",
            "\n",
            " 85%|████████▍ | 67/79 [00:00<00:00, 104.35it/s]\u001b[A\u001b[A\n",
            "\n",
            "100%|██████████| 79/79 [00:00<00:00, 87.94it/s] \n",
            "\n",
            "100%|██████████| 35/35 [06:24<00:00, 10.98s/it]\n",
            "100%|██████████| 1/1 [06:24<00:00, 384.38s/it]\n"
          ]
        }
      ],
      "source": [
        "import pickle\n",
        "from tqdm import tqdm\n",
        "import time\n",
        "for initialization in tqdm([\"xavier_normal\"]):\n",
        "\n",
        "  deb = time.time()\n",
        "  val_accs, val_losses , train_accs , train_losses = [], [] , [], []\n",
        "  n_epochs = 35\n",
        "\n",
        "\n",
        "  model = ResNet18(\n",
        "    activation_str=\"relu\",\n",
        "    initialization=initialization\n",
        "  ).to(device)\n",
        "  criterion = nn.CrossEntropyLoss()\n",
        "  optimizer = optim.Adam(model.parameters(),weight_decay = 0.001)\n",
        "\n",
        "\n",
        "\n",
        "  for epoch in tqdm(range(n_epochs)):\n",
        "    # Training\n",
        "    train_acc, train_loss = train_loop(epoch, model, train_loader, criterion, optimizer)\n",
        "    train_accs.append(train_acc)\n",
        "    train_losses.append(train_loss)\n",
        "\n",
        "    # Validation\n",
        "    val_acc, val_loss = valid_loop(epoch, model, val_loader, criterion)\n",
        "    val_accs.append(val_acc)\n",
        "    val_losses.append(val_loss)\n",
        "\n",
        "  fin = time.time() - deb\n",
        "\n",
        "  with open(f\"val_acc_{activation_str}_\"+f\"{initialization}.pkl\",\"wb\") as f:\n",
        "    pickle.dump(val_accs,f)\n",
        "\n",
        "  with open(f\"val_losses_{activation_str}_\"+f\"{initialization}.pkl\",\"wb\") as f:\n",
        "    pickle.dump(val_losses,f)\n",
        "\n"
      ]
    },
    {
      "cell_type": "code",
      "source": [
        "val_accs[-1]"
      ],
      "metadata": {
        "colab": {
          "base_uri": "https://localhost:8080/"
        },
        "id": "Q7nWd9Xab-CQ",
        "outputId": "4710c6b8-1c59-4bec-da58-61cb4cc2ed09"
      },
      "execution_count": null,
      "outputs": [
        {
          "output_type": "execute_result",
          "data": {
            "text/plain": [
              "0.7030261075949367"
            ]
          },
          "metadata": {},
          "execution_count": 11
        }
      ]
    },
    {
      "cell_type": "code",
      "source": [
        "  for epoch in tqdm(range(5)):\n",
        "    # Training\n",
        "    train_acc, train_loss = train_loop(epoch, model, train_loader, criterion, optimizer)\n",
        "    train_accs.append(train_acc)\n",
        "    train_losses.append(train_loss)\n",
        "\n",
        "    # Validation\n",
        "    val_acc, val_loss = valid_loop(epoch, model, val_loader, criterion)\n",
        "    val_accs.append(val_acc)\n",
        "    val_losses.append(val_loss)"
      ],
      "metadata": {
        "id": "WwBdpWpluutC"
      },
      "execution_count": null,
      "outputs": []
    },
    {
      "cell_type": "code",
      "source": [
        "val_accs"
      ],
      "metadata": {
        "id": "epEazBQNLgQQ"
      },
      "execution_count": null,
      "outputs": []
    },
    {
      "cell_type": "code",
      "execution_count": null,
      "metadata": {
        "id": "RdJCniib0Hnl"
      },
      "outputs": [],
      "source": [
        "# with open(\"train_accs.pkl\",\"rb\") as f:\n",
        "#   train_accs = pickle.load(f)\n",
        "# with open(\"train_losses.pkl\",\"rb\") as f:\n",
        "#   train_losses = pickle.load(f)\n",
        "# with open(\"val_accs.pkl\",\"rb\") as f:\n",
        "#   val_accs = pickle.load(f)\n",
        "# with open(\"val_losses.pkl\",\"rb\") as f:\n",
        "#   val_losses =pickle.load(f)"
      ]
    },
    {
      "cell_type": "code",
      "source": [
        "# with open(\"val_losses_relu_xavier_uniform.pkl\",\"rb\") as f:\n",
        "#   val_accs_relu_xavier_uniform = pickle.load(f)\n",
        "# with open(\"val_losses_relu_kaiming_normal.pkl\",\"rb\") as f:\n",
        "#   val_accs_relu_kaiming_normal = pickle.load(f)\n",
        "# with open(\"val_losses_tanh_xavier_uniform.pkl\",\"rb\") as f:\n",
        "#   val_accs_tanh_xavier_uniform = pickle.load(f)\n",
        "# with open(\"val_losses_tanh_xavier_normal.pkl\",\"rb\") as f:\n",
        "#   val_accs_tanh_xavier_normal = pickle.load(f)\n",
        "# with open(\"val_losses_tanh_kaiming_normal.pkl\",\"rb\") as f:\n",
        "#   val_accs_tanh_kaiming_normal = pickle.load(f)\n",
        "\n"
      ],
      "metadata": {
        "id": "sAc3X-4RgQog"
      },
      "execution_count": null,
      "outputs": []
    },
    {
      "cell_type": "code",
      "execution_count": null,
      "metadata": {
        "id": "Kbaqas5BU-0n",
        "colab": {
          "base_uri": "https://localhost:8080/",
          "height": 265
        },
        "outputId": "c1c574bc-7361-4323-f379-2337356986d6"
      },
      "outputs": [
        {
          "output_type": "display_data",
          "data": {
            "text/plain": [
              "<Figure size 432x288 with 1 Axes>"
            ],
            "image/png": "[encoded data removed]"
          },
          "metadata": {
            "needs_background": "light"
          }
        }
      ],
      "source": [
        "import matplotlib.pyplot as plt\n",
        "\n",
        "# %matplotlib inline\n",
        "\n",
        "# plt.plot(val_accs[7:26])\n",
        "# plt.plot(val_accs_relu_xavier_uniform[7:])\n",
        "# plt.plot(val_accs_relu_kaiming_normal[7:])\n",
        "# plt.plot(val_accs_tanh_xavier_uniform[7:])\n",
        "# plt.plot(val_accs_tanh_xavier_normal[7:])\n",
        "# plt.plot(val_accs_tanh_kaiming_normal[7:])\n",
        "\n",
        "# plt.legend([\"ReLU + Xavier_normal\", \"ReLU + Xavier_unifrom\",\"ReLU + Kaiming_normal\",\"Tanh + Xavier_normal\", \"Tanh + Xavier_unifrom\",\"Tanh + Kaiming_normal\"])\n",
        "# plt.show()\n",
        "\n",
        "# plt.plot(train_losses[7:])\n",
        "# plt.plot(val_losses[7:])\n",
        "# plt.legend([\"Losse-train\", \"Loss-validation\"])\n",
        "# plt.show()"
      ]
    },
    {
      "cell_type": "code",
      "execution_count": null,
      "metadata": {
        "id": "UEXqkWeQLJRb",
        "colab": {
          "base_uri": "https://localhost:8080/"
        },
        "outputId": "7ce9a2d4-cb8b-4ac8-f95f-4651d5a129fe"
      },
      "outputs": [
        {
          "output_type": "execute_result",
          "data": {
            "text/plain": [
              "40"
            ]
          },
          "metadata": {},
          "execution_count": 24
        }
      ],
      "source": [
        "# import pickle\n",
        "\n",
        "# with open(\"val_accs.pkl\",\"rb\") as f:\n",
        "#   x = pickle.load(f)\n",
        "# len(x)"
      ]
    },
    {
      "cell_type": "markdown",
      "metadata": {
        "id": "AAtU_NnOmzl5"
      },
      "source": [
        "### Questions 3.4, 3.5, 3.6, 3.7, 3.8\n",
        "You may write your own code for these questions below. These will not be autograded and you need not submit code for these, only the report."
      ]
    },
    {
      "cell_type": "code",
      "execution_count": null,
      "metadata": {
        "id": "gLxZQ2wpUZVK",
        "colab": {
          "base_uri": "https://localhost:8080/",
          "height": 265
        },
        "outputId": "b3e03c99-2101-4e99-ecb0-b0e0db2b9fa9"
      },
      "outputs": [
        {
          "output_type": "display_data",
          "data": {
            "text/plain": [
              "<Figure size 432x288 with 1 Axes>"
            ],
            "image/png": "[encoded data removed]"
          },
          "metadata": {
            "needs_background": "light"
          }
        }
      ],
      "source": [
        "# MLP Performance plot\n",
        "\n",
        "import matplotlib.pyplot as plt\n",
        "\n",
        "# %matplotlib inline\n",
        "\n",
        "plt.plot(val_losses[7:])\n",
        "plt.plot(train_losses[7:])\n",
        "plt.legend([\"val\", \"train\"])\n",
        "plt.show()"
      ]
    },
    {
      "cell_type": "code",
      "source": [
        "# first_filter = (model.get_first_conv_layer_filters())\n",
        "# last_filter = (model.get_last_conv_layer_filters())"
      ],
      "metadata": {
        "id": "4QRx7VElux8h"
      },
      "execution_count": null,
      "outputs": []
    },
    {
      "cell_type": "code",
      "source": [
        "# first_filter.shape"
      ],
      "metadata": {
        "colab": {
          "base_uri": "https://localhost:8080/"
        },
        "id": "jtvA8NxIww_A",
        "outputId": "281985a0-cd29-45e7-9dd1-8d4ae9f9a3f0"
      },
      "execution_count": null,
      "outputs": [
        {
          "output_type": "execute_result",
          "data": {
            "text/plain": [
              "(64, 3, 3, 3)"
            ]
          },
          "metadata": {},
          "execution_count": 71
        }
      ]
    },
    {
      "cell_type": "code",
      "source": [
        "# li  = [5,1]\n",
        "# lj = [0,1]\n",
        "# first_filters = []\n",
        "# last_filters = []\n",
        "# for i in li:\n",
        "#   for j in lj:\n",
        "#     first_filters.append(first_filter[i][j])\n",
        "#     last_filters.append(last_filter[i][j])"
      ],
      "metadata": {
        "id": "98MElS4GqJ9U"
      },
      "execution_count": null,
      "outputs": []
    },
    {
      "cell_type": "code",
      "source": [
        "# from matplotlib import pyplot as plt\n",
        "\n",
        "# plt.figure(figsize=(len(first_filters)*8,10))\n",
        "# f, axarr = plt.subplots(len(first_filters),1)\n",
        "# for i,fltr in enumerate(first_filters):\n",
        "#   axarr[i].imshow(fltr,cmap = 'gray')\n",
        "\n",
        "# plt.show()"
      ],
      "metadata": {
        "colab": {
          "base_uri": "https://localhost:8080/",
          "height": 282
        },
        "id": "pl_N59qLr3Q3",
        "outputId": "621e6add-b2d5-4ec4-9d70-ab304661c7ce"
      },
      "execution_count": null,
      "outputs": [
        {
          "output_type": "display_data",
          "data": {
            "text/plain": [
              "<Figure size 2304x720 with 0 Axes>"
            ]
          },
          "metadata": {}
        },
        {
          "output_type": "display_data",
          "data": {
            "text/plain": [
              "<Figure size 432x288 with 4 Axes>"
            ],
            "image/png": "[encoded data removed]"
          },
          "metadata": {
            "needs_background": "light"
          }
        }
      ]
    },
    {
      "cell_type": "code",
      "source": [
        "# plt.figure()\n",
        "# f, axarr = plt.subplots(len(last_filters),1)\n",
        "# for i,fltr in enumerate(last_filters):\n",
        "#   axarr[i].imshow(fltr,cmap = 'gray')\n",
        "\n",
        "# plt.show()"
      ],
      "metadata": {
        "colab": {
          "base_uri": "https://localhost:8080/",
          "height": 282
        },
        "id": "sqreoGCAwbyR",
        "outputId": "6fbbded1-e89c-4e56-b81d-e1781331289d"
      },
      "execution_count": null,
      "outputs": [
        {
          "output_type": "display_data",
          "data": {
            "text/plain": [
              "<Figure size 432x288 with 0 Axes>"
            ]
          },
          "metadata": {}
        },
        {
          "output_type": "display_data",
          "data": {
            "text/plain": [
              "<Figure size 432x288 with 4 Axes>"
            ],
            "image/png": "[encoded data removed]"
          },
          "metadata": {
            "needs_background": "light"
          }
        }
      ]
    },
    {
      "cell_type": "code",
      "source": [
        "# plt.imshow(last_filter[0][1], cmap = 'gray')\n",
        "# plt.imshow(last_filter[0][1], cmap = 'gray')\n",
        "# plt.imshow(last_filter[0][1], cmap = 'gray')\n",
        "# plt.imshow(last_filter[0][1], cmap = 'gray')"
      ],
      "metadata": {
        "id": "v5fihHIPt9Vm"
      },
      "execution_count": null,
      "outputs": []
    },
    {
      "cell_type": "code",
      "execution_count": null,
      "metadata": {
        "id": "MYbzxFm3mzTe",
        "colab": {
          "base_uri": "https://localhost:8080/",
          "height": 266
        },
        "outputId": "892acff2-bf4b-4250-f7c0-fffc8d2233b2"
      },
      "outputs": [
        {
          "output_type": "display_data",
          "data": {
            "text/plain": [
              "<Figure size 432x288 with 1 Axes>"
            ],
            "image/png": "[encoded data removed]"
          },
          "metadata": {
            "needs_background": "light"
          }
        }
      ],
      "source": [
        "# # For Q 3.6\n",
        "\n",
        "# import matplotlib.pyplot as plt\n",
        "# vis_image = None\n",
        "# a = []\n",
        "# for data, labels in val_loader:\n",
        "#   a.append(data)\n",
        "#   vis_image = data[12].unsqueeze(0)\n",
        "#   plt.imshow(vis_image.squeeze().permute(1, 2, 0).cpu().detach().numpy())"
      ]
    },
    {
      "cell_type": "code",
      "source": [
        "# #first layer pics\n",
        "\n",
        "# new_pic = model.conv1(vis_image.to(device))\n",
        "# vis_image.squeeze()[0].shape\n",
        "# plt.imshow(new_pic.squeeze()[30].cpu().detach().numpy())"
      ],
      "metadata": {
        "colab": {
          "base_uri": "https://localhost:8080/",
          "height": 283
        },
        "id": "u7sDOUnayulY",
        "outputId": "b25921ab-b4f6-4237-effd-7d6848a1b21b"
      },
      "execution_count": null,
      "outputs": [
        {
          "output_type": "execute_result",
          "data": {
            "text/plain": [
              "<matplotlib.image.AxesImage at 0x7feab9ca9610>"
            ]
          },
          "metadata": {},
          "execution_count": 273
        },
        {
          "output_type": "display_data",
          "data": {
            "text/plain": [
              "<Figure size 432x288 with 1 Axes>"
            ],
            "image/png": "[encoded data removed]"
          },
          "metadata": {
            "needs_background": "light"
          }
        }
      ]
    },
    {
      "cell_type": "code",
      "source": [
        "# #last layer pics\n",
        "# print(vis_image.shape,'___')\n",
        "# a = model.conv1(vis_image.to(device))\n",
        "# print(a.shape)\n",
        "# a = model.bn1(a)\n",
        "# print(\"bn1\",a.shape)\n",
        "# a = model.activation(a)\n",
        "# print(\"activ\",a.shape)\n",
        "# a = model.layer1(a)\n",
        "# print(\"1\",a.shape)\n",
        "# a = model.layer2(a)\n",
        "# print(\"2\",a.shape)\n",
        "# a = model.layer3(a)\n",
        "# print(\"3\",a.shape)\n",
        "# a = model.layer4(a)\n",
        "# print(\"4\", a.shape)\n",
        "\n",
        "# plt.imshow(a.squeeze()[510].cpu().detach().numpy())\n",
        "# a.shape\n"
      ],
      "metadata": {
        "colab": {
          "base_uri": "https://localhost:8080/",
          "height": 425
        },
        "id": "a7If8BWeWlDO",
        "outputId": "3e02f08f-a2b5-48cf-b861-f16bee02a96a"
      },
      "execution_count": null,
      "outputs": [
        {
          "output_type": "stream",
          "name": "stdout",
          "text": [
            "torch.Size([1, 3, 32, 32]) ___\n",
            "torch.Size([1, 64, 32, 32])\n",
            "bn1 torch.Size([1, 64, 32, 32])\n",
            "activ torch.Size([1, 64, 32, 32])\n",
            "1 torch.Size([1, 64, 32, 32])\n",
            "2 torch.Size([1, 128, 16, 16])\n",
            "3 torch.Size([1, 256, 8, 8])\n",
            "4 torch.Size([1, 512, 4, 4])\n"
          ]
        },
        {
          "output_type": "execute_result",
          "data": {
            "text/plain": [
              "torch.Size([1, 512, 4, 4])"
            ]
          },
          "metadata": {},
          "execution_count": 339
        },
        {
          "output_type": "display_data",
          "data": {
            "text/plain": [
              "<Figure size 432x288 with 1 Axes>"
            ],
            "image/png": "[encoded data removed]"
          },
          "metadata": {
            "needs_background": "light"
          }
        }
      ]
    },
    {
      "cell_type": "code",
      "source": [
        "# vis_image = convolve2D(a[-1][12][0], first_filters[0], padding = 0, strides = 1)\n",
        "# a[-1][12][0].shape\n",
        "# vis_image.shape\n",
        "# plt.imshow(vis_image.cpu().detach().numpy())\n"
      ],
      "metadata": {
        "colab": {
          "base_uri": "https://localhost:8080/",
          "height": 283
        },
        "id": "uxnFYW9AQ5H3",
        "outputId": "158250b0-63a4-4157-f69f-426bfae9b95a"
      },
      "execution_count": null,
      "outputs": [
        {
          "output_type": "execute_result",
          "data": {
            "text/plain": [
              "<matplotlib.image.AxesImage at 0x7febba114210>"
            ]
          },
          "metadata": {},
          "execution_count": 220
        },
        {
          "output_type": "display_data",
          "data": {
            "text/plain": [
              "<Figure size 432x288 with 1 Axes>"
            ],
            "image/png": "[encoded data removed]"
          },
          "metadata": {
            "needs_background": "light"
          }
        }
      ]
    },
    {
      "cell_type": "code",
      "source": [
        "# a[-1][12][0]"
      ],
      "metadata": {
        "id": "baByzGxISJyQ"
      },
      "execution_count": null,
      "outputs": []
    },
    {
      "cell_type": "code",
      "source": [
        "# filtered = convolve2D(a[-1][12], first_filters[0])\n",
        "# plt.figure(figsize=(len(first_filters)*8,10))\n",
        "# f, axarr = plt.subplots(len(first_filters),1)\n",
        "# for i,fltr in enumerate(first_filters):\n",
        "#   filtered_r = (convolve2D(a[-1][12][0], fltr))\n",
        "\n",
        "#   axarr[i].imshow(filtered_r,cmap=\"gray\")\n",
        "\n",
        "# plt.show()\n"
      ],
      "metadata": {
        "colab": {
          "base_uri": "https://localhost:8080/",
          "height": 373
        },
        "id": "ync4DjWsBiJl",
        "outputId": "2a8fc148-9fa6-461d-8fe4-b25a5e2576a8"
      },
      "execution_count": null,
      "outputs": [
        {
          "output_type": "stream",
          "name": "stdout",
          "text": [
            "3 3\n",
            "3 32\n",
            "3 32\n",
            "3 32\n",
            "3 32\n"
          ]
        },
        {
          "output_type": "display_data",
          "data": {
            "text/plain": [
              "<Figure size 2304x720 with 0 Axes>"
            ]
          },
          "metadata": {}
        },
        {
          "output_type": "display_data",
          "data": {
            "text/plain": [
              "<Figure size 432x288 with 4 Axes>"
            ],
            "image/png": "[encoded data removed]"
          },
          "metadata": {
            "needs_background": "light"
          }
        }
      ]
    },
    {
      "cell_type": "code",
      "source": [
        "# convolve2D(a[-1][12][0], fltr)"
      ],
      "metadata": {
        "id": "uplGQVZ2JUzi"
      },
      "execution_count": null,
      "outputs": []
    },
    {
      "cell_type": "code",
      "source": [
        "# filtcv2 = cv2.filter2D(a[-1][12].cpu().numpy(),-1,first_filters[3])*255\n",
        "# plt.imshow(torch.Tensor(filtcv2).permute(1,2,0).cpu().detach().numpy())"
      ],
      "metadata": {
        "colab": {
          "base_uri": "https://localhost:8080/",
          "height": 301
        },
        "id": "LNGQAlfhJWLk",
        "outputId": "b37c1bb5-7e58-48a0-d03e-2b34ad0ae9a4"
      },
      "execution_count": null,
      "outputs": [
        {
          "output_type": "stream",
          "name": "stderr",
          "text": [
            "WARNING:matplotlib.image:Clipping input data to the valid range for imshow with RGB data ([0..1] for floats or [0..255] for integers).\n"
          ]
        },
        {
          "output_type": "execute_result",
          "data": {
            "text/plain": [
              "<matplotlib.image.AxesImage at 0x7fead388ed90>"
            ]
          },
          "metadata": {},
          "execution_count": 195
        },
        {
          "output_type": "display_data",
          "data": {
            "text/plain": [
              "<Figure size 432x288 with 1 Axes>"
            ],
            "image/png": "[encoded data removed]"
          },
          "metadata": {
            "needs_background": "light"
          }
        }
      ]
    },
    {
      "cell_type": "code",
      "source": [
        "lr0 = 0.01\n",
        "model_mlp = nn.Sequential(\n",
        "        nn.Linear(3*32*32,1024),\n",
        "        nn.ReLU(),\n",
        "        nn.Linear(1024,1024),\n",
        "        nn.ReLU(),\n",
        "        nn.Linear(1024,256),\n",
        "        nn.ReLU(),\n",
        "        nn.Linear(256,256),\n",
        "        nn.ReLU(),\n",
        "        nn.Linear(256,32),\n",
        "        nn.ReLU(),\n",
        "        nn.Linear(32,32),\n",
        "        # nn.BatchNorm1d(128),\n",
        "        nn.ReLU(),\n",
        "        nn.Linear(32,16),\n",
        "        # nn.BatchNorm1d(64),\n",
        "        nn.Linear(16,10)\n",
        ").to(\"cuda\")\n",
        "\n",
        "criterion = nn.CrossEntropyLoss()\n",
        "optimizer = optim.Adam(model_mlp.parameters(), lr=0.1)"
      ],
      "metadata": {
        "id": "Gp1FxEofx3xy",
        "colab": {
          "base_uri": "https://localhost:8080/",
          "height": 200
        },
        "outputId": "a1a39136-26fe-43f5-8456-223ed2ff1129"
      },
      "execution_count": null,
      "outputs": [
        {
          "output_type": "error",
          "ename": "NameError",
          "evalue": "ignored",
          "traceback": [
            "\u001b[0;31m---------------------------------------------------------------------------\u001b[0m",
            "\u001b[0;31mNameError\u001b[0m                                 Traceback (most recent call last)",
            "\u001b[0;32m<ipython-input-3-63b07144c8ec>\u001b[0m in \u001b[0;36m<module>\u001b[0;34m\u001b[0m\n\u001b[1;32m     20\u001b[0m \u001b[0;34m\u001b[0m\u001b[0m\n\u001b[1;32m     21\u001b[0m \u001b[0mcriterion\u001b[0m \u001b[0;34m=\u001b[0m \u001b[0mnn\u001b[0m\u001b[0;34m.\u001b[0m\u001b[0mCrossEntropyLoss\u001b[0m\u001b[0;34m(\u001b[0m\u001b[0;34m)\u001b[0m\u001b[0;34m\u001b[0m\u001b[0;34m\u001b[0m\u001b[0m\n\u001b[0;32m---> 22\u001b[0;31m \u001b[0moptimizer\u001b[0m \u001b[0;34m=\u001b[0m \u001b[0moptim\u001b[0m\u001b[0;34m.\u001b[0m\u001b[0mAdam\u001b[0m\u001b[0;34m(\u001b[0m\u001b[0mmodel_mlp\u001b[0m\u001b[0;34m.\u001b[0m\u001b[0mparameters\u001b[0m\u001b[0;34m(\u001b[0m\u001b[0;34m)\u001b[0m\u001b[0;34m,\u001b[0m \u001b[0mlr\u001b[0m\u001b[0;34m=\u001b[0m\u001b[0;36m0.1\u001b[0m\u001b[0;34m)\u001b[0m\u001b[0;34m\u001b[0m\u001b[0;34m\u001b[0m\u001b[0m\n\u001b[0m",
            "\u001b[0;31mNameError\u001b[0m: name 'optim' is not defined"
          ]
        }
      ]
    },
    {
      "cell_type": "code",
      "source": [
        "# loss.grad"
      ],
      "metadata": {
        "colab": {
          "base_uri": "https://localhost:8080/"
        },
        "id": "QAnFI0N7Gibk",
        "outputId": "749b709a-fa54-404f-a474-811c077db86f"
      },
      "execution_count": null,
      "outputs": [
        {
          "output_type": "stream",
          "name": "stderr",
          "text": [
            "/usr/local/lib/python3.7/dist-packages/torch/_tensor.py:1083: UserWarning: The .grad attribute of a Tensor that is not a leaf Tensor is being accessed. Its .grad attribute won't be populated during autograd.backward(). If you indeed want the .grad field to be populated for a non-leaf Tensor, use .retain_grad() on the non-leaf Tensor. If you access the non-leaf Tensor by mistake, make sure you access the leaf Tensor instead. See github.com/pytorch/pytorch/pull/30531 for more informations. (Triggered internally at  aten/src/ATen/core/TensorBody.h:477.)\n",
            "  return self._grad\n"
          ]
        }
      ]
    },
    {
      "cell_type": "code",
      "source": [
        "def adjust_lr(optimizer, epoch, total_epochs):\n",
        "    lr = lr0 * (0.1 ** (epoch / float(total_epochs)))\n",
        "    for param_group in optimizer.param_groups:\n",
        "        param_group['lr'] = lr"
      ],
      "metadata": {
        "id": "AW5BPBH66wrX"
      },
      "execution_count": null,
      "outputs": []
    },
    {
      "cell_type": "code",
      "source": [
        "def accuracy(proba, y):\n",
        "    correct = (proba.argmax(1) == y).sum().type(torch.FloatTensor)\n",
        "    return correct / y.size(0)\n",
        "\n",
        "def evaluate(dataset_loader, criterion):\n",
        "    LOSSES = 0\n",
        "    COUNTER = 0\n",
        "\n",
        "    for batch in dataset_loader:\n",
        "        optimizer.zero_grad()\n",
        "        x, y = batch\n",
        "        x = x.view(-1,3*32*32)\n",
        "        y = y.view(-1)\n",
        "\n",
        "        x = x.to(device)\n",
        "        y = y.to(device)\n",
        "\n",
        "        loss = criterion(mlp(x), y)\n",
        "        n = y.size(0)\n",
        "        LOSSES += loss.sum().data.cpu().numpy() * n\n",
        "        COUNTER += n\n",
        "    return LOSSES / float(COUNTER)"
      ],
      "metadata": {
        "id": "o6W00G0T2DXt"
      },
      "execution_count": null,
      "outputs": []
    },
    {
      "cell_type": "code",
      "source": [
        "train_loader, val_loader = get_cifar10()"
      ],
      "metadata": {
        "colab": {
          "base_uri": "https://localhost:8080/",
          "height": 101,
          "referenced_widgets": [
            "2cedd969e96d442db43f093c7a4d1d4d",
            "6c6f27aeb5264d198f29c62e1136097b",
            "9cb6a37711054415a959520ef1b811e2",
            "077afac705824ea399a4039770250a64",
            "3494ccd856e2474caccd0f427a41e237",
            "6d53b8710ae840aea93176b6381bbb6c",
            "997bdd4973f844718d3ffe0b221314e3",
            "cb30ce1cd5ad4a90ad01051f5bacc73f",
            "44d73a0cd1a143758ed2e1c83f4c5d16",
            "ab92e73bb2e449539df9b9827781be88",
            "c3f51a1460a043c395578605398f9ba1"
          ]
        },
        "id": "0PlPeb4E8710",
        "outputId": "00006bd9-27a9-46df-8894-3bdc2500a06c"
      },
      "execution_count": null,
      "outputs": [
        {
          "output_type": "stream",
          "name": "stdout",
          "text": [
            "Downloading https://www.cs.toronto.edu/~kriz/cifar-10-python.tar.gz to ./data/cifar-10-python.tar.gz\n"
          ]
        },
        {
          "output_type": "display_data",
          "data": {
            "text/plain": [
              "  0%|          | 0/170498071 [00:00<?, ?it/s]"
            ],
            "application/vnd.jupyter.widget-view+json": {
              "version_major": 2,
              "version_minor": 0,
              "model_id": "2cedd969e96d442db43f093c7a4d1d4d"
            }
          },
          "metadata": {}
        },
        {
          "output_type": "stream",
          "name": "stdout",
          "text": [
            "Extracting ./data/cifar-10-python.tar.gz to ./data\n",
            "Files already downloaded and verified\n"
          ]
        }
      ]
    },
    {
      "cell_type": "code",
      "source": [
        "train_loader, test_loader = get_cifar10()"
      ],
      "metadata": {
        "colab": {
          "base_uri": "https://localhost:8080/"
        },
        "id": "2-r0syfKBUL3",
        "outputId": "6c49ac0d-bcfe-4d24-9ce6-9faea6605fd1"
      },
      "execution_count": null,
      "outputs": [
        {
          "output_type": "stream",
          "name": "stdout",
          "text": [
            "Files already downloaded and verified\n",
            "Files already downloaded and verified\n"
          ]
        }
      ]
    },
    {
      "cell_type": "code",
      "source": [
        "import os\n",
        "import torch\n",
        "from torch import nn\n",
        "from torchvision.datasets import CIFAR10\n",
        "from torch.utils.data import DataLoader\n",
        "from torchvision import transforms\n",
        "\n",
        "criterion = nn.CrossEntropyLoss()\n",
        "\n",
        "class MLP(nn.Module):\n",
        "  '''\n",
        "    Multilayer Perceptron.\n",
        "  '''\n",
        "  def __init__(self):\n",
        "    super().__init__()\n",
        "    self.layers = nn.Sequential(\n",
        "        nn.Flatten(),\n",
        "        nn.Linear(3*32*32,1024),\n",
        "        nn.ReLU(),\n",
        "        nn.Linear(1024,1024),\n",
        "        nn.ReLU(),\n",
        "        nn.Linear(1024,1024),\n",
        "        nn.ReLU(),\n",
        "        nn.Linear(1024,1024),\n",
        "        nn.ReLU(),\n",
        "        nn.Linear(1024,1024),\n",
        "        nn.ReLU(),\n",
        "        nn.Linear(1024,1024),\n",
        "        nn.ReLU(),\n",
        "        nn.Linear(1024,1024),\n",
        "        nn.ReLU(),\n",
        "        nn.Linear(1024,1024),\n",
        "        nn.ReLU(),\n",
        "        nn.Linear(1024,1024),\n",
        "        nn.ReLU(),\n",
        "        nn.Linear(1024,256),\n",
        "        nn.ReLU(),\n",
        "\n",
        "        nn.Linear(256,256),\n",
        "        nn.ReLU(),\n",
        "        nn.Linear(256,32),\n",
        "        nn.ReLU(),\n",
        "        nn.Linear(32,32),\n",
        "        # nn.BatchNorm1d(128),\n",
        "        nn.ReLU(),\n",
        "        nn.Linear(32,16),\n",
        "        # nn.BatchNorm1d(64),\n",
        "        nn.Linear(16,10)\n",
        ").to(\"cuda\")\n",
        "\n",
        "\n",
        "\n",
        "  def forward(self, x):\n",
        "    '''Forward pass'''\n",
        "    return self.layers(x)\n",
        "\n",
        "a = time.time()\n",
        "if __name__ == '__main__':\n",
        "  learning_curve_nll_train = []\n",
        "  learning_curve_nll_test = []\n",
        "  learning_curve_acc_train = []\n",
        "  learning_curve_acc_test = []\n",
        "\n",
        "  # Set fixed random number seed\n",
        "  torch.manual_seed(42)\n",
        "\n",
        "  # Prepare CIFAR-10 dataset\n",
        "  trainloader = train_loader\n",
        "\n",
        "  # Initialize the MLP\n",
        "  mlp = MLP()\n",
        "\n",
        "  # Define the loss function and optimizer\n",
        "  loss_function = nn.CrossEntropyLoss()\n",
        "  optimizer = torch.optim.Adam(mlp.parameters(), lr=1e-4)\n",
        "\n",
        "  # Run the training loop\n",
        "  for epoch in range(0, 25): # 5 epochs at maximum\n",
        "\n",
        "    # Print epoch\n",
        "    print(f'Starting epoch {epoch+1}')\n",
        "\n",
        "    # Set current loss value\n",
        "    current_loss = 0.0\n",
        "\n",
        "    # Iterate over the DataLoader for training data\n",
        "    for i, data in enumerate(trainloader, 0):\n",
        "\n",
        "      # Get inputs\n",
        "      inputs, targets = data\n",
        "      inputs = inputs.to(device)\n",
        "      targets = targets.to(device)\n",
        "      # Zero the gradients\n",
        "      optimizer.zero_grad()\n",
        "\n",
        "      # Perform forward pass\n",
        "      outputs = mlp(inputs)\n",
        "\n",
        "      # Compute loss\n",
        "      loss = loss_function(outputs, targets)\n",
        "\n",
        "      # Perform backward pass\n",
        "      loss.backward()\n",
        "\n",
        "      # Perform optimization\n",
        "      optimizer.step()\n",
        "\n",
        "      # Print statistics\n",
        "      current_loss += loss.item()\n",
        "    train_loss = evaluate(train_loader, criterion)\n",
        "    learning_curve_nll_train.append(train_loss)\n",
        "    test_loss = evaluate(test_loader, criterion)\n",
        "    learning_curve_nll_test.append(test_loss)\n",
        "\n",
        "    train_acc = evaluate(train_loader, accuracy)\n",
        "    learning_curve_acc_train.append(train_acc)\n",
        "    test_acc = evaluate(test_loader, accuracy)\n",
        "    learning_curve_acc_test.append(test_acc)\n",
        "    print(\"loss\", loss)\n",
        "    print(\"accuracy\" ,accuracy(outputs,targets))\n",
        "\n",
        "  # Process is complete.\n",
        "  print('Training process has finished.')\n",
        "  d = time.time() -a\n",
        "\n"
      ],
      "metadata": {
        "colab": {
          "base_uri": "https://localhost:8080/"
        },
        "id": "1i8T7zxOBqQ1",
        "outputId": "acde703e-3db4-49a5-8524-9ccbc1ced510"
      },
      "execution_count": null,
      "outputs": [
        {
          "output_type": "stream",
          "name": "stdout",
          "text": [
            "Starting epoch 1\n",
            "loss tensor(2.0361, device='cuda:0', grad_fn=<NllLossBackward0>)\n",
            "accuracy tensor(0.1875)\n",
            "Starting epoch 2\n",
            "loss tensor(2.0419, device='cuda:0', grad_fn=<NllLossBackward0>)\n",
            "accuracy tensor(0.1000)\n",
            "Starting epoch 3\n",
            "loss tensor(1.9533, device='cuda:0', grad_fn=<NllLossBackward0>)\n",
            "accuracy tensor(0.1500)\n",
            "Starting epoch 4\n",
            "loss tensor(1.9218, device='cuda:0', grad_fn=<NllLossBackward0>)\n",
            "accuracy tensor(0.1750)\n",
            "Starting epoch 5\n",
            "loss tensor(1.9429, device='cuda:0', grad_fn=<NllLossBackward0>)\n",
            "accuracy tensor(0.1875)\n",
            "Starting epoch 6\n",
            "loss tensor(1.8720, device='cuda:0', grad_fn=<NllLossBackward0>)\n",
            "accuracy tensor(0.1000)\n",
            "Starting epoch 7\n",
            "loss tensor(1.8470, device='cuda:0', grad_fn=<NllLossBackward0>)\n",
            "accuracy tensor(0.2500)\n",
            "Starting epoch 8\n",
            "loss tensor(1.7891, device='cuda:0', grad_fn=<NllLossBackward0>)\n",
            "accuracy tensor(0.3125)\n",
            "Starting epoch 9\n",
            "loss tensor(1.6871, device='cuda:0', grad_fn=<NllLossBackward0>)\n",
            "accuracy tensor(0.2375)\n",
            "Starting epoch 10\n",
            "loss tensor(1.8210, device='cuda:0', grad_fn=<NllLossBackward0>)\n",
            "accuracy tensor(0.3000)\n",
            "Starting epoch 11\n",
            "loss tensor(1.6863, device='cuda:0', grad_fn=<NllLossBackward0>)\n",
            "accuracy tensor(0.3375)\n",
            "Starting epoch 12\n",
            "loss tensor(1.6704, device='cuda:0', grad_fn=<NllLossBackward0>)\n",
            "accuracy tensor(0.3125)\n",
            "Starting epoch 13\n",
            "loss tensor(1.8608, device='cuda:0', grad_fn=<NllLossBackward0>)\n",
            "accuracy tensor(0.3125)\n",
            "Starting epoch 14\n",
            "loss tensor(1.5882, device='cuda:0', grad_fn=<NllLossBackward0>)\n",
            "accuracy tensor(0.3500)\n",
            "Starting epoch 15\n",
            "loss tensor(1.5787, device='cuda:0', grad_fn=<NllLossBackward0>)\n",
            "accuracy tensor(0.4000)\n",
            "Starting epoch 16\n",
            "loss tensor(1.4744, device='cuda:0', grad_fn=<NllLossBackward0>)\n",
            "accuracy tensor(0.5250)\n",
            "Starting epoch 17\n",
            "loss tensor(1.5541, device='cuda:0', grad_fn=<NllLossBackward0>)\n",
            "accuracy tensor(0.5125)\n",
            "Starting epoch 18\n",
            "loss tensor(1.2407, device='cuda:0', grad_fn=<NllLossBackward0>)\n",
            "accuracy tensor(0.5875)\n",
            "Starting epoch 19\n",
            "loss tensor(1.5002, device='cuda:0', grad_fn=<NllLossBackward0>)\n",
            "accuracy tensor(0.5125)\n",
            "Starting epoch 20\n",
            "loss tensor(1.2207, device='cuda:0', grad_fn=<NllLossBackward0>)\n",
            "accuracy tensor(0.6000)\n",
            "Starting epoch 21\n",
            "loss tensor(1.2977, device='cuda:0', grad_fn=<NllLossBackward0>)\n",
            "accuracy tensor(0.4750)\n",
            "Starting epoch 22\n",
            "loss tensor(1.1733, device='cuda:0', grad_fn=<NllLossBackward0>)\n",
            "accuracy tensor(0.5750)\n",
            "Starting epoch 23\n",
            "loss tensor(1.1611, device='cuda:0', grad_fn=<NllLossBackward0>)\n",
            "accuracy tensor(0.6125)\n",
            "Starting epoch 24\n",
            "loss tensor(1.2570, device='cuda:0', grad_fn=<NllLossBackward0>)\n",
            "accuracy tensor(0.5875)\n",
            "Starting epoch 25\n",
            "loss tensor(1.2704, device='cuda:0', grad_fn=<NllLossBackward0>)\n",
            "accuracy tensor(0.5875)\n",
            "Training process has finished.\n"
          ]
        }
      ]
    },
    {
      "cell_type": "code",
      "source": [
        "d"
      ],
      "metadata": {
        "colab": {
          "base_uri": "https://localhost:8080/"
        },
        "id": "r9IGulCek-65",
        "outputId": "de23e8bf-79da-401c-a281-aecea2af9d0c"
      },
      "execution_count": null,
      "outputs": [
        {
          "output_type": "execute_result",
          "data": {
            "text/plain": [
              "612.1659352779388"
            ]
          },
          "metadata": {},
          "execution_count": 68
        }
      ]
    },
    {
      "cell_type": "code",
      "source": [
        "import matplotlib.pyplot as plt\n",
        "\n",
        "# %matplotlib inline\n",
        "\n",
        "plt.plot(learning_curve_nll_test)\n",
        "\n",
        "plt.legend([\"Validation loss of MLP\"])\n",
        "plt.show()"
      ],
      "metadata": {
        "colab": {
          "base_uri": "https://localhost:8080/",
          "height": 265
        },
        "id": "ziaht7DkueFr",
        "outputId": "60dd781a-013d-4a52-8344-26d3869664e5"
      },
      "execution_count": null,
      "outputs": [
        {
          "output_type": "display_data",
          "data": {
            "text/plain": [
              "<Figure size 432x288 with 1 Axes>"
            ],
            "image/png": "[encoded data removed]"
          },
          "metadata": {
            "needs_background": "light"
          }
        }
      ]
    }
  ],
  "metadata": {
    "accelerator": "GPU",
    "colab": {
      "provenance": [],
      "gpuClass": "premium"
    },
    "gpuClass": "premium",
    "kernelspec": {
      "display_name": "Python 3",
      "name": "python3"
    },
    "language_info": {
      "name": "python"
    },
    "widgets": {
      "application/vnd.jupyter.widget-state+json": {
        "2cedd969e96d442db43f093c7a4d1d4d": {
          "model_module": "@jupyter-widgets/controls",
          "model_name": "HBoxModel",
          "model_module_version": "1.5.0",
          "state": {
            "_dom_classes": [],
            "_model_module": "@jupyter-widgets/controls",
            "_model_module_version": "1.5.0",
            "_model_name": "HBoxModel",
            "_view_count": null,
            "_view_module": "@jupyter-widgets/controls",
            "_view_module_version": "1.5.0",
            "_view_name": "HBoxView",
            "box_style": "",
            "children": [
              "IPY_MODEL_6c6f27aeb5264d198f29c62e1136097b",
              "IPY_MODEL_9cb6a37711054415a959520ef1b811e2",
              "IPY_MODEL_077afac705824ea399a4039770250a64"
            ],
            "layout": "IPY_MODEL_3494ccd856e2474caccd0f427a41e237"
          }
        },
        "6c6f27aeb5264d198f29c62e1136097b": {
          "model_module": "@jupyter-widgets/controls",
          "model_name": "HTMLModel",
          "model_module_version": "1.5.0",
          "state": {
            "_dom_classes": [],
            "_model_module": "@jupyter-widgets/controls",
            "_model_module_version": "1.5.0",
            "_model_name": "HTMLModel",
            "_view_count": null,
            "_view_module": "@jupyter-widgets/controls",
            "_view_module_version": "1.5.0",
            "_view_name": "HTMLView",
            "description": "",
            "description_tooltip": null,
            "layout": "IPY_MODEL_6d53b8710ae840aea93176b6381bbb6c",
            "placeholder": "​",
            "style": "IPY_MODEL_997bdd4973f844718d3ffe0b221314e3",
            "value": "100%"
          }
        },
        "9cb6a37711054415a959520ef1b811e2": {
          "model_module": "@jupyter-widgets/controls",
          "model_name": "FloatProgressModel",
          "model_module_version": "1.5.0",
          "state": {
            "_dom_classes": [],
            "_model_module": "@jupyter-widgets/controls",
            "_model_module_version": "1.5.0",
            "_model_name": "FloatProgressModel",
            "_view_count": null,
            "_view_module": "@jupyter-widgets/controls",
            "_view_module_version": "1.5.0",
            "_view_name": "ProgressView",
            "bar_style": "success",
            "description": "",
            "description_tooltip": null,
            "layout": "IPY_MODEL_cb30ce1cd5ad4a90ad01051f5bacc73f",
            "max": 170498071,
            "min": 0,
            "orientation": "horizontal",
            "style": "IPY_MODEL_44d73a0cd1a143758ed2e1c83f4c5d16",
            "value": 170498071
          }
        },
        "077afac705824ea399a4039770250a64": {
          "model_module": "@jupyter-widgets/controls",
          "model_name": "HTMLModel",
          "model_module_version": "1.5.0",
          "state": {
            "_dom_classes": [],
            "_model_module": "@jupyter-widgets/controls",
            "_model_module_version": "1.5.0",
            "_model_name": "HTMLModel",
            "_view_count": null,
            "_view_module": "@jupyter-widgets/controls",
            "_view_module_version": "1.5.0",
            "_view_name": "HTMLView",
            "description": "",
            "description_tooltip": null,
            "layout": "IPY_MODEL_ab92e73bb2e449539df9b9827781be88",
            "placeholder": "​",
            "style": "IPY_MODEL_c3f51a1460a043c395578605398f9ba1",
            "value": " 170498071/170498071 [00:13&lt;00:00, 14086314.54it/s]"
          }
        },
        "3494ccd856e2474caccd0f427a41e237": {
          "model_module": "@jupyter-widgets/base",
          "model_name": "LayoutModel",
          "model_module_version": "1.2.0",
          "state": {
            "_model_module": "@jupyter-widgets/base",
            "_model_module_version": "1.2.0",
            "_model_name": "LayoutModel",
            "_view_count": null,
            "_view_module": "@jupyter-widgets/base",
            "_view_module_version": "1.2.0",
            "_view_name": "LayoutView",
            "align_content": null,
            "align_items": null,
            "align_self": null,
            "border": null,
            "bottom": null,
            "display": null,
            "flex": null,
            "flex_flow": null,
            "grid_area": null,
            "grid_auto_columns": null,
            "grid_auto_flow": null,
            "grid_auto_rows": null,
            "grid_column": null,
            "grid_gap": null,
            "grid_row": null,
            "grid_template_areas": null,
            "grid_template_columns": null,
            "grid_template_rows": null,
            "height": null,
            "justify_content": null,
            "justify_items": null,
            "left": null,
            "margin": null,
            "max_height": null,
            "max_width": null,
            "min_height": null,
            "min_width": null,
            "object_fit": null,
            "object_position": null,
            "order": null,
            "overflow": null,
            "overflow_x": null,
            "overflow_y": null,
            "padding": null,
            "right": null,
            "top": null,
            "visibility": null,
            "width": null
          }
        },
        "6d53b8710ae840aea93176b6381bbb6c": {
          "model_module": "@jupyter-widgets/base",
          "model_name": "LayoutModel",
          "model_module_version": "1.2.0",
          "state": {
            "_model_module": "@jupyter-widgets/base",
            "_model_module_version": "1.2.0",
            "_model_name": "LayoutModel",
            "_view_count": null,
            "_view_module": "@jupyter-widgets/base",
            "_view_module_version": "1.2.0",
            "_view_name": "LayoutView",
            "align_content": null,
            "align_items": null,
            "align_self": null,
            "border": null,
            "bottom": null,
            "display": null,
            "flex": null,
            "flex_flow": null,
            "grid_area": null,
            "grid_auto_columns": null,
            "grid_auto_flow": null,
            "grid_auto_rows": null,
            "grid_column": null,
            "grid_gap": null,
            "grid_row": null,
            "grid_template_areas": null,
            "grid_template_columns": null,
            "grid_template_rows": null,
            "height": null,
            "justify_content": null,
            "justify_items": null,
            "left": null,
            "margin": null,
            "max_height": null,
            "max_width": null,
            "min_height": null,
            "min_width": null,
            "object_fit": null,
            "object_position": null,
            "order": null,
            "overflow": null,
            "overflow_x": null,
            "overflow_y": null,
            "padding": null,
            "right": null,
            "top": null,
            "visibility": null,
            "width": null
          }
        },
        "997bdd4973f844718d3ffe0b221314e3": {
          "model_module": "@jupyter-widgets/controls",
          "model_name": "DescriptionStyleModel",
          "model_module_version": "1.5.0",
          "state": {
            "_model_module": "@jupyter-widgets/controls",
            "_model_module_version": "1.5.0",
            "_model_name": "DescriptionStyleModel",
            "_view_count": null,
            "_view_module": "@jupyter-widgets/base",
            "_view_module_version": "1.2.0",
            "_view_name": "StyleView",
            "description_width": ""
          }
        },
        "cb30ce1cd5ad4a90ad01051f5bacc73f": {
          "model_module": "@jupyter-widgets/base",
          "model_name": "LayoutModel",
          "model_module_version": "1.2.0",
          "state": {
            "_model_module": "@jupyter-widgets/base",
            "_model_module_version": "1.2.0",
            "_model_name": "LayoutModel",
            "_view_count": null,
            "_view_module": "@jupyter-widgets/base",
            "_view_module_version": "1.2.0",
            "_view_name": "LayoutView",
            "align_content": null,
            "align_items": null,
            "align_self": null,
            "border": null,
            "bottom": null,
            "display": null,
            "flex": null,
            "flex_flow": null,
            "grid_area": null,
            "grid_auto_columns": null,
            "grid_auto_flow": null,
            "grid_auto_rows": null,
            "grid_column": null,
            "grid_gap": null,
            "grid_row": null,
            "grid_template_areas": null,
            "grid_template_columns": null,
            "grid_template_rows": null,
            "height": null,
            "justify_content": null,
            "justify_items": null,
            "left": null,
            "margin": null,
            "max_height": null,
            "max_width": null,
            "min_height": null,
            "min_width": null,
            "object_fit": null,
            "object_position": null,
            "order": null,
            "overflow": null,
            "overflow_x": null,
            "overflow_y": null,
            "padding": null,
            "right": null,
            "top": null,
            "visibility": null,
            "width": null
          }
        },
        "44d73a0cd1a143758ed2e1c83f4c5d16": {
          "model_module": "@jupyter-widgets/controls",
          "model_name": "ProgressStyleModel",
          "model_module_version": "1.5.0",
          "state": {
            "_model_module": "@jupyter-widgets/controls",
            "_model_module_version": "1.5.0",
            "_model_name": "ProgressStyleModel",
            "_view_count": null,
            "_view_module": "@jupyter-widgets/base",
            "_view_module_version": "1.2.0",
            "_view_name": "StyleView",
            "bar_color": null,
            "description_width": ""
          }
        },
        "ab92e73bb2e449539df9b9827781be88": {
          "model_module": "@jupyter-widgets/base",
          "model_name": "LayoutModel",
          "model_module_version": "1.2.0",
          "state": {
            "_model_module": "@jupyter-widgets/base",
            "_model_module_version": "1.2.0",
            "_model_name": "LayoutModel",
            "_view_count": null,
            "_view_module": "@jupyter-widgets/base",
            "_view_module_version": "1.2.0",
            "_view_name": "LayoutView",
            "align_content": null,
            "align_items": null,
            "align_self": null,
            "border": null,
            "bottom": null,
            "display": null,
            "flex": null,
            "flex_flow": null,
            "grid_area": null,
            "grid_auto_columns": null,
            "grid_auto_flow": null,
            "grid_auto_rows": null,
            "grid_column": null,
            "grid_gap": null,
            "grid_row": null,
            "grid_template_areas": null,
            "grid_template_columns": null,
            "grid_template_rows": null,
            "height": null,
            "justify_content": null,
            "justify_items": null,
            "left": null,
            "margin": null,
            "max_height": null,
            "max_width": null,
            "min_height": null,
            "min_width": null,
            "object_fit": null,
            "object_position": null,
            "order": null,
            "overflow": null,
            "overflow_x": null,
            "overflow_y": null,
            "padding": null,
            "right": null,
            "top": null,
            "visibility": null,
            "width": null
          }
        },
        "c3f51a1460a043c395578605398f9ba1": {
          "model_module": "@jupyter-widgets/controls",
          "model_name": "DescriptionStyleModel",
          "model_module_version": "1.5.0",
          "state": {
            "_model_module": "@jupyter-widgets/controls",
            "_model_module_version": "1.5.0",
            "_model_name": "DescriptionStyleModel",
            "_view_count": null,
            "_view_module": "@jupyter-widgets/base",
            "_view_module_version": "1.2.0",
            "_view_name": "StyleView",
            "description_width": ""
          }
        },
        "5196488401724097ae7444cd120332f2": {
          "model_module": "@jupyter-widgets/controls",
          "model_name": "HBoxModel",
          "model_module_version": "1.5.0",
          "state": {
            "_dom_classes": [],
            "_model_module": "@jupyter-widgets/controls",
            "_model_module_version": "1.5.0",
            "_model_name": "HBoxModel",
            "_view_count": null,
            "_view_module": "@jupyter-widgets/controls",
            "_view_module_version": "1.5.0",
            "_view_name": "HBoxView",
            "box_style": "",
            "children": [
              "IPY_MODEL_7e5b7d1f02da4ab5892f66fdabd0fbdc",
              "IPY_MODEL_c4f8dcbea12f44208a7e4571c2995611",
              "IPY_MODEL_3d66bed2708e4ee8b4491cbd47f591cf"
            ],
            "layout": "IPY_MODEL_8b14dedd4e5d4004904e5ed2ab3ca057"
          }
        },
        "7e5b7d1f02da4ab5892f66fdabd0fbdc": {
          "model_module": "@jupyter-widgets/controls",
          "model_name": "HTMLModel",
          "model_module_version": "1.5.0",
          "state": {
            "_dom_classes": [],
            "_model_module": "@jupyter-widgets/controls",
            "_model_module_version": "1.5.0",
            "_model_name": "HTMLModel",
            "_view_count": null,
            "_view_module": "@jupyter-widgets/controls",
            "_view_module_version": "1.5.0",
            "_view_name": "HTMLView",
            "description": "",
            "description_tooltip": null,
            "layout": "IPY_MODEL_2331536ad4784dfbb6c7e20dc55eb563",
            "placeholder": "​",
            "style": "IPY_MODEL_92f4d569fd9f4a03a401b44110c71e50",
            "value": "100%"
          }
        },
        "c4f8dcbea12f44208a7e4571c2995611": {
          "model_module": "@jupyter-widgets/controls",
          "model_name": "FloatProgressModel",
          "model_module_version": "1.5.0",
          "state": {
            "_dom_classes": [],
            "_model_module": "@jupyter-widgets/controls",
            "_model_module_version": "1.5.0",
            "_model_name": "FloatProgressModel",
            "_view_count": null,
            "_view_module": "@jupyter-widgets/controls",
            "_view_module_version": "1.5.0",
            "_view_name": "ProgressView",
            "bar_style": "success",
            "description": "",
            "description_tooltip": null,
            "layout": "IPY_MODEL_730e04ff9c834196959bc57e82be4956",
            "max": 170498071,
            "min": 0,
            "orientation": "horizontal",
            "style": "IPY_MODEL_180240754c824d1eb62845f9c432ece9",
            "value": 170498071
          }
        },
        "3d66bed2708e4ee8b4491cbd47f591cf": {
          "model_module": "@jupyter-widgets/controls",
          "model_name": "HTMLModel",
          "model_module_version": "1.5.0",
          "state": {
            "_dom_classes": [],
            "_model_module": "@jupyter-widgets/controls",
            "_model_module_version": "1.5.0",
            "_model_name": "HTMLModel",
            "_view_count": null,
            "_view_module": "@jupyter-widgets/controls",
            "_view_module_version": "1.5.0",
            "_view_name": "HTMLView",
            "description": "",
            "description_tooltip": null,
            "layout": "IPY_MODEL_63e9df29be734f57a3b85f0a7dab12de",
            "placeholder": "​",
            "style": "IPY_MODEL_f8e60ccd9ae648e891759dd6c09be54a",
            "value": " 170498071/170498071 [00:01&lt;00:00, 107710180.16it/s]"
          }
        },
        "8b14dedd4e5d4004904e5ed2ab3ca057": {
          "model_module": "@jupyter-widgets/base",
          "model_name": "LayoutModel",
          "model_module_version": "1.2.0",
          "state": {
            "_model_module": "@jupyter-widgets/base",
            "_model_module_version": "1.2.0",
            "_model_name": "LayoutModel",
            "_view_count": null,
            "_view_module": "@jupyter-widgets/base",
            "_view_module_version": "1.2.0",
            "_view_name": "LayoutView",
            "align_content": null,
            "align_items": null,
            "align_self": null,
            "border": null,
            "bottom": null,
            "display": null,
            "flex": null,
            "flex_flow": null,
            "grid_area": null,
            "grid_auto_columns": null,
            "grid_auto_flow": null,
            "grid_auto_rows": null,
            "grid_column": null,
            "grid_gap": null,
            "grid_row": null,
            "grid_template_areas": null,
            "grid_template_columns": null,
            "grid_template_rows": null,
            "height": null,
            "justify_content": null,
            "justify_items": null,
            "left": null,
            "margin": null,
            "max_height": null,
            "max_width": null,
            "min_height": null,
            "min_width": null,
            "object_fit": null,
            "object_position": null,
            "order": null,
            "overflow": null,
            "overflow_x": null,
            "overflow_y": null,
            "padding": null,
            "right": null,
            "top": null,
            "visibility": null,
            "width": null
          }
        },
        "2331536ad4784dfbb6c7e20dc55eb563": {
          "model_module": "@jupyter-widgets/base",
          "model_name": "LayoutModel",
          "model_module_version": "1.2.0",
          "state": {
            "_model_module": "@jupyter-widgets/base",
            "_model_module_version": "1.2.0",
            "_model_name": "LayoutModel",
            "_view_count": null,
            "_view_module": "@jupyter-widgets/base",
            "_view_module_version": "1.2.0",
            "_view_name": "LayoutView",
            "align_content": null,
            "align_items": null,
            "align_self": null,
            "border": null,
            "bottom": null,
            "display": null,
            "flex": null,
            "flex_flow": null,
            "grid_area": null,
            "grid_auto_columns": null,
            "grid_auto_flow": null,
            "grid_auto_rows": null,
            "grid_column": null,
            "grid_gap": null,
            "grid_row": null,
            "grid_template_areas": null,
            "grid_template_columns": null,
            "grid_template_rows": null,
            "height": null,
            "justify_content": null,
            "justify_items": null,
            "left": null,
            "margin": null,
            "max_height": null,
            "max_width": null,
            "min_height": null,
            "min_width": null,
            "object_fit": null,
            "object_position": null,
            "order": null,
            "overflow": null,
            "overflow_x": null,
            "overflow_y": null,
            "padding": null,
            "right": null,
            "top": null,
            "visibility": null,
            "width": null
          }
        },
        "92f4d569fd9f4a03a401b44110c71e50": {
          "model_module": "@jupyter-widgets/controls",
          "model_name": "DescriptionStyleModel",
          "model_module_version": "1.5.0",
          "state": {
            "_model_module": "@jupyter-widgets/controls",
            "_model_module_version": "1.5.0",
            "_model_name": "DescriptionStyleModel",
            "_view_count": null,
            "_view_module": "@jupyter-widgets/base",
            "_view_module_version": "1.2.0",
            "_view_name": "StyleView",
            "description_width": ""
          }
        },
        "730e04ff9c834196959bc57e82be4956": {
          "model_module": "@jupyter-widgets/base",
          "model_name": "LayoutModel",
          "model_module_version": "1.2.0",
          "state": {
            "_model_module": "@jupyter-widgets/base",
            "_model_module_version": "1.2.0",
            "_model_name": "LayoutModel",
            "_view_count": null,
            "_view_module": "@jupyter-widgets/base",
            "_view_module_version": "1.2.0",
            "_view_name": "LayoutView",
            "align_content": null,
            "align_items": null,
            "align_self": null,
            "border": null,
            "bottom": null,
            "display": null,
            "flex": null,
            "flex_flow": null,
            "grid_area": null,
            "grid_auto_columns": null,
            "grid_auto_flow": null,
            "grid_auto_rows": null,
            "grid_column": null,
            "grid_gap": null,
            "grid_row": null,
            "grid_template_areas": null,
            "grid_template_columns": null,
            "grid_template_rows": null,
            "height": null,
            "justify_content": null,
            "justify_items": null,
            "left": null,
            "margin": null,
            "max_height": null,
            "max_width": null,
            "min_height": null,
            "min_width": null,
            "object_fit": null,
            "object_position": null,
            "order": null,
            "overflow": null,
            "overflow_x": null,
            "overflow_y": null,
            "padding": null,
            "right": null,
            "top": null,
            "visibility": null,
            "width": null
          }
        },
        "180240754c824d1eb62845f9c432ece9": {
          "model_module": "@jupyter-widgets/controls",
          "model_name": "ProgressStyleModel",
          "model_module_version": "1.5.0",
          "state": {
            "_model_module": "@jupyter-widgets/controls",
            "_model_module_version": "1.5.0",
            "_model_name": "ProgressStyleModel",
            "_view_count": null,
            "_view_module": "@jupyter-widgets/base",
            "_view_module_version": "1.2.0",
            "_view_name": "StyleView",
            "bar_color": null,
            "description_width": ""
          }
        },
        "63e9df29be734f57a3b85f0a7dab12de": {
          "model_module": "@jupyter-widgets/base",
          "model_name": "LayoutModel",
          "model_module_version": "1.2.0",
          "state": {
            "_model_module": "@jupyter-widgets/base",
            "_model_module_version": "1.2.0",
            "_model_name": "LayoutModel",
            "_view_count": null,
            "_view_module": "@jupyter-widgets/base",
            "_view_module_version": "1.2.0",
            "_view_name": "LayoutView",
            "align_content": null,
            "align_items": null,
            "align_self": null,
            "border": null,
            "bottom": null,
            "display": null,
            "flex": null,
            "flex_flow": null,
            "grid_area": null,
            "grid_auto_columns": null,
            "grid_auto_flow": null,
            "grid_auto_rows": null,
            "grid_column": null,
            "grid_gap": null,
            "grid_row": null,
            "grid_template_areas": null,
            "grid_template_columns": null,
            "grid_template_rows": null,
            "height": null,
            "justify_content": null,
            "justify_items": null,
            "left": null,
            "margin": null,
            "max_height": null,
            "max_width": null,
            "min_height": null,
            "min_width": null,
            "object_fit": null,
            "object_position": null,
            "order": null,
            "overflow": null,
            "overflow_x": null,
            "overflow_y": null,
            "padding": null,
            "right": null,
            "top": null,
            "visibility": null,
            "width": null
          }
        },
        "f8e60ccd9ae648e891759dd6c09be54a": {
          "model_module": "@jupyter-widgets/controls",
          "model_name": "DescriptionStyleModel",
          "model_module_version": "1.5.0",
          "state": {
            "_model_module": "@jupyter-widgets/controls",
            "_model_module_version": "1.5.0",
            "_model_name": "DescriptionStyleModel",
            "_view_count": null,
            "_view_module": "@jupyter-widgets/base",
            "_view_module_version": "1.2.0",
            "_view_name": "StyleView",
            "description_width": ""
          }
        }
      }
    }
  },
  "nbformat": 4,
  "nbformat_minor": 0
}